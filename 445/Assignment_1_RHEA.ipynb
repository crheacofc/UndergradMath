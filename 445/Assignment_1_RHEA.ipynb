{
 "cells": [
  {
   "cell_type": "markdown",
   "metadata": {},
   "source": [
    "## Problem 1:\n",
    "Consider the task of computing the positive n-th root $r = a^{1/n}$ of a positive number a by fixed-point iteration with\n",
    "$$g(x) = \\frac{(n-1)x+a/x^{n-1}}{n} $$\n",
    "### a)\n",
    "Show that the sequence of iterations given by $x_{k+1} = g(x_k)$ does indeed converge to $r = a^{1/n}$ for any positive initial value $x_0$."
   ]
  },
  {
   "cell_type": "markdown",
   "metadata": {},
   "source": [
    "#### SOLUTION:\n",
    "To show the FPI converges we must show that $|g′(r)|<1$ where $g(x) = \\frac{(n-1)x+a/x^{n-1}}{n}$ and $r = a^{1/n}$."
   ]
  },
  {
   "cell_type": "markdown",
   "metadata": {},
   "source": [
    "$$g(x) = \\frac{(n-1)x}{n}+\\frac{ax^{1-n}}{n} $$\n",
    "$$g'(x) = \\frac{n-1}{n}+\\frac{a(1-n)x^n}{n} $$\n",
    "$$g'(x) = \\frac{n-1}{n}[1-ax^n]$$"
   ]
  },
  {
   "cell_type": "markdown",
   "metadata": {},
   "source": [
    "Hence lets find $g'(r)$ where $r = a^{1/n}$\n",
    "$$g'(r) = \\frac{n-1}{n}[1-a*a^{\\frac{n}{n}}] $$\n",
    "$$g'(r) = 0 $$\n",
    "Thus $|g'(r)| < 1 $\n",
    "Hence the sequence of iterations does converge to $r=a^{1/n}$ for any positive initial value $x_0$ (note that we never took note of what value was assigned to $x_0$ in our convergence calculations...)."
   ]
  },
  {
   "cell_type": "markdown",
   "metadata": {},
   "source": [
    "## b) \n",
    "how that this convergence is super-linear; that is:\n",
    "$$\\lim_{k\\to\\infty} \\frac{|e_{k+1}|}{|e_k|} = 0$$\n",
    "where $e_k = r − x_k$"
   ]
  },
  {
   "cell_type": "markdown",
   "metadata": {},
   "source": [
    "Now to determine if the convergence is super-linear we need to see if $|g'(r)| = 0$. Solving $$f(x)=0=x^k-a$$ yields the root $x=a^{1/k}$."
   ]
  },
  {
   "cell_type": "markdown",
   "metadata": {},
   "source": [
    "$$g'(x)=\\frac{k-1}{k}x+\\frac{a}{kx^{k-1}}=\\frac{k-1}{k}+\\frac{0-a[k(k-1)x^{k-1}]}{(kx^{k-1})^2}=\\frac{k-1}{k}-\\frac{a(k-1)}{kx^k} $$\n",
    "Hence plugging in $r=a^{1/k}$ for $x$ yields $$\\frac{1-k}{k}-\\frac{a(k-1)}{k(a^{1/k})^k}= \\frac{1-k}{k}-\\frac{a(1-k)}{ak}= \\frac{1-k}{k}-\\frac{1-k}{k}=0$$\n",
    "\n",
    "Therefore we have super-linear convergence!"
   ]
  },
  {
   "cell_type": "markdown",
   "metadata": {},
   "source": [
    "# Problem 2\n",
    "For the case of a double root, $f(r) = 0, f′(r) = 0, f′′(r)\\neq 0$, show that the convergence of Newton’s method is only linear, with contraction constant $1/2$; that is:\n",
    "$$\\lim_{k\\to\\infty} \\frac{|e_{k+1}|}{|e_k|} = 1/2.$$"
   ]
  },
  {
   "cell_type": "markdown",
   "metadata": {},
   "source": [
    "### SOLUTION:\n",
    "#### CLAIM: For multiple roots, the contraction constant is $\\frac{m-1}{m}$ where m represents the first non-zero derivative.\n",
    "####Our Simplest Case:\n",
    "The simplest multiple roots case is $f(x) = (x-r)^2$, hence $f'(x) = 2(x-r)$.\n",
    "\n",
    "Thus, \n",
    " $$x_{n+1}=x_n-\\frac{(x_n-r)^2}{2(x_n-r)} = \\frac{1}{2}(x_n+r) $$\n",
    "Hence,\n",
    "$$e_{n+1} = r-x_{n+1} = r-\\frac{r+x_n}{2} = \\frac{1}{2}(r-x_n) = \\frac{1}{2}e_n$$"
   ]
  },
  {
   "cell_type": "markdown",
   "metadata": {},
   "source": [
    "#### And now with Taylor Polynomials.....\n",
    "A lot of the equations I am substituting in were covered during class so  I will not be including them explicitly or proving them.\n",
    "$$e_{k+1} =x-x_{k+1}=x-(x_k-\\frac{f(x_k)}{f'(x_k)})=e_k-e_k+\\frac{ce_k^2+Oe_k^3}{2ce_k+Oe_k^2}=\\frac{ce_k^2+Oe_k^3}{2ce_k'+Oe_k^2}$$\n",
    "Hence, $$e_{k+1}=e_k\\frac{ce_k+Oe_k^2}{2ce_k+Oe_k^2} \\leq e_k\\frac{ce_k}{2ce_k}=e_k\\frac{1}{2}$$\n",
    "Therefore, as desired,\n",
    "$$|\\frac{e_{k+1}}{e_k}| \\leq \\frac{1}{2} $$"
   ]
  },
  {
   "cell_type": "markdown",
   "metadata": {},
   "source": [
    "#### Proof of General Formula:\n",
    "Assume for a function with $m$ roots, the contraction constant is $\\frac{m-1}{m}$"
   ]
  },
  {
   "cell_type": "markdown",
   "metadata": {},
   "source": [
    "Consider the case of $f(x) = (x-r)^{m+1}$.\n",
    "\n",
    "Thus,\n",
    "$$x_{n+1} = x_n -\\frac{(x_n-r)^{m+1}}{(m+1)(x_n-r)^m}=\\frac{(m+1)x_n-(x_n-r)}{m+1}=\\frac{mx_n+r}{m+1} $$\n",
    "Hence, \n",
    "$$e_{n+1}=r-x_{n+1}=r-\\frac{mx_n-r}{m+1}=\\frac{(m+1)r-mx_n+r}{m+1}=\\frac{mr-mx_n}{m+1}=\\frac{m}{m+1}e_n $$"
   ]
  },
  {
   "cell_type": "markdown",
   "metadata": {},
   "source": [
    "There our equation holds!\n",
    "Hence a double root corresponds to $m=2$.\n",
    "Thus our contraction constant is $$\\frac{m-1}{m}=\\frac{2-1}{2}=\\frac{1}{2}$$\n",
    "as required!"
   ]
  },
  {
   "cell_type": "markdown",
   "metadata": {},
   "source": [
    "# Problem 3\n",
    "Iterative methods can often be accelerated byi ncreasing the size of the step taken by a carefully chosen factor ω > 1. (This will be particularly useful with linear algebra, where it is called over-relaxation.) For Newton’s method, an accelerated version is\n",
    "$$x_{k+1} =x_k −ω\\frac{f(x_k)}{f′(x_k)}$$\n",
    "For the above case of a double root, find a value of the acceleration factor ω that restores super-linear convergence."
   ]
  },
  {
   "cell_type": "markdown",
   "metadata": {},
   "source": [
    "### SOLUTION:\n",
    "Modified Newton's Method claims that if the multiplicity of a root is known then Newton's Method can be augmented thus:\n",
    "$$x_{n+1}=x_n-m\\frac{f(x_n)}{f'(x_n)} $$\n",
    "In our case the multiplicity is equal to 2, thus we should let $\\omega=2$."
   ]
  },
  {
   "cell_type": "code",
   "execution_count": null,
   "metadata": {
    "collapsed": true
   },
   "outputs": [],
   "source": []
  }
 ],
 "metadata": {
  "kernelspec": {
   "display_name": "Python 3",
   "language": "python",
   "name": "python3"
  },
  "language_info": {
   "codemirror_mode": {
    "name": "ipython",
    "version": 3
   },
   "file_extension": ".py",
   "mimetype": "text/x-python",
   "name": "python",
   "nbconvert_exporter": "python",
   "pygments_lexer": "ipython3",
   "version": "3.6.0"
  }
 },
 "nbformat": 4,
 "nbformat_minor": 0
}
