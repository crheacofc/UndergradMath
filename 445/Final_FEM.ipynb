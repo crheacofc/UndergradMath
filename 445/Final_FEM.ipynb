{
 "cells": [
  {
   "cell_type": "markdown",
   "metadata": {
    "deletable": true,
    "editable": true
   },
   "source": [
    "# Explorations into the Finite Element Method\n",
    "## Carter Rhea\n",
    "### April 14, 2016 - April 28, 2016"
   ]
  },
  {
   "cell_type": "markdown",
   "metadata": {
    "deletable": true,
    "editable": true
   },
   "source": [
    "# Main test case: \n",
    "$$-u''(x)+q(x)u(x)=f(x) $$"
   ]
  },
  {
   "cell_type": "markdown",
   "metadata": {
    "deletable": true,
    "editable": true
   },
   "source": [
    "In order to use the weak form of the ODE we must first employ the \"Method of Weighted Residuals\". The residual for our case is simply: $$R(x) = -u''(x)+q(x)u(x)-f(x) $$\n",
    "Thus to complete the method of weighted residuals we have\n",
    "$$\\int{w(x)R(x)}=\\int{w(x)\\big(-u''(x)+q(x)u(x)-f(x)}\\big) $$\n",
    "Note that through integration by parts: $$\\int{-w(x)\\frac{d^2u}{d^2x}} = \\int{\\frac{dw}{dx}\\frac{du}{dx}}dx-\\int{w(x)\\frac{du}{dx}}d \\Gamma $$\n",
    "where the $d \\Gamma$ integral refers to the boundary condition.\n"
   ]
  },
  {
   "cell_type": "markdown",
   "metadata": {
    "deletable": true,
    "editable": true
   },
   "source": [
    "Thus plugging in we get, \n",
    "$$\\int{\\frac{dw}{dx}\\frac{du}{dx}+q(x)w(x)u(x) dx} = \\int{f(x)w(x)dx}+\\int{w(x)\\frac{du}{dx}d \\Gamma} $$"
   ]
  },
  {
   "cell_type": "markdown",
   "metadata": {
    "deletable": true,
    "editable": true
   },
   "source": [
    "Now we must make the leap and approximate our solution $u(x)$ as \n",
    "$$u_{app} = \\sum_{j=1}^n U_jS_j(x) $$\n",
    "where $S_j(x)=\\delta_{ij}$\n",
    "Substituting this in we get, \n",
    "$$\\int{\\frac{dw}{dx}\\sum_{j=1}^n U_jS_j(x)+q(x)w(x)\\sum_{j=1}^n U_jS_j(x) dx} = \\int{f(x)w(x)dx}+\\int{wSVd\\Gamma} $$\n",
    "where SV refers to the boundary values."
   ]
  },
  {
   "cell_type": "markdown",
   "metadata": {
    "deletable": true,
    "editable": true
   },
   "source": [
    "$$\\sum_{j=1}^n\\Big( \\int  { \\frac{dw}{dx} \\frac{dS_j(x)}{du} + q(x)w(x)S_j(x)dx }\\Big) U_j = \\int{f(x)w(x)dx}+\\int{w(x)SVd\\Gamma}$$\n",
    "In other notation,\n",
    "$$[K]\\{U\\}=\\{F\\}+\\{B\\}$$\n",
    "where K is the stiffness matrix.\n",
    "Since we are using the Galerkin method $w(x)=S_i$"
   ]
  },
  {
   "cell_type": "markdown",
   "metadata": {
    "deletable": true,
    "editable": true
   },
   "source": [
    "$$K_{ij} = \\int{\\frac{dS_i}{dx}\\frac{dS_j}{dx}+q(x)S_iS_jdx} $$\n",
    "$$F_{i} = \\int{f(x)S_idx} $$\n",
    "$$B \\rightarrow Boundary $$"
   ]
  },
  {
   "cell_type": "markdown",
   "metadata": {
    "deletable": true,
    "editable": true
   },
   "source": [
    "For our $S_j(x)=\\delta_{ij}$ we examine one element to see our change of coordinates."
   ]
  },
  {
   "cell_type": "markdown",
   "metadata": {
    "deletable": true,
    "editable": true
   },
   "source": [
    "Here is our initial element using the \"hats\" - kronecker delta. The first image is a pre-transformation image and the final image is post-transformation "
   ]
  },
  {
   "cell_type": "markdown",
   "metadata": {
    "collapsed": true,
    "deletable": true,
    "editable": true
   },
   "source": [
    "<img src=\"445_final_base_element.pdf\">"
   ]
  },
  {
   "cell_type": "markdown",
   "metadata": {
    "deletable": true,
    "editable": true
   },
   "source": [
    "<img src=\"445_final_trans.pdf\">"
   ]
  },
  {
   "cell_type": "markdown",
   "metadata": {
    "deletable": true,
    "editable": true
   },
   "source": [
    "Hence $S_1 = \\frac{1}{2}(1-\\xi)$ and $S_2 = \\frac{1}{2}(1+\\xi)$ which correlates to a transformation of \n",
    "$$x = \\frac{h^e}{2}\\xi +\\frac{x_1^e+x_2^e}{2} $$ \n",
    "where $h^e = x_2^e-x_1^e$"
   ]
  },
  {
   "cell_type": "markdown",
   "metadata": {
    "deletable": true,
    "editable": true
   },
   "source": [
    "Therefore, with our coordinate change, we can rewrite our stiffness matrix noting that $\\frac{dS}{dx}=\\frac{dS}{d\\xi}\\frac{d\\xi}{dx} $\n",
    "$$K_{ij}=\\int_{-1}^1{\\Big(\\big(\\frac{dS_i}{d\\xi}\\frac{d\\xi}{dx}\\big) \\big(\\frac{dS_j}{d\\xi}\\frac{d\\xi}{dx}\\big) + qS_iS_j\\Big)}\\frac{dx}{d\\xi} d\\xi$$"
   ]
  },
  {
   "cell_type": "markdown",
   "metadata": {
    "deletable": true,
    "editable": true
   },
   "source": [
    "It is worth nothing that $$\\frac{dx}{d\\xi} = \\frac{h^e}{2}=J^e$$"
   ]
  },
  {
   "cell_type": "markdown",
   "metadata": {
    "deletable": true,
    "editable": true
   },
   "source": [
    "Thus we have,\n",
    "$$K_{ij}=\\int_{-1}^1{\\Big(\\big(\\frac{dS_i}{d\\xi}\\frac{1}{J^e}\\big) \\big(\\frac{dS_j}{d\\xi}\\frac{1}{J^e}\\big) + qS_iS_j\\Big)}J^e d\\xi$$"
   ]
  },
  {
   "cell_type": "markdown",
   "metadata": {
    "deletable": true,
    "editable": true
   },
   "source": [
    "And $$F_I^e = \\int_{-1}^1{S_i \\ f(\\xi)J^e d \\xi} $$"
   ]
  },
  {
   "cell_type": "markdown",
   "metadata": {
    "deletable": true,
    "editable": true
   },
   "source": [
    "Since we only have 2 $S$ equations we need to calculate only $K_{11},K_{12},K_{21},K_{22}$ and $F_1,F_2$ and then assemble the matrix based on them, created a tridiagonal matrix!"
   ]
  },
  {
   "cell_type": "code",
   "execution_count": 1,
   "metadata": {
    "collapsed": false,
    "deletable": true,
    "editable": true
   },
   "outputs": [],
   "source": [
    "import numpy as np\n",
    "import scipy.misc\n",
    "import scipy as sp\n",
    "import matplotlib.pyplot as plt\n",
    "%matplotlib inline\n",
    "from FEM import Stiff,F"
   ]
  },
  {
   "cell_type": "markdown",
   "metadata": {
    "collapsed": true,
    "deletable": true,
    "editable": true
   },
   "source": [
    "## Test Case:\n",
    " For a test case I will be solving the equation $$-y'' + y = sin(ax), \\  t\\in (0,\\pi)$$\n",
    " both analytically and numerically in order to asses errors."
   ]
  },
  {
   "cell_type": "markdown",
   "metadata": {
    "deletable": true,
    "editable": true
   },
   "source": [
    "## Numerical Solving"
   ]
  },
  {
   "cell_type": "code",
   "execution_count": 2,
   "metadata": {
    "collapsed": false,
    "deletable": true,
    "editable": true
   },
   "outputs": [],
   "source": [
    "n_elements = 100\n",
    "s_elements = 2\n",
    "start = 0\n",
    "end = 2*np.pi\n",
    "q = 1\n",
    "a = 1\n",
    "B_init = np.zeros(n_elements)\n",
    "B_start = np.sin(a*start)\n",
    "B_end = np.sin(a*end)\n",
    "B_init[0] = B_start\n",
    "B_init[-1] = B_end\n",
    "\n",
    "def S_i(x):\n",
    "    return (1/2)*(1-x)\n",
    "\n",
    "def S_j(x):\n",
    "    return (1/2)*(1+x)\n",
    "    \n",
    "def K(S_i,S_j,dS_i,dS_j,q,J,x):\n",
    "    return ((dS_i/J)*(dS_j/J)+q*S_i*S_j)*J\n",
    "\n",
    "def f(x):\n",
    "    return np.sin(a*x)"
   ]
  },
  {
   "cell_type": "code",
   "execution_count": 3,
   "metadata": {
    "collapsed": false,
    "deletable": true,
    "editable": true
   },
   "outputs": [],
   "source": [
    "spacing = np.linspace(start,end,n_elements)"
   ]
  },
  {
   "cell_type": "code",
   "execution_count": 4,
   "metadata": {
    "collapsed": false,
    "deletable": true,
    "editable": true
   },
   "outputs": [],
   "source": [
    "K_matrix = Stiff(K,S_i,S_j,q,n_elements,s_elements,start,end);\n",
    "F_matrix = F(f,S_i,S_j,n_elements,s_elements,start,end);\n",
    "B_matrix = B_init"
   ]
  },
  {
   "cell_type": "code",
   "execution_count": 5,
   "metadata": {
    "collapsed": false,
    "deletable": true,
    "editable": true
   },
   "outputs": [
    {
     "data": {
      "text/plain": [
       "array([[ 31.87287652, -15.90502233,   0.        , ...,   0.        ,\n",
       "          0.        ,   0.        ],\n",
       "       [-15.90502233,  31.87287652, -15.90502233, ...,   0.        ,\n",
       "          0.        ,   0.        ],\n",
       "       [  0.        , -15.90502233,  31.87287652, ...,   0.        ,\n",
       "          0.        ,   0.        ],\n",
       "       ..., \n",
       "       [  0.        ,   0.        ,   0.        , ...,  31.87287652,\n",
       "        -15.90502233,   0.        ],\n",
       "       [  0.        ,   0.        ,   0.        , ..., -15.90502233,\n",
       "         31.87287652, -15.90502233],\n",
       "       [  0.        ,   0.        ,   0.        , ...,   0.        ,\n",
       "        -15.90502233,  31.87287652]])"
      ]
     },
     "execution_count": 5,
     "metadata": {},
     "output_type": "execute_result"
    }
   ],
   "source": [
    "K_matrix"
   ]
  },
  {
   "cell_type": "markdown",
   "metadata": {
    "deletable": true,
    "editable": true
   },
   "source": [
    "### Solving the matrix via my software"
   ]
  },
  {
   "cell_type": "code",
   "execution_count": 6,
   "metadata": {
    "collapsed": false,
    "deletable": true,
    "editable": true
   },
   "outputs": [],
   "source": [
    "from FEM import LUalgobanded, solveUnitLowerTriangularbanded, solveUnitUpperTriangularbanded"
   ]
  },
  {
   "cell_type": "markdown",
   "metadata": {
    "deletable": true,
    "editable": true
   },
   "source": [
    "Since we know the boundary conditions, we can nix the initial and final row/column.\n",
    "So keep in mind that with our example we let the boundary conditions be such that the $x_{initial}=0$ and $x_{final}=0$."
   ]
  },
  {
   "cell_type": "code",
   "execution_count": 7,
   "metadata": {
    "collapsed": false,
    "deletable": true,
    "editable": true
   },
   "outputs": [],
   "source": [
    "L_stiff,U_stiff = LUalgobanded(K_matrix,1)"
   ]
  },
  {
   "cell_type": "code",
   "execution_count": 8,
   "metadata": {
    "collapsed": false,
    "deletable": true,
    "editable": true
   },
   "outputs": [],
   "source": [
    "C_stiff = solveUnitLowerTriangularbanded(L_stiff,F_matrix,1)"
   ]
  },
  {
   "cell_type": "code",
   "execution_count": 9,
   "metadata": {
    "collapsed": false,
    "deletable": true,
    "editable": true
   },
   "outputs": [],
   "source": [
    "Sol_stiff = np.zeros(n_elements)\n",
    "Sol_stiff = solveUnitUpperTriangularbanded(U_stiff,C_stiff,1)"
   ]
  },
  {
   "cell_type": "code",
   "execution_count": 10,
   "metadata": {
    "collapsed": false,
    "deletable": true,
    "editable": true
   },
   "outputs": [
    {
     "data": {
      "text/plain": [
       "[<matplotlib.lines.Line2D at 0x10dd3ee10>]"
      ]
     },
     "execution_count": 10,
     "metadata": {},
     "output_type": "execute_result"
    },
    {
     "data": {
      "image/png": "[encoded data removed]",
      "text/plain": [
       "<matplotlib.figure.Figure at 0x10435a780>"
      ]
     },
     "metadata": {},
     "output_type": "display_data"
    }
   ],
   "source": [
    "plt.plot(spacing,Sol_stiff)"
   ]
  },
  {
   "cell_type": "markdown",
   "metadata": {
    "deletable": true,
    "editable": true
   },
   "source": [
    "### Solve with Scipy.linalg.solve"
   ]
  },
  {
   "cell_type": "code",
   "execution_count": 11,
   "metadata": {
    "collapsed": true,
    "deletable": true,
    "editable": true
   },
   "outputs": [],
   "source": [
    "Scipy_sol = sp.linalg.solve(K_matrix,F_matrix+B_matrix)"
   ]
  },
  {
   "cell_type": "code",
   "execution_count": 12,
   "metadata": {
    "collapsed": false,
    "deletable": true,
    "editable": true
   },
   "outputs": [
    {
     "data": {
      "text/plain": [
       "[<matplotlib.lines.Line2D at 0x10f807cf8>]"
      ]
     },
     "execution_count": 12,
     "metadata": {},
     "output_type": "execute_result"
    },
    {
     "data": {
      "image/png": "[encoded data removed]",
      "text/plain": [
       "<matplotlib.figure.Figure at 0x10dd13c50>"
      ]
     },
     "metadata": {},
     "output_type": "display_data"
    }
   ],
   "source": [
    "plt.plot(spacing,Scipy_sol)"
   ]
  },
  {
   "cell_type": "markdown",
   "metadata": {
    "deletable": true,
    "editable": true
   },
   "source": [
    "### Exact Solution"
   ]
  },
  {
   "cell_type": "markdown",
   "metadata": {
    "deletable": true,
    "editable": true
   },
   "source": [
    "Let's quickly find the exact solution.\n",
    "$$y''+y=sin(ax)$$\n",
    "So my guess is $y=Asin(ax) \\rightarrow y''=-Aa^2sin(ax)$\n",
    "Hence plugging in we get,\n",
    "$$Aa^2sin(ax)+Asin(ax)=sin(x)$$\n",
    "\n",
    "$$A = \\frac{1}{1+a^2} $$\n",
    "Therefore,\n",
    "$$y=\\frac{1}{1+a^2}sin(ax)$$"
   ]
  },
  {
   "cell_type": "code",
   "execution_count": 13,
   "metadata": {
    "collapsed": false,
    "deletable": true,
    "editable": true
   },
   "outputs": [],
   "source": [
    "exact = lambda x: (1/(1+a**2))*np.sin(a*x)\n",
    "exact_val = np.zeros(n_elements)\n",
    "for i in range(n_elements):\n",
    "    exact_val[i] = exact(spacing[i])"
   ]
  },
  {
   "cell_type": "code",
   "execution_count": 14,
   "metadata": {
    "collapsed": false,
    "deletable": true,
    "editable": true
   },
   "outputs": [
    {
     "data": {
      "text/plain": [
       "[<matplotlib.lines.Line2D at 0x10fa13a90>]"
      ]
     },
     "execution_count": 14,
     "metadata": {},
     "output_type": "execute_result"
    },
    {
     "data": {
      "image/png": "[encoded data removed]",
      "text/plain": [
       "<matplotlib.figure.Figure at 0x10e213c88>"
      ]
     },
     "metadata": {},
     "output_type": "display_data"
    }
   ],
   "source": [
    "plt.plot(spacing,exact_val)"
   ]
  },
  {
   "cell_type": "markdown",
   "metadata": {
    "collapsed": true,
    "deletable": true,
    "editable": true
   },
   "source": [
    "## Errors:\n",
    "We are going to check the errors comparing the exact solution to the scipy solving software and my banded algo software."
   ]
  },
  {
   "cell_type": "code",
   "execution_count": 15,
   "metadata": {
    "collapsed": false,
    "deletable": true,
    "editable": true
   },
   "outputs": [
    {
     "name": "stdout",
     "output_type": "stream",
     "text": [
      "The maximum error between the exact solution and my banded algorithm solution is 0.031471016971\n",
      "The maximum error between the exact solution and the scipy algorithm solution is 0.031471016971\n"
     ]
    }
   ],
   "source": [
    "exact_vs_banded_error_max = sp.linalg.norm(exact_val-Sol_stiff,np.inf)\n",
    "exact_vs_scipy_error_max = sp.linalg.norm(exact_val-Scipy_sol,np.inf)\n",
    "print(\"The maximum error between the exact solution and my banded algorithm solution is %s\"%exact_vs_banded_error_max)\n",
    "print(\"The maximum error between the exact solution and the scipy algorithm solution is %s\"%exact_vs_scipy_error_max)"
   ]
  },
  {
   "cell_type": "code",
   "execution_count": 16,
   "metadata": {
    "collapsed": false,
    "deletable": true,
    "editable": true
   },
   "outputs": [
    {
     "data": {
      "image/png": "[encoded data removed]",
      "text/plain": [
       "<matplotlib.figure.Figure at 0x10fa1e588>"
      ]
     },
     "metadata": {},
     "output_type": "display_data"
    }
   ],
   "source": [
    "exact_vs_banded_line = plt.plot(spacing,exact_val-Sol_stiff,label=\"exact vs banded\")\n",
    "exact_vs_scipy_line = plt.plot(spacing,exact_val-Scipy_sol,label=\"exact vs scipy\")\n",
    "legend = plt.legend(loc='upper center', shadow=True)"
   ]
  },
  {
   "cell_type": "markdown",
   "metadata": {
    "deletable": true,
    "editable": true
   },
   "source": [
    "Hence we can say that my banded software is doing essentially the same as scipy's built in software. More importantly, my Finite Element Method code is functioning properly. For furter test cases I will just be using scipy software to solve the matrix equation."
   ]
  },
  {
   "cell_type": "markdown",
   "metadata": {
    "deletable": true,
    "editable": true
   },
   "source": [
    "And now lets see if the error truly follows the $O(h^2)$ decrease that we are supposed to see..."
   ]
  },
  {
   "cell_type": "code",
   "execution_count": 17,
   "metadata": {
    "collapsed": false,
    "deletable": true,
    "editable": true
   },
   "outputs": [
    {
     "name": "stdout",
     "output_type": "stream",
     "text": [
      "The max error for n= 100 is 0.031471016971\n",
      "The max error for n= 200 is 0.0157142504092\n",
      "The max error for n= 400 is 0.00785455742262\n"
     ]
    }
   ],
   "source": [
    "for n_el in [100,200,400]:\n",
    "    spacing = np.linspace(start,end,n_el)\n",
    "    K_matrix = Stiff(K,S_i,S_j,q,n_el,s_elements,start,end);\n",
    "    F_matrix = F(f,S_i,S_j,n_el,s_elements,start,end);\n",
    "    Scipy_sol = sp.linalg.solve(K_matrix,F_matrix)\n",
    "    exact_val = np.zeros(n_el)\n",
    "    for i in range(n_el):\n",
    "        exact_val[i] = exact(spacing[i])\n",
    "    err = sp.linalg.norm(exact_val-Scipy_sol,np.inf)\n",
    "    print(\"The max error for n= %s is %s\"%(n_el,err))"
   ]
  },
  {
   "cell_type": "markdown",
   "metadata": {
    "deletable": true,
    "editable": true
   },
   "source": [
    "The error is approximately being halved everytime we half h so we are seeing an error of approxiamtely O(h)."
   ]
  },
  {
   "cell_type": "markdown",
   "metadata": {
    "collapsed": true,
    "deletable": true,
    "editable": true
   },
   "source": [
    "# Next Main Test Form:\n",
    "$$-u''+p(x)u'+q(x)u=f(x) $$"
   ]
  },
  {
   "cell_type": "markdown",
   "metadata": {
    "deletable": true,
    "editable": true
   },
   "source": [
    "To start solving lets first let $A(x)=e^{-\\int{p(x)}dx}$.\n",
    "\n",
    "Thus multiplying our test equation by $A$ we get,\n",
    "$$-A(x)u''+A(x)p(x)u'+A(x)q(x)u=A(x)f(x) $$\n",
    "Since $Au''+A(x)p(x)u' = A(x)u'$ by the chain rule, we can fix up our equation to:\n",
    "$$-\\big(A(x)u'\\big)'+Q(x)u=F(x) $$ \n",
    "where $Q(x) = A(x)q(x)$ and $F(x) = A(x)f(x)$\n",
    " \n",
    "Once again using the \"Method of Weighted Residuals\" in order to obtain the Weak Form of the ODE...\n",
    "$$\\int{-w(x)\\big(A(x)u'\\big)'+w(x)Q(x)u}=\\int{w(x)F(x)} $$\n",
    "It is certainly worth noting that $$\\int{-w(x)\\big(A(x)u'\\big)'}=\\int{\\frac{dw}{dx}A(x)u'dx}-\\int{w(x)A(x)u'd\\Gamma}$$\n",
    "where $d\\Gamma$ just represents our boundary.\n",
    "Now everything proceeds like the previous example:\n",
    "$$\\int{A(x)\\frac{dw}{dx}\\frac{du}{dx}+Q(x)w(x)u(x) dx} = \\int{F(x)w(x)dx}+\\int{A(x)w(x)\\frac{du}{dx}d \\Gamma} $$\n"
   ]
  },
  {
   "cell_type": "markdown",
   "metadata": {
    "deletable": true,
    "editable": true
   },
   "source": [
    "Now we must make the leap and approximate our solution $u(x)$ as \n",
    "$$u_{app} = \\sum_{j=1}^n U_jS_j(x) $$\n",
    "where $S_j(x)=\\delta_{ij}$\n",
    "Substituting this in we get, \n",
    "$$\\int{A(x)\\frac{dw}{dx}\\sum_{j=1}^n U_jS_j(x)+Q(x)w(x)\\sum_{j=1}^n U_jS_j(x) dx} = \\int{F(x)w(x)dx}+\\int{A(x)w(x)SVd\\Gamma} $$\n",
    "where SV refers to the boundary values."
   ]
  },
  {
   "cell_type": "markdown",
   "metadata": {
    "deletable": true,
    "editable": true
   },
   "source": [
    "$$\\sum_{j=1}^n\\Big( \\int  {A(x) \\frac{dw}{dx} \\frac{dS_j(x)}{du} + Q(x)w(x)S_j(x)dx }\\Big) U_j = \\int{F(x)w(x)dx}+\\int{A(x)w(x)SVd\\Gamma}$$\n",
    "In other notation,\n",
    "$$[K]\\{U\\}=\\{F\\}+\\{B\\}$$\n",
    "where K is the stiffness matrix.\n",
    "Since we are using the Galerkin method $w(x)=S_i$"
   ]
  },
  {
   "cell_type": "markdown",
   "metadata": {
    "deletable": true,
    "editable": true
   },
   "source": [
    "$$K_{ij} = \\int{A(x)\\frac{dS_i}{dx}\\frac{dS_j}{dx}+Q(x)S_iS_jdx} $$\n",
    "$$F_{i} = \\int{F(x)S_idx} $$\n",
    "$$B \\rightarrow Boundary $$"
   ]
  },
  {
   "cell_type": "markdown",
   "metadata": {
    "deletable": true,
    "editable": true
   },
   "source": [
    "Using the same hat functions as before the transformation follows in the same exact manner...\n",
    "Hence, \n",
    " $$K_{ij}=\\int_{-1}^1{\\Big(A(x)\\big(\\frac{dS_i}{d\\xi}\\frac{1}{J^e}\\big) \\big(\\frac{dS_j}{d\\xi}\\frac{1}{J^e}\\big) + Q(x)S_iS_j\\Big)}J^e d\\xi$$\n",
    "And $$F_I^e = \\int_{-1}^1{S_i \\ F(\\xi)J^e d \\xi} $$"
   ]
  },
  {
   "cell_type": "code",
   "execution_count": 18,
   "metadata": {
    "collapsed": false,
    "deletable": true,
    "editable": true
   },
   "outputs": [],
   "source": [
    "n_elements = 100\n",
    "s_elements = 2\n",
    "start = 0\n",
    "end = 2*np.pi\n",
    "def A(x): return x\n",
    "def Q(x): return 2\n",
    "B_init = np.zeros(n_elements)\n",
    "B_start = np.sin(a*start)\n",
    "B_end = np.sin(a*end)\n",
    "B_init[0] = B_start\n",
    "B_init[-1] = B_end\n",
    "\n",
    "def S_i(x):\n",
    "    return (1/2)*(1-x)\n",
    "\n",
    "def S_j(x):\n",
    "    return (1/2)*(1+x)\n",
    "    \n",
    "def K(S_i,S_j,dS_i,dS_j,q,J,x):\n",
    "    return ((A(x)*dS_i/J)*(dS_j/J)+Q(x)*S_i*S_j)*J\n",
    "\n",
    "def f(x):\n",
    "    return x**2"
   ]
  },
  {
   "cell_type": "code",
   "execution_count": 19,
   "metadata": {
    "collapsed": false,
    "deletable": true,
    "editable": true
   },
   "outputs": [],
   "source": [
    "spacing = np.linspace(start,end,n_elements)\n",
    "K_matrix = Stiff(K,S_i,S_j,q,n_elements,s_elements,start,end);\n",
    "F_matrix = F(f,S_i,S_j,n_elements,s_elements,start,end);\n",
    "Scipy_sol = sp.linalg.solve(K_matrix,F_matrix)"
   ]
  },
  {
   "cell_type": "code",
   "execution_count": 20,
   "metadata": {
    "collapsed": false,
    "deletable": true,
    "editable": true
   },
   "outputs": [
    {
     "data": {
      "text/plain": [
       "[<matplotlib.lines.Line2D at 0x10fce7630>]"
      ]
     },
     "execution_count": 20,
     "metadata": {},
     "output_type": "execute_result"
    },
    {
     "data": {
      "image/png": "[encoded data removed]",
      "text/plain": [
       "<matplotlib.figure.Figure at 0x10fa193c8>"
      ]
     },
     "metadata": {},
     "output_type": "display_data"
    }
   ],
   "source": [
    "plt.plot(spacing,Scipy_sol)"
   ]
  },
  {
   "cell_type": "code",
   "execution_count": null,
   "metadata": {
    "collapsed": true,
    "deletable": true,
    "editable": true
   },
   "outputs": [],
   "source": []
  }
 ],
 "metadata": {
  "anaconda-cloud": {},
  "kernelspec": {
   "display_name": "Python 3",
   "language": "python",
   "name": "python3"
  },
  "language_info": {
   "codemirror_mode": {
    "name": "ipython",
    "version": 3
   },
   "file_extension": ".py",
   "mimetype": "text/x-python",
   "name": "python",
   "nbconvert_exporter": "python",
   "pygments_lexer": "ipython3",
   "version": "3.6.1"
  }
 },
 "nbformat": 4,
 "nbformat_minor": 0
}
