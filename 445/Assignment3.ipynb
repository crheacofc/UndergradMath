{
 "cells": [
  {
   "cell_type": "markdown",
   "metadata": {},
   "source": [
    "# Assignment 3\n",
    "## Carter Rhea\n",
    "### March 28, 2016"
   ]
  },
  {
   "cell_type": "markdown",
   "metadata": {},
   "source": [
    "# Problem 1\n",
    "One way to get an intuitive assessment of the accuracy and stability of a numerical method for solving ODE initial value problems in the form\n",
    "$$\\frac{dx}{dt}=f(t,x), x(a)=xa$$\n",
    " is to apply it to a single time-step in each of two basic test cases:\n",
    " \n",
    "(i) The integration $\\frac{dx}{dt} = f(t)$, exact solution $x(t + h) = x(t) +  \\int_t^{t+h} f (s) ds$.\n",
    "\n",
    " \n",
    "(ii) The exponential equation $\\frac{dx}{dt} = \\lambda x$, exact solution $x(t + h) = x(t)e^{h\\lambda}$.\n",
    " \n",
    " \n",
    "Apply this idea to a single step of the (classical) four-stage Runge-Kutta method:\n",
    "\n",
    "### a) \n",
    "Verify that for the integration case (i), the result is the same as with Simpson’s rule, so that the Runge-Kutta method is fourth-order accurate in this case."
   ]
  },
  {
   "cell_type": "markdown",
   "metadata": {},
   "source": [
    "## SOLUTION\n",
    "Using the classical Runge-Kutta $4^{th}$ order we have,\n",
    "$$\\int_t^{t+h}f(s)ds=\\frac{1}{6}(K_1+2K_2+2K_3+K_4)$$\n",
    "Based on the differential equation we have $f(t,x)=f(t)$\n",
    "Hence plugging this into the RK we have\n",
    "$$K_1=hf(t)$$\n",
    "\n",
    "$$K_2=hf(t+1/2h)$$\n",
    "\n",
    "$$K_3=hf(t+1/2h)$$\n",
    "\n",
    "$$K_4=hf(t+h)$$\n",
    "Thus $$x(t+h) = x(t) + \\frac{1}{6}\\big(h(f(t)+4hf(t+\\frac{1}{2}h)+hf(t+h)\\big)$$\n",
    "which is Simpson's rule. Therefore we have RK as a $4^{th}$ order method for this basic case!"
   ]
  },
  {
   "cell_type": "markdown",
   "metadata": {},
   "source": [
    "### b) \n",
    "Verify that for case (ii), the time-stepping formula is\n",
    "$$x(t + h) ≈ x(t)p(h\\lambda)$$\n",
    "\n",
    "where $p(\\xi)$ is a polynomial in $\\xi = h\\lambda$."
   ]
  },
  {
   "cell_type": "markdown",
   "metadata": {},
   "source": [
    "## SOLUTION\n",
    "Based on the differential equation we have $f(t,x)=\\lambda x$. Hence plugging this into the RK we have\n",
    "$$K_1=h\\lambda x $$\n",
    "\n",
    "$$K_2 = h\\lambda \\big(x+1/2(h\\lambda x)\\big) = h\\lambda x + \\frac{1}{2} h^2\\lambda^2 x  $$\n",
    "\n",
    "$$K_3 = h\\lambda \\Big(x+\\frac{1}{2}\\big(h\\lambda x +\\frac{1}{2}h^2\\lambda^2 x\\big)\\Big) = h\\lambda x + \\frac{1}{2}h^2 \\lambda^2 x + \\frac{1}{4}h^3\\lambda^3 x $$\n",
    "\n",
    "$$K_4 = h\\lambda( x + h\\lambda x + \\frac{1}{2}h^2 \\lambda^2 x + \\frac{1}{4}h^3\\lambda^3 x) = h\\lambda x + h^2\\lambda^2 x + \\frac{1}{2}h^3 \\lambda^3 x + \\frac{1}{4}h^4\\lambda^4 x$$"
   ]
  },
  {
   "cell_type": "markdown",
   "metadata": {},
   "source": [
    "Hence,\n",
    "\\begin{equation}\n",
    "\\begin{split}\n",
    "x(t+h) = x \\frac{1}{6}\\Big(h\\lambda x + 2h\\lambda x +  h^2\\lambda^2 x +  2h\\lambda x + h^2 \\lambda^2 x + \\frac{1}{2}h^3\\lambda^3 x\n",
    "  h\\lambda x + h^2\\lambda^2 x + \\frac{1}{2}h^3 \\lambda^3 x + \\frac{1}{4}h^4\\lambda^4 \\Big) \\\\\n",
    "= x + \\frac{1}{6}\\Big(6h\\lambda x + 3h^2\\lambda^2 x + h^3\\lambda^3 x + \\frac{1}{4} h^4\\lambda^4 x \\Big) \\\\\n",
    "= x + h\\lambda x + \\frac{1}{2}h^2\\lambda^2 x + \\frac{1}{6}h^3\\lambda^3 x + \\frac{1}{24} h^4\\lambda^4 x \\\\\n",
    "= x + x\\Big(h\\lambda  + \\frac{1}{2}h^2\\lambda^2  + \\frac{1}{6}h^3\\lambda^3  + \\frac{1}{24} h^4\\lambda^4  \\Big) \\\\\n",
    "= x\\Big(1+h\\lambda  + \\frac{1}{2}h^2\\lambda^2  + \\frac{1}{6}h^3\\lambda^3  + \\frac{1}{24} h^4\\lambda^4  \\Big)\n",
    "\\end{split}\n",
    "\\end{equation}\n"
   ]
  },
  {
   "cell_type": "markdown",
   "metadata": {},
   "source": [
    "Thus we have what we were trying to demonstrate since if we allow $h\\lambda = \\xi$ we then have a polynomial in $\\xi$, as required."
   ]
  },
  {
   "cell_type": "markdown",
   "metadata": {},
   "source": [
    "### c)\n",
    "By comparing $p(h\\lambda)$ to the factor $e^{h\\lambda}$ in the exact solution, show that the error in this single step is $O(h^5)$, so that the method is fourth-order accurate for this case too."
   ]
  },
  {
   "cell_type": "markdown",
   "metadata": {},
   "source": [
    "## SOLUTION\n",
    "Note that our polynomial is the $4^{th}$ order Taylor polynomial for $e^{h\\lambda}$. Therefore the error in a single step is $O(h^5)$!"
   ]
  },
  {
   "cell_type": "markdown",
   "metadata": {},
   "source": [
    "# Problem 2\n",
    "The initial value problem\n",
    "$\\frac{dx}{dt} = x^{1/3}, x(0) = 0 $\n",
    "has two solutions for $t ≥ 0: x_1(t) = 0$, and $x_2(t) =  2t$ . If the Runge-Kutta\n",
    "method is applied, what happens? Can you see what happens with other ones-step methods seen so far? What is the moral here?\n",
    "\n",
    "Here we have $f(x,t) = x^{1/3} $ "
   ]
  },
  {
   "cell_type": "markdown",
   "metadata": {},
   "source": [
    "## SOLUTION\n",
    "\n",
    "$$K_1 = hx^{1/3}$$\n",
    "\n",
    "$$K_2 = h\\big(x+\\frac{1}{2}hx^{1/3}\\big)^{1/3}$$\n",
    "\n",
    "$$K_3 = h\\Big(x+h\\big(x+\\frac{1}{2}hx^{1/3}\\big)^{1/3}\\Big)^{1/3}$$ \n",
    "\n",
    "$$K_4 = h\\bigg(x+h\\Big(x+h\\big(x+\\frac{1}{2}hx^{1/3}\\big)^{1/3}\\Big)^{1/3}\\bigg)^{1/3}$$"
   ]
  },
  {
   "cell_type": "markdown",
   "metadata": {},
   "source": [
    "Thus starting with our initial condition $x(0)=0$ we get\n",
    "$$K_1=0,K_2=0,K_3=0,K_4=0$$\n",
    "Hence x(t+h) = 0 for any time.\n",
    "It is readily seen how this would continue for further t values. But in case you dont believe this I will show using RK4 code from last semester (or project 2)..."
   ]
  },
  {
   "cell_type": "code",
   "execution_count": 1,
   "metadata": {
    "collapsed": true
   },
   "outputs": [],
   "source": [
    "from ODE_IVP_module import *"
   ]
  },
  {
   "cell_type": "code",
   "execution_count": 2,
   "metadata": {
    "collapsed": false
   },
   "outputs": [
    {
     "name": "stdout",
     "output_type": "stream",
     "text": [
      "The best estimate according to the Runge-Kutta method for the differential equation dx/dt = x^(1/3) is 0 \n"
     ]
    }
   ],
   "source": [
    "def f(t,x): return x**(1/3)\n",
    "init = 0\n",
    "a = 0\n",
    "b = 10\n",
    "n = 1000\n",
    "y4 = Runge_Kutta(f,init,a,b,n)\n",
    "print(\"The best estimate according to the Runge-Kutta method for the differential equation dx/dt = x^(1/3) is %s \"%(y4))"
   ]
  },
  {
   "cell_type": "markdown",
   "metadata": {},
   "source": [
    "Hence we can see it runs into the solution of $x_1(t) = 0$.\n",
    "The same will happen for other one-step methods since they are so dependent on the initial condition (which should be no surprise). The moral of this is that the Initial Value Matters!"
   ]
  },
  {
   "cell_type": "markdown",
   "metadata": {
    "collapsed": true
   },
   "source": [
    "# Problem 3"
   ]
  },
  {
   "cell_type": "markdown",
   "metadata": {},
   "source": [
    "Suppose that with a certain machine arithmetic model (such as IEEE 64-bit), the Runge-Kutta method applied to a certain ODE IVP on the interval $[a, b]$ using fixed step size $h = \\frac{b-a}{n}$ has truncation error $9nh^5$ and round-off error $36n2^{−50}$.\n",
    "\n",
    "What is the optimal value of $h$, in the sense of minimizing total error, how many time steps are involved, and what is that minimal possible attainable error?"
   ]
  },
  {
   "cell_type": "markdown",
   "metadata": {},
   "source": [
    "## SOLUTION\n",
    "To find an optimal value of h we should simply add our truncation error and rounding error as our error function and then optimize it...\n",
    "\n",
    "Note that $n=\\frac{b-a}{h}$\n",
    "\n",
    "Hence,\n",
    "\n",
    "$$E(h) = 9nh^5+36n2^{-50}=9\\Big(\\frac{b-a}{h}\\Big)h^5+36\\Big(\\frac{b-a}{h}\\Big)2^{-50}=9(b-a)h^4+36\\Big(\\frac{b-a}{h}\\Big)2^{-50} $$\n",
    "\n",
    "$$E'(h) = 63(b-a)h^3-\\frac{36(b-a)2^{-50}}{h^2} = 0 $$\n",
    "\n",
    "Hence we get,\n",
    "$$h^5 = 2^{-50}$$\n",
    "\n",
    "$$h = \\sqrt[5]{2^{-50}} = \\frac{1}{1024} $$"
   ]
  },
  {
   "cell_type": "markdown",
   "metadata": {},
   "source": [
    "Hence our minimal amount of time steps is\n",
    "$$n=\\frac{b-a}{\\frac{1}{1024}} = 1024(b-a)$$"
   ]
  },
  {
   "cell_type": "markdown",
   "metadata": {},
   "source": [
    "And plugging these values into $E(h)$ we get,\n",
    "$$E(h)=9(b-a)\\Big(\\frac{1}{1024}\\Big)^4+36(1024(b-a))2^{-50} = \\frac{45(b-a)}{1099511627776}$$"
   ]
  }
 ],
 "metadata": {
  "kernelspec": {
   "display_name": "Python 3",
   "language": "python",
   "name": "python3"
  },
  "language_info": {
   "codemirror_mode": {
    "name": "ipython",
    "version": 3
   },
   "file_extension": ".py",
   "mimetype": "text/x-python",
   "name": "python",
   "nbconvert_exporter": "python",
   "pygments_lexer": "ipython3",
   "version": "3.6.0"
  }
 },
 "nbformat": 4,
 "nbformat_minor": 0
}
