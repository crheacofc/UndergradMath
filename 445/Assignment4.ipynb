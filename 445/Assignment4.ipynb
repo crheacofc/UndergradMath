{
 "cells": [
  {
   "cell_type": "markdown",
   "metadata": {},
   "source": [
    "# Assignment 4\n",
    "## Carter Rhea\n",
    "### April 19, 2016\n"
   ]
  },
  {
   "cell_type": "markdown",
   "metadata": {},
   "source": [
    "# Problem 1\n",
    "Consider the problem of solving the following system of second order ODEs with either your code for the system for the Runge_kutta method or with one of the methods provided in scipy.integrate.ode:\n",
    "$$\\frac{d^2y}{dt^2} = sin(yz)+cos(t)z$$\n",
    "$$\\frac{d^2x}{dt^2} = cos(yz)+e^ty$$"
   ]
  },
  {
   "cell_type": "markdown",
   "metadata": {},
   "source": [
    "## a) \n",
    "Rewrite as a first order system of four equations\n"
   ]
  },
  {
   "cell_type": "markdown",
   "metadata": {},
   "source": [
    "First we can rewrite the variables as such:\n",
    "$$y = x_1 $$ $$ y' = x_2 $$ $$ z = x_3 $$ $$ z' = x_4 $$"
   ]
  },
  {
   "cell_type": "markdown",
   "metadata": {},
   "source": [
    "Giving us the differential equations:\n",
    "$$x_1' = x_2$$\n",
    "\n",
    "$$x_2' = sin(x_1x_2)+cos(t)x_3 $$\n",
    "\n",
    "$$x_3' = x_4$$\n",
    "\n",
    "$$x_4' = cos(x_1x_3)+e^tx_1$$"
   ]
  },
  {
   "cell_type": "markdown",
   "metadata": {},
   "source": [
    "## b)\n",
    "Now make it autonomous!"
   ]
  },
  {
   "cell_type": "markdown",
   "metadata": {},
   "source": [
    "$$t = x_0$$ $$y = x_1 $$ $$ y' = x_2 $$ $$ z = x_3 $$ $$ z' = x_4 $$\n",
    "With the differential equations\n",
    "$$x_0' = 1$$\n",
    "\n",
    "$$x_1' = x_2$$\n",
    "\n",
    "$$x_2' = sin(x_1x_2)+cos(x_0)x_3 $$\n",
    "\n",
    "$$x_3' = x_4$$\n",
    "\n",
    "$$x_4' = cos(x_1x_3)+e^{x_0}x_1$$"
   ]
  },
  {
   "cell_type": "markdown",
   "metadata": {},
   "source": [
    "# Problem 2\n",
    "The simplest implicit method, sometimes useful for handling stiff equations, is the Backward Euler, which is based on the backward difference approximation of the derivative,\n",
    "$$\\frac{du}{dt}=\\frac{u(t)-u(t-h)}{h}$$\n",
    "leading to $$u(t+h) \\approx u(t)+hf(t+h,u(t+h))$$\n",
    "Thus we are solving \n",
    "$$u_{i+1} = u_i +hf(t_{i+1},u_{i+1}) $$\n",
    "\n",
    "## a)\n",
    "Solve this for the test equation $du/dt = -Ku$, and show that it never has the catastrophic geometric growth."
   ]
  },
  {
   "cell_type": "markdown",
   "metadata": {},
   "source": [
    "### SOLUTION\n",
    "$$u_{i+1} = u_i+hku_{i+1}$$\n",
    "\n",
    "$$u_{i+1}(1-hk) = u_i$$\n",
    "\n",
    "$$u_{i+1} = \\frac{u_i}{1-hk}$$\n",
    "\n",
    "$$u_n = \\frac{u_0}{(1-hk)^n}$$\n",
    "Thus if we consider the case where $K<0$ it is clearly seen that $1-hk>0$ for all values of $k$ and $h$ since $h>0$ by default. Thus we never have geometric growth and only decay!"
   ]
  },
  {
   "cell_type": "markdown",
   "metadata": {},
   "source": [
    "## b) \n",
    "Determine its order of accuracy.\n",
    "$$u(t+h) = u(t)+hf(t+h,u(t+h)) $$\n",
    "So we need to check out the taylor expansion for $f(t+h,u(t+h))$\n",
    "For simplicity's sake lets call $K = u(t+h)-u(t) \\approx u'h+u''h^2$\n",
    "$$f(t+h,u+k) \\approx f(t,u) +\\frac{df}{dt}h+\\frac{df}{du}k+O(h^2+k^2)$$\n",
    "Note that $$\\frac{d}{dt}[f(t,u(t))] = \\frac{d^2u}{dt^2} = \\frac{df}{dt}+\\frac{df}{du}\\frac{du}{dt}$$\n",
    "\n",
    "Thus with some substitution we get,\n",
    "$$f(t+h,u+k) \\approx f(t,u)+\\frac{df}{dt}h+\\frac{df}{du}\\Big(\\frac{du}{dt}h+\\frac{1}{2}\\frac{d^2u}{dt^2}h^2\\Big) +O(h^2+k^2) $$\n",
    "\n",
    "$$f(t+h,u+k) \\approx f(t,u)+\\Big(\\frac{df}{dt}h+\\frac{df}{du}\\frac{du}{dt}h\\Big)+\\frac{1}{2}\\frac{df}{du}\\frac{d^2u}{dt^2}h^2 +O(h^2+k^2) $$\n",
    "\n",
    "\n",
    "$$f(t+h,u+k) \\approx f(t,u)+\\frac{d^2u}{dt^2}h+\\frac{1}{2}\\frac{df}{du}\\frac{d^2u}{dt^2}h^2 +O(h^2+k^2) $$\n"
   ]
  },
  {
   "cell_type": "markdown",
   "metadata": {},
   "source": [
    "# Problem 4\n",
    "Consider an implicit multistep method for the format\n",
    "$$u_i = a_1u_{i-1}+a_2u_{i-2}+b_0hf(t_i,u_i) $$\n",
    "## a)\n",
    "Verify that this is second order accurate with the coefficient choices\n",
    "$$a_1=4/3, a_2=-1/3, b_0 =2/3 $$"
   ]
  },
  {
   "cell_type": "markdown",
   "metadata": {},
   "source": [
    "### SOLUTION\n",
    "$$u(t) \\approx a_1u(t-h)+a_2u(t-2h)+b_0hf(t,u(t))$$\n",
    "So lets approximate $u(t-h)$ and $u(t-2h)$ around center $t$ and in power of $h$.\n",
    "$$u(t-h) \\approx u(t)-hf(t,u(t))+O(h^2)$$ \n",
    "$$u(t-2h) \\approx u(t)-2hf(t,u(t))+O(h^2) $$\n",
    "\n",
    "$$u(t) \\approx \\frac{4}{3}\\Big(u(t)-hf(t,u)+O(h^2)\\Big)-\\frac{1}{3}\\Big(u(t)-2hf(t,u)+O(h^2) \\Big)+\\frac{2}{3}hf(t,u(t))$$\n",
    "\n",
    "$$u(t) \\approx \\frac{4}{3}u(t)-\\frac{4}{3}hf(t,u)+O(h^2) - \\frac{1}{3}u(t)+\\frac{2}{3}hf(t,u)+O(h^2) + \\frac{2}{3}hf(t,u(t))$$\n",
    "\n",
    "$$u(t) \\approx u(t)+0(h^2) $$\n"
   ]
  },
  {
   "cell_type": "markdown",
   "metadata": {
    "collapsed": true
   },
   "source": [
    "# Problem 5\n",
    "If A is any $6x6$ matrix with the eigenvalues $-8,-3,1,2,5,7,$ determine which eigenvalues each of the following methods will find:\n",
    "\n",
    "(a) The Power Method\n",
    "\n",
    "(b) The inverse power method\n",
    "\n",
    "(c) The shifted inverse power method with shift $s=4$"
   ]
  },
  {
   "cell_type": "markdown",
   "metadata": {},
   "source": [
    "## Solution\n",
    "(a) The power method finds the eigenvalue with the largest absolute value so it would find $\\lambda =-8$\n",
    "\n",
    "(b) The inverse power method finds the eigenvalue with the smallest absolute value so it would find $\\lambda=1$\n",
    "\n",
    "(c) The shifted inverse power method with shift $s=4$ would go four from the smallest (1) and thus pick up $\\lambda=5$."
   ]
  },
  {
   "cell_type": "code",
   "execution_count": null,
   "metadata": {
    "collapsed": true
   },
   "outputs": [],
   "source": []
  }
 ],
 "metadata": {
  "kernelspec": {
   "display_name": "Python 3",
   "language": "python",
   "name": "python3"
  },
  "language_info": {
   "codemirror_mode": {
    "name": "ipython",
    "version": 3
   },
   "file_extension": ".py",
   "mimetype": "text/x-python",
   "name": "python",
   "nbconvert_exporter": "python",
   "pygments_lexer": "ipython3",
   "version": "3.6.0"
  }
 },
 "nbformat": 4,
 "nbformat_minor": 0
}
