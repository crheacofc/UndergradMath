{
 "cells": [
  {
   "cell_type": "markdown",
   "metadata": {},
   "source": [
    "# PROJECT 2\n",
    "## Carter Rhea"
   ]
  },
  {
   "cell_type": "code",
   "execution_count": 65,
   "metadata": {
    "collapsed": false
   },
   "outputs": [],
   "source": [
    "from ODE_IVP_module import *\n",
    "from ODE_IVP_VECTOR import *\n",
    "import numpy as np\n",
    "import matplotlib.pyplot as plt\n",
    "%matplotlib inline"
   ]
  },
  {
   "cell_type": "code",
   "execution_count": 66,
   "metadata": {
    "collapsed": false
   },
   "outputs": [],
   "source": [
    "a = 0.\n",
    "b = 2.*np.pi\n",
    "init = 1.\n",
    "K=1.\n",
    "def g(t,y):\n",
    "    return np.cos(t)-K*(y-np.sin(t))"
   ]
  },
  {
   "cell_type": "markdown",
   "metadata": {},
   "source": [
    "## Exact Solution of ODE:\n",
    "Here I shall solve the ODE exactly so we can compare it to the numerical scheme.\n",
    "$$\\frac{dx}{dt} = cos(t)-kx+ksin(t) $$\n",
    "$$\\frac{dx}{dt} + kx = cos(t)+ksin(t) $$\n",
    "Since this is linear we can solve it using the integrating factor... which is $I = e^{kt}$\n",
    "\n",
    "$$xe^{kt} = \\int{e^{kt}cos(t)}+ke^{kt}sin(t) dt $$\n",
    "For ease I will break the integral into two parts and proceed to do integration by parts...\n",
    "$$\n",
    "I_1 = e^{kt}sin(t)-k\\int{sin(t)e^{kt}}dt \\\\\n",
    "I_1= e^{kt}sin(t)+ke^{kt}cos(t)-k^2\\int{cos(t)e^{kt}} \\\\\n",
    "I_1= \\frac{e^{kt}sin(t)+ke^{kt}cos(t)}{1+k^2}\n",
    "$$\n",
    "$$\n",
    "I_2 = -ke^{kt}cos(t)-k^2\\int{cos(t)e^{kt}}dt \\\\\n",
    "I_2= -ke^{kt}cos(t)+k^2e^{kt}sin(t)-k^3\\int{sin(t)e^{kt}} \\\\\n",
    "I_2= \\frac{-ke^{kt}cos(t)+k^2e^{kt}sin(t)}{1+k^2}\n",
    "$$\n",
    "Hence our integral is:\n",
    "$$\n",
    "xe^{kt} = \\frac{e^{kt}sin(t)+ke^{kt}cos(t)}{1+k^2} + \\frac{-ke^{kt}cos(t)+k^2e^{kt}sin(t)}{1+k^2} + c\\\\\n",
    "xe^{kt} = \\frac{e^{kt}sin(t)+k^2e^{kt}sin(t)}{1+k^2} + c \\\\\n",
    "xe^{kt} = e^{kt}sin(t) + c\n",
    "$$\n",
    "Thus with a bit of division and plugging in our initial condition we obtain,\n",
    "$$x = sin(t) + init*e^{-kt} $$\n"
   ]
  },
  {
   "cell_type": "markdown",
   "metadata": {},
   "source": [
    "### The search for a good step size"
   ]
  },
  {
   "cell_type": "markdown",
   "metadata": {},
   "source": [
    "Analycially we know that for stability $0<Kh<1$ where $h=(b-a)/n$.\n",
    "Therefore,\n",
    "$$0<Kh<1 $$\n",
    "$$0<K\\frac{b-a}{n} $$\n",
    "$$n>K(b-a)$$"
   ]
  },
  {
   "cell_type": "markdown",
   "metadata": {},
   "source": [
    "Hence for $K = 1, a=0, and \\ b=2$ we must have $n>2$"
   ]
  },
  {
   "cell_type": "code",
   "execution_count": 67,
   "metadata": {
    "collapsed": false
   },
   "outputs": [
    {
     "data": {
      "text/plain": [
       "[<matplotlib.lines.Line2D at 0x1071b9668>,\n",
       " <matplotlib.lines.Line2D at 0x1071b99b0>,\n",
       " <matplotlib.lines.Line2D at 0x106a4f780>]"
      ]
     },
     "execution_count": 67,
     "metadata": {},
     "output_type": "execute_result"
    },
    {
     "data": {
      "image/png": "[encoded data removed]",
      "text/plain": [
       "<matplotlib.figure.Figure at 0x106f97da0>"
      ]
     },
     "metadata": {},
     "output_type": "display_data"
    }
   ],
   "source": [
    "n = 3\n",
    "steps = np.linspace(a,b,n)\n",
    "def exact(t) : return np.sin(t)+ init*np.exp(-K*t)\n",
    "plt.plot(steps,Runge_Kutta(g,init,a,b,n),steps,exact(steps),steps,np.sin(steps))"
   ]
  },
  {
   "cell_type": "markdown",
   "metadata": {},
   "source": [
    "So it works, but it looks really bad!"
   ]
  },
  {
   "cell_type": "code",
   "execution_count": 73,
   "metadata": {
    "collapsed": false
   },
   "outputs": [
    {
     "data": {
      "text/plain": [
       "[<matplotlib.lines.Line2D at 0x1078d0320>,\n",
       " <matplotlib.lines.Line2D at 0x1078d0668>,\n",
       " <matplotlib.lines.Line2D at 0x1078d0e80>]"
      ]
     },
     "execution_count": 73,
     "metadata": {},
     "output_type": "execute_result"
    },
    {
     "data": {
      "image/png": "[encoded data removed]",
      "text/plain": [
       "<matplotlib.figure.Figure at 0x107813d68>"
      ]
     },
     "metadata": {},
     "output_type": "display_data"
    }
   ],
   "source": [
    "n = 40\n",
    "steps = np.linspace(a,b,n)\n",
    "def exact(t) : return np.sin(t)+ init*np.exp(-K*t)\n",
    "plt.plot(steps,Runge_Kutta(g,init,a,b,n),steps,exact(steps),steps,np.sin(steps))"
   ]
  },
  {
   "cell_type": "code",
   "execution_count": 74,
   "metadata": {
    "collapsed": false
   },
   "outputs": [
    {
     "data": {
      "text/plain": [
       "[<matplotlib.lines.Line2D at 0x107ab0908>]"
      ]
     },
     "execution_count": 74,
     "metadata": {},
     "output_type": "execute_result"
    },
    {
     "data": {
      "image/png": "[encoded data removed]",
      "text/plain": [
       "<matplotlib.figure.Figure at 0x107489d68>"
      ]
     },
     "metadata": {},
     "output_type": "display_data"
    }
   ],
   "source": [
    "err = Runge_Kutta(g,init,a,b,n).T-exact(steps);\n",
    "plt.plot(steps,err.T)"
   ]
  },
  {
   "cell_type": "markdown",
   "metadata": {
    "collapsed": true
   },
   "source": [
    "Hence we see that the error iteslef has an exponential sinusoidal form (like the exact solution)"
   ]
  },
  {
   "cell_type": "code",
   "execution_count": 75,
   "metadata": {
    "collapsed": false
   },
   "outputs": [
    {
     "name": "stdout",
     "output_type": "stream",
     "text": [
      "There is a max error of 0.0329084269283\n"
     ]
    }
   ],
   "source": [
    "print(\"There is a max error of %s\"%(err.max()))"
   ]
  },
  {
   "cell_type": "markdown",
   "metadata": {},
   "source": [
    "So lets go ahead and try a little bit of a better n in order to decreate the error. Here ill go ahead and try a series of n values (20,40,80,160) and plot the graphs and errors...."
   ]
  },
  {
   "cell_type": "code",
   "execution_count": 76,
   "metadata": {
    "collapsed": false
   },
   "outputs": [
    {
     "name": "stdout",
     "output_type": "stream",
     "text": [
      "There is a max error of 0.0493553471874 with an n value of 20\n",
      "There is a max error of 0.0329084269283 with an n value of 40\n",
      "There is a max error of 0.0180907668919 with an n value of 80\n",
      "There is a max error of 0.0094625754892 with an n value of 160\n"
     ]
    }
   ],
   "source": [
    "for n in [20,40,80,160]:\n",
    "    steps = np.linspace(a,b,n)\n",
    "    err = Runge_Kutta(g,init,a,b,n).T-exact(steps);\n",
    "    print(\"There is a max error of %s with an n value of %s\"%(err.max(),n))"
   ]
  },
  {
   "cell_type": "markdown",
   "metadata": {},
   "source": [
    "The n value of 20 is reasonable. We probably wouldnt want it to be any lower since then we would not even have a decent plot"
   ]
  },
  {
   "cell_type": "markdown",
   "metadata": {},
   "source": [
    "### k=10\n",
    "Now lets try $k=10$ and redo all of those plots and n-value errors! "
   ]
  },
  {
   "cell_type": "code",
   "execution_count": 77,
   "metadata": {
    "collapsed": false
   },
   "outputs": [
    {
     "name": "stdout",
     "output_type": "stream",
     "text": [
      "There is a max error of 13262.183118 with an n value of 20\n",
      "There is a max error of 0.176995783842 with an n value of 40\n",
      "There is a max error of 0.0692780684053 with an n value of 80\n",
      "There is a max error of 0.0345432139179 with an n value of 160\n"
     ]
    }
   ],
   "source": [
    "K=10.\n",
    "for n in [20,40,80,160]:\n",
    "    steps = np.linspace(a,b,n)\n",
    "    err = Runge_Kutta(g,init,a,b,n).T-exact(steps);\n",
    "    print(\"There is a max error of %s with an n value of %s\"%(err.max(),n))"
   ]
  },
  {
   "cell_type": "code",
   "execution_count": 78,
   "metadata": {
    "collapsed": false
   },
   "outputs": [
    {
     "name": "stdout",
     "output_type": "stream",
     "text": [
      "There is a max error of 0.368648424789 with an n value of 30\n"
     ]
    }
   ],
   "source": [
    "## Lets check n=30 to find the stability...\n",
    "steps = np.linspace(a,b,30)\n",
    "err = Runge_Kutta(g,init,a,b,30).T-exact(steps);\n",
    "print(\"There is a max error of %s with an n value of %s\"%(err.max(),30))"
   ]
  },
  {
   "cell_type": "markdown",
   "metadata": {},
   "source": [
    "Hence it seems that an n value of about 30 is reasonable!"
   ]
  },
  {
   "cell_type": "code",
   "execution_count": 79,
   "metadata": {
    "collapsed": false
   },
   "outputs": [
    {
     "data": {
      "text/plain": [
       "[<matplotlib.lines.Line2D at 0x107b6e668>,\n",
       " <matplotlib.lines.Line2D at 0x107b6e9b0>,\n",
       " <matplotlib.lines.Line2D at 0x107b74780>]"
      ]
     },
     "execution_count": 79,
     "metadata": {},
     "output_type": "execute_result"
    },
    {
     "data": {
      "image/png": "[encoded data removed]",
      "text/plain": [
       "<matplotlib.figure.Figure at 0x10782e4e0>"
      ]
     },
     "metadata": {},
     "output_type": "display_data"
    }
   ],
   "source": [
    "steps = np.linspace(a,b,40)\n",
    "plt.plot(steps,Runge_Kutta(g,init,a,b,n=40),steps,exact(steps),steps,np.sin(steps))"
   ]
  },
  {
   "cell_type": "markdown",
   "metadata": {},
   "source": [
    "### k = 100\n",
    "Here we are going to use the previously used n-values and try some new ones as well!"
   ]
  },
  {
   "cell_type": "code",
   "execution_count": 51,
   "metadata": {
    "collapsed": false
   },
   "outputs": [
    {
     "name": "stdout",
     "output_type": "stream",
     "text": [
      "There is a max error of 2.41007497898e+86 with an n value of 20\n",
      "There is a max error of 4.58247762164e+128 with an n value of 40\n",
      "There is a max error of 3.73260751504e+158 with an n value of 80\n",
      "There is a max error of 2.25057154478e+105 with an n value of 160\n",
      "There is a max error of 0.195563003984 with an n value of 320\n",
      "There is a max error of 0.0137096945988 with an n value of 640\n",
      "There is a max error of 0.00489374563699 with an n value of 1280\n"
     ]
    }
   ],
   "source": [
    "K=100.\n",
    "for n in [20,40,80,160,320,640,1280]:\n",
    "    steps = np.linspace(a,b,n)\n",
    "    err = Runge_Kutta(g,init,a,b,n).T-exact(steps);\n",
    "    print(\"There is a max error of %s with an n value of %s\"%(err.max(),n))"
   ]
  },
  {
   "cell_type": "code",
   "execution_count": 52,
   "metadata": {
    "collapsed": false
   },
   "outputs": [
    {
     "data": {
      "text/plain": [
       "[<matplotlib.lines.Line2D at 0x106dd2748>,\n",
       " <matplotlib.lines.Line2D at 0x106a62278>,\n",
       " <matplotlib.lines.Line2D at 0x106dd87f0>]"
      ]
     },
     "execution_count": 52,
     "metadata": {},
     "output_type": "execute_result"
    },
    {
     "data": {
      "image/png": "[encoded data removed]",
      "text/plain": [
       "<matplotlib.figure.Figure at 0x106a544e0>"
      ]
     },
     "metadata": {},
     "output_type": "display_data"
    }
   ],
   "source": [
    "steps = np.linspace(a,b,200)\n",
    "plt.plot(steps,Runge_Kutta(g,init,a,b,n=200),steps,exact(steps),steps,np.sin(steps))"
   ]
  },
  {
   "cell_type": "markdown",
   "metadata": {},
   "source": [
    "Here we can see with a K value of 100 how horrible 200 steps works! So lets move it to 300!"
   ]
  },
  {
   "cell_type": "code",
   "execution_count": 53,
   "metadata": {
    "collapsed": false
   },
   "outputs": [
    {
     "data": {
      "text/plain": [
       "[<matplotlib.lines.Line2D at 0x106ea1470>,\n",
       " <matplotlib.lines.Line2D at 0x106de9630>,\n",
       " <matplotlib.lines.Line2D at 0x106ea1f60>]"
      ]
     },
     "execution_count": 53,
     "metadata": {},
     "output_type": "execute_result"
    },
    {
     "data": {
      "image/png": "[encoded data removed]",
      "text/plain": [
       "<matplotlib.figure.Figure at 0x106de9668>"
      ]
     },
     "metadata": {},
     "output_type": "display_data"
    }
   ],
   "source": [
    "steps = np.linspace(a,b,300)\n",
    "plt.plot(steps,Runge_Kutta(g,init,a,b,n=300),steps,exact(steps),steps,np.sin(steps))"
   ]
  },
  {
   "cell_type": "markdown",
   "metadata": {},
   "source": [
    "Here we can see how drastically we must change n when we change the K values..."
   ]
  },
  {
   "cell_type": "markdown",
   "metadata": {},
   "source": [
    "### ADAMS BASHFORTH\n",
    "I will be employing the Predictor-Corrector AB method using the basic algorithms defined in our book and in class."
   ]
  },
  {
   "cell_type": "code",
   "execution_count": 54,
   "metadata": {
    "collapsed": false
   },
   "outputs": [],
   "source": [
    "def euler_AB(f,y_init,a,b,n):\n",
    "    y = np.zeros(n)\n",
    "    y[0] = y_init\n",
    "    h = (b-a)/n\n",
    "    t_0=a\n",
    "    for i in range(1,n):\n",
    "        t_i = t_0+i*h\n",
    "        Pred = y[i-1]+(h/24)*(-9*f(t_i-3*h,y[i-3])+37*f(t_i-2*h,y[i-2])-59*f(t_i-h,y[i-1])+55*f(t_i,y[i]))\n",
    "        y[i] = y[i-1]+(h/24)*(f(t_i-2*h,y[i-2])-5*f(t_i-1*h,y[i-1])+19*f(t_i,y[i])+9*f(t_i+h,Pred))\n",
    "    return y[:]"
   ]
  },
  {
   "cell_type": "code",
   "execution_count": 55,
   "metadata": {
    "collapsed": false
   },
   "outputs": [],
   "source": [
    "K = 1.\n",
    "n = 100\n",
    "val = euler_AB(g,init,a,b,n)\n",
    "steps = np.linspace(a,b,n)"
   ]
  },
  {
   "cell_type": "code",
   "execution_count": 56,
   "metadata": {
    "collapsed": false
   },
   "outputs": [
    {
     "data": {
      "text/plain": [
       "[<matplotlib.lines.Line2D at 0x106efc0f0>]"
      ]
     },
     "execution_count": 56,
     "metadata": {},
     "output_type": "execute_result"
    },
    {
     "data": {
      "image/png": "[encoded data removed]",
      "text/plain": [
       "<matplotlib.figure.Figure at 0x106e0acc0>"
      ]
     },
     "metadata": {},
     "output_type": "display_data"
    }
   ],
   "source": [
    "plt.plot(steps,val)"
   ]
  },
  {
   "cell_type": "markdown",
   "metadata": {},
   "source": [
    "Here we can see the asymptotic behavoir of the solutions of the ODE."
   ]
  },
  {
   "cell_type": "markdown",
   "metadata": {
    "collapsed": true
   },
   "source": [
    "## Systems of ODEs and the E-B Beam"
   ]
  },
  {
   "cell_type": "markdown",
   "metadata": {},
   "source": [
    "Take our differential equation:\n",
    "$$y''''(x)=\\frac{f(x)}{IE} $$\n",
    "We are simply going to turn this into a system of first order differential equations as such by allowing $y=U_0,y'=U_1,y''=U_2,y'''=U_3$.\n",
    "\n",
    "$$U_0 = U_1$$\n",
    "$$U_1 = U_2$$\n",
    "$$U_2 = U_3$$\n",
    "$$U_3 = \\frac{f(x)}{IE}$$"
   ]
  },
  {
   "cell_type": "code",
   "execution_count": 57,
   "metadata": {
    "collapsed": false
   },
   "outputs": [],
   "source": [
    "def I(w,d): return (w*d)/12\n",
    "w = 0.3\n",
    "d = 0.03\n",
    "E = 1.3*(10**(10))\n",
    "g = 9.81\n",
    "def f(x): return -480*w*d*g\n",
    "init_beam_cant = [0,0,f(0)/(12*I(w,d)*E),-f(0)/(12*I(w,d)*E)]"
   ]
  },
  {
   "cell_type": "code",
   "execution_count": 58,
   "metadata": {
    "collapsed": true
   },
   "outputs": [],
   "source": [
    "##### Here is our system of functions in python notation to be loaded into the solver.\n",
    "def ydot(t_i,y,i):\n",
    "    z = np.zeros(4)\n",
    "    z[0] = y[1]\n",
    "    z[1] = y[2]\n",
    "    z[2] = y[3]\n",
    "    z[3] = f(i)/(I(w,d)*E)\n",
    "    return z"
   ]
  },
  {
   "cell_type": "code",
   "execution_count": 59,
   "metadata": {
    "collapsed": false
   },
   "outputs": [],
   "source": [
    "val,t = Runge_Kutta_vector(ydot,init_beam_cant,0,2,1000,4)"
   ]
  },
  {
   "cell_type": "code",
   "execution_count": 60,
   "metadata": {
    "collapsed": false
   },
   "outputs": [
    {
     "data": {
      "text/plain": [
       "[<matplotlib.lines.Line2D at 0x106f61400>]"
      ]
     },
     "execution_count": 60,
     "metadata": {},
     "output_type": "execute_result"
    },
    {
     "data": {
      "image/png": "[encoded data removed]",
      "text/plain": [
       "<matplotlib.figure.Figure at 0x106eb4400>"
      ]
     },
     "metadata": {},
     "output_type": "display_data"
    }
   ],
   "source": [
    "plt.plot(np.linspace(0,2,1000),val[:,0])"
   ]
  },
  {
   "cell_type": "code",
   "execution_count": 61,
   "metadata": {
    "collapsed": false
   },
   "outputs": [
    {
     "data": {
      "text/plain": [
       "[<matplotlib.lines.Line2D at 0x106f91278>]"
      ]
     },
     "execution_count": 61,
     "metadata": {},
     "output_type": "execute_result"
    },
    {
     "data": {
      "image/png": "[encoded data removed]",
      "text/plain": [
       "<matplotlib.figure.Figure at 0x106f91198>"
      ]
     },
     "metadata": {},
     "output_type": "display_data"
    }
   ],
   "source": [
    "init_beam = [0,0,f(0)/(3*I(w,d)*E),-f(0)/(I(w,d)*E)]\n",
    "val,t = Runge_Kutta_vector(ydot,init_beam,0,2,1000,4)\n",
    "plt.plot(np.linspace(0,2,1000),val[:,0])"
   ]
  },
  {
   "cell_type": "code",
   "execution_count": null,
   "metadata": {
    "collapsed": true
   },
   "outputs": [],
   "source": []
  },
  {
   "cell_type": "code",
   "execution_count": null,
   "metadata": {
    "collapsed": true
   },
   "outputs": [],
   "source": []
  }
 ],
 "metadata": {
  "kernelspec": {
   "display_name": "Python 3",
   "language": "python",
   "name": "python3"
  },
  "language_info": {
   "codemirror_mode": {
    "name": "ipython",
    "version": 3
   },
   "file_extension": ".py",
   "mimetype": "text/x-python",
   "name": "python",
   "nbconvert_exporter": "python",
   "pygments_lexer": "ipython3",
   "version": "3.4.4"
  }
 },
 "nbformat": 4,
 "nbformat_minor": 0
}
