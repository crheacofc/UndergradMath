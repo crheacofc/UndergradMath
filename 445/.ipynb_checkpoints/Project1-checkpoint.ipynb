{
 "cells": [
  {
   "cell_type": "markdown",
   "metadata": {},
   "source": [
    "# Project 1:\n",
    "### Carter Rhea\n",
    "### February 18, 2016"
   ]
  },
  {
   "cell_type": "code",
   "execution_count": 1,
   "metadata": {
    "collapsed": false
   },
   "outputs": [],
   "source": [
    "import numpy as np\n",
    "import scipy as sp\n",
    "import matplotlib.pyplot as plt\n",
    "from Project1_module import LUalgo, solveUnitLowerTriangular, solveUnitUpperTriangular, errors, LUalgobanded\n",
    "from Project1_module import solveUnitLowerTriangularbanded, solveUnitUpperTriangularbanded\n",
    "from Euler_Bernoulli import E_B,E_B_f,E_B_f_additional, Beam\n",
    "%matplotlib inline "
   ]
  },
  {
   "cell_type": "markdown",
   "metadata": {},
   "source": [
    "### EXAMPLE 1"
   ]
  },
  {
   "cell_type": "code",
   "execution_count": 2,
   "metadata": {
    "collapsed": false
   },
   "outputs": [
    {
     "name": "stdout",
     "output_type": "stream",
     "text": [
      "Matrix A is \n",
      " [[  4.   2.   1.]\n",
      " [  9.   3.   1.]\n",
      " [ 25.   5.   1.]]\n",
      "\n",
      "Matrix b is \n",
      " [[ 0.6931]\n",
      " [ 1.0987]\n",
      " [ 1.6099]]\n"
     ]
    }
   ],
   "source": [
    "A1 = np.matrix([[4.0,2.0,1.0],[9.0,3.0,1.0],[25.0,5.0,1.0]])\n",
    "x1 = np.matrix([-0.05,0.6556,-.4181]).T\n",
    "b1 = np.dot(A1,x1)\n",
    "print(\"Matrix A is \\n %s\"%(A1))\n",
    "print()\n",
    "print(\"Matrix b is \\n %s\"%(b1))"
   ]
  },
  {
   "cell_type": "code",
   "execution_count": 3,
   "metadata": {
    "collapsed": false
   },
   "outputs": [
    {
     "name": "stdout",
     "output_type": "stream",
     "text": [
      "Hence L is \n",
      " [[ 1.    0.    0.  ]\n",
      " [ 2.25  1.    0.  ]\n",
      " [ 6.25  5.    1.  ]] \n",
      " and U is \n",
      " [[ 4.    2.    1.  ]\n",
      " [ 0.   -1.5  -1.25]\n",
      " [ 0.    0.    1.  ]]\n",
      "This gives us the solution \n",
      " [[-0.05  ]\n",
      " [ 0.6556]\n",
      " [-0.4181]]\n"
     ]
    }
   ],
   "source": [
    "L,U = LUalgo(A1)\n",
    "print(\"Hence L is \\n %s \\n and U is \\n %s\"%(L,U))\n",
    "c = solveUnitLowerTriangular(L,b1)\n",
    "x_sol = solveUnitUpperTriangular(U,c)\n",
    "print(\"This gives us the solution \\n %s\"%(x_sol))"
   ]
  },
  {
   "cell_type": "code",
   "execution_count": 4,
   "metadata": {
    "collapsed": false
   },
   "outputs": [
    {
     "name": "stdout",
     "output_type": "stream",
     "text": [
      "This gives a residual vector of \n",
      " [[ -1.11022302e-16]\n",
      " [  0.00000000e+00]\n",
      " [  4.44089210e-16]]\n",
      "With an absolute backwards error of 4.4408920985e-16 and a relative backwards error of 2.75848940835e-16\n",
      "We also obtain an absolute error of 1.11022302463e-16 and a relative error of 1.69344573616e-16\n"
     ]
    }
   ],
   "source": [
    "r,back_abs,back_rel,err_abs,err_rel = errors(A1,x_sol,b1,x1)\n",
    "print(\"This gives a residual vector of \\n %s\"%(r))\n",
    "print(\"With an absolute backwards error of %s and a relative backwards error of %s\"%(back_abs,back_rel))\n",
    "print(\"We also obtain an absolute error of %s and a relative error of %s\"%(err_abs,err_rel))"
   ]
  },
  {
   "cell_type": "markdown",
   "metadata": {
    "collapsed": true
   },
   "source": [
    "## BANDED MATRICES"
   ]
  },
  {
   "cell_type": "code",
   "execution_count": 5,
   "metadata": {
    "collapsed": false
   },
   "outputs": [
    {
     "data": {
      "text/plain": [
       "matrix([[2, 6, 0, 0, 0],\n",
       "        [2, 3, 3, 0, 0],\n",
       "        [0, 3, 5, 3, 0],\n",
       "        [0, 0, 6, 1, 2],\n",
       "        [0, 0, 0, 2, 3]])"
      ]
     },
     "execution_count": 5,
     "metadata": {},
     "output_type": "execute_result"
    }
   ],
   "source": [
    "Ab = np.matrix([[2,6,0,0,0],[2,3,3,0,0],[0,3,5,3,0],[0,0,6,1,2],[0,0,0,2,3]])\n",
    "xb = np.matrix([5,2.2,5,2,3]).T\n",
    "bb = np.dot(Ab,xb)\n",
    "bb\n",
    "Ab\n"
   ]
  },
  {
   "cell_type": "code",
   "execution_count": 6,
   "metadata": {
    "collapsed": false
   },
   "outputs": [],
   "source": [
    "Lb,Ub = LUalgobanded(Ab,1)\n",
    "cb = solveUnitLowerTriangularbanded(Lb,bb,1)\n",
    "xb_sol = solveUnitUpperTriangularbanded(Ub,cb,1)\n"
   ]
  },
  {
   "cell_type": "code",
   "execution_count": 7,
   "metadata": {
    "collapsed": false
   },
   "outputs": [
    {
     "data": {
      "text/plain": [
       "matrix([[ 5. ],\n",
       "        [ 2.2],\n",
       "        [ 5. ],\n",
       "        [ 2. ],\n",
       "        [ 3. ]])"
      ]
     },
     "execution_count": 7,
     "metadata": {},
     "output_type": "execute_result"
    }
   ],
   "source": [
    "xb_sol"
   ]
  },
  {
   "cell_type": "markdown",
   "metadata": {},
   "source": [
    "## MAIN TEST: EULER-BERNOULLI"
   ]
  },
  {
   "cell_type": "markdown",
   "metadata": {},
   "source": [
    "### Method of undetermined coefficients for: y''''(x)"
   ]
  },
  {
   "cell_type": "markdown",
   "metadata": {},
   "source": [
    "$$y''''(a) = C_{-2}y(a-2h)+C_{-1}y(a-h)+C_0y(a)+C_1y(a+h)+C_2y(a+2h)$$\n",
    "We can however use the symmetries : $C_{-2}=C_2=A,C_{-1}=C_1=B,C_0=C $\n",
    "$$(1) f(x)=1 \\rightarrow f''''(a)=0=2A+2B+C  $$\n",
    "$$(2) f(x)=x-a \\rightarrow f''''(a)=0=4hA+2hB $$\n",
    "$$(3) f(x)=(x-a)^2 \\rightarrow f''''(a)=0=8h^2A+2h^2B $$\n",
    "$$(4) f(x)=(x-a)^3 \\rightarrow f''''(a)=0=16h^3A+2h^3B $$\n",
    "$$(5) f(x)=(x-a)^4 \\rightarrow f''''(a)=24=32h^4A+2h^2B $$\n",
    "\n",
    "Hence solving equation (3) we get,\n",
    "$$A=\\frac{-B}{4} $$\n",
    "And pluging this into equation (5) we get,\n",
    "$$B=\\frac{-4}{h^4} $$\n",
    "And giving $$A=\\frac{1}{h^4}$$\n",
    "And plugging into (1) we get,\n",
    "$$C = \\frac{6}{h^4} $$\n",
    "Thus \n",
    "$$y''''(a) = \\frac{y(a-2h)-4y(a-h)+6y(a)-4y(a+h)+y(a+2h)}{h^4} $$"
   ]
  },
  {
   "cell_type": "markdown",
   "metadata": {},
   "source": [
    "### End points!\n",
    "for our end point we have the equation,\n",
    "$$y''''(h)=\\frac{16y(h)-9y(2h)+(8/3)y(3h)-(1/4)y(4h)}{h^4} $$\n",
    "We can start at $f(x)=x^2 $"
   ]
  },
  {
   "cell_type": "markdown",
   "metadata": {},
   "source": [
    "$$f(x)=x^2 \\rightarrow f''''(h) = 0 = \\frac{16h^2-9(4h^2)+(8/3)(9h^2)-(1/4)(16h^2)}{h^4} = 0 $$\n",
    "$$f(x)=x^3 \\rightarrow f''''(h) = 0 = \\frac{16h^3-9(8h^3)+(8/3)(27h^3)-(1/4)(4^4h^3)}{h^4} = 0$$\n",
    "$$f(x)=x^4 \\rightarrow f''''(h) = 24 = \\frac{16h^4-9(16h^4)+(8/3)(3^4h^4)-(1/4)(4^4h^4)}{h^4} = 24$$\n",
    "$$f(x)=x^5 \\rightarrow f''''(h) = 120h = \\frac{16h^5-9(32h^5)+(8/3)(3^5h^5)-(1/4)(4^5h^5)}{h^4} = 120h$$\n",
    "$$f(x)=x^6 \\rightarrow f''''(h) = 360h^2 = \\frac{16h^6-9(64h^6)+(8/3)(3^6h^6)-(1/4)(4^6h^6)}{h^4} = 320h^2$$\n",
    "$$f(x)=x^7 \\rightarrow f''''(h) = 840h^3 \\neq \\frac{16h^7-9(128h^7)+(8/3)(3^7h^7)-(1/4)(4^7h^7)}{h^4} = 600h^3$$"
   ]
  },
  {
   "cell_type": "markdown",
   "metadata": {},
   "source": [
    "Thus it has a degree of precision of 6!"
   ]
  },
  {
   "cell_type": "code",
   "execution_count": 8,
   "metadata": {
    "collapsed": false
   },
   "outputs": [],
   "source": [
    "reg = Beam('Regular',0,2,300)\n",
    "Leb,Ueb = LUalgobanded(reg.matrix(),2)\n",
    "def I(w,d): return (w*d)/12\n",
    "f =  E_B_f(1.3*(10**(10)),I,0.3,0.03,reg.end-reg.start,reg.n_val)"
   ]
  },
  {
   "cell_type": "code",
   "execution_count": 9,
   "metadata": {
    "collapsed": false
   },
   "outputs": [],
   "source": [
    "ceb = solveUnitLowerTriangularbanded(Leb,f,2)\n",
    "xeb_sol = solveUnitUpperTriangularbanded(Ueb,ceb,2)\n",
    "xeb_sol = np.insert(xeb_sol,0,0)\n",
    "xeb_sol = np.insert(xeb_sol,reg.n_val+1,0)\n",
    "x = np.linspace(reg.start,reg.end,reg.n_val+2)"
   ]
  },
  {
   "cell_type": "code",
   "execution_count": 10,
   "metadata": {
    "collapsed": false
   },
   "outputs": [
    {
     "data": {
      "text/plain": [
       "[<matplotlib.lines.Line2D at 0x105e8fb70>]"
      ]
     },
     "execution_count": 10,
     "metadata": {},
     "output_type": "execute_result"
    },
    {
     "data": {
      "image/png": "[encoded data removed]",
      "text/plain": [
       "<matplotlib.figure.Figure at 0x10428bfd0>"
      ]
     },
     "metadata": {},
     "output_type": "display_data"
    }
   ],
   "source": [
    "plt.plot(x,np.array(xeb_sol).T)"
   ]
  },
  {
   "cell_type": "markdown",
   "metadata": {},
   "source": [
    "In the following few cells I will be plotting the beam with an addition weight added. Then I shall compare the beam to a beam of a different size in order to show how the error propogates."
   ]
  },
  {
   "cell_type": "code",
   "execution_count": 11,
   "metadata": {
    "collapsed": false
   },
   "outputs": [],
   "source": [
    "def Add(x):\n",
    "    return -70./0.2\n",
    "start = 1.8\n",
    "end = 2.0\n",
    "\n",
    "add1 = Beam('Regular',0,2,200)\n",
    "Leb_add1,Ueb_add1 = LUalgobanded(add1.matrix(),2)\n",
    "def I(w,d): return (w*d)/12\n",
    "f =  E_B_f_additional(1.3*(10**(10)),I,0.3,0.03,2,add1.n_val,Add,start,end)\n",
    "ceb_add1 = solveUnitLowerTriangularbanded(Leb_add1,f,2)\n",
    "xeb_sol_add1 = solveUnitUpperTriangularbanded(Ueb_add1,ceb_add1,2)\n",
    "xeb_sol_add1 = np.insert(xeb_sol_add1,0,0)\n",
    "xeb_sol_add1 = np.insert(xeb_sol_add1,add1.n_val+1,0)\n",
    "x_add1 = np.linspace(add1.start,add1.end,add1.n_val+2)"
   ]
  },
  {
   "cell_type": "code",
   "execution_count": 12,
   "metadata": {
    "collapsed": false
   },
   "outputs": [
    {
     "data": {
      "text/plain": [
       "[<matplotlib.lines.Line2D at 0x106098be0>]"
      ]
     },
     "execution_count": 12,
     "metadata": {},
     "output_type": "execute_result"
    },
    {
     "data": {
      "image/png": "[encoded data removed]",
      "text/plain": [
       "<matplotlib.figure.Figure at 0x105eb5128>"
      ]
     },
     "metadata": {},
     "output_type": "display_data"
    }
   ],
   "source": [
    "plt.plot(x_add1,np.array(xeb_sol_add1).T)"
   ]
  },
  {
   "cell_type": "code",
   "execution_count": 13,
   "metadata": {
    "collapsed": false
   },
   "outputs": [],
   "source": [
    "add2 = Beam('Regular',0,2,1000)\n",
    "Leb_add2,Ueb_add2 = LUalgobanded(add2.matrix(),2)\n",
    "def I(w,d): return (w*d)/12\n",
    "f =  E_B_f_additional(1.3*(10**(10)),I,0.3,0.03,2,add2.n_val,Add,start,end)\n",
    "ceb_add2 = solveUnitLowerTriangularbanded(Leb_add2,f,2)\n",
    "xeb_sol_add2 = solveUnitUpperTriangularbanded(Ueb_add2,ceb_add2,2)\n",
    "xeb_sol_add2 = np.insert(xeb_sol_add2,0,0)\n",
    "xeb_sol_add2 = np.insert(xeb_sol_add2,add2.n_val+1,0)\n",
    "x_add2 = np.linspace(add2.start,add2.end,add2.n_val+2)\n"
   ]
  },
  {
   "cell_type": "code",
   "execution_count": 14,
   "metadata": {
    "collapsed": false,
    "scrolled": true
   },
   "outputs": [
    {
     "data": {
      "text/plain": [
       "[<matplotlib.lines.Line2D at 0x1060749b0>]"
      ]
     },
     "execution_count": 14,
     "metadata": {},
     "output_type": "execute_result"
    },
    {
     "data": {
      "image/png": "[encoded data removed]",
      "text/plain": [
       "<matplotlib.figure.Figure at 0x1060211d0>"
      ]
     },
     "metadata": {},
     "output_type": "display_data"
    }
   ],
   "source": [
    "plt.plot(x_add2,np.array(xeb_sol_add2).T)"
   ]
  },
  {
   "cell_type": "code",
   "execution_count": null,
   "metadata": {
    "collapsed": true
   },
   "outputs": [],
   "source": []
  }
 ],
 "metadata": {
  "kernelspec": {
   "display_name": "Python 3",
   "language": "python",
   "name": "python3"
  },
  "language_info": {
   "codemirror_mode": {
    "name": "ipython",
    "version": 3
   },
   "file_extension": ".py",
   "mimetype": "text/x-python",
   "name": "python",
   "nbconvert_exporter": "python",
   "pygments_lexer": "ipython3",
   "version": "3.4.4"
  }
 },
 "nbformat": 4,
 "nbformat_minor": 0
}
