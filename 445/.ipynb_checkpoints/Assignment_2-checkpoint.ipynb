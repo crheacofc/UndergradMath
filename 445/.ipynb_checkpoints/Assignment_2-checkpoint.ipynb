{
 "cells": [
  {
   "cell_type": "markdown",
   "metadata": {},
   "source": [
    "# HOMEWORK ASSIGNMENT 2\n",
    "## CARTER RHEA\n",
    "### February 11, 2016"
   ]
  },
  {
   "cell_type": "markdown",
   "metadata": {},
   "source": [
    "## PROBLEM 1"
   ]
  },
  {
   "cell_type": "markdown",
   "metadata": {},
   "source": [
    "$$\\left[ \\begin{array}{cccc} 3 & 4 & 3 & 11\\\\ 1 & 5 & 1 & 7 \\\\ 6 & 3 & 7 & 14 \\end{array} \\right]  \\sim l_{21} = -0.33 \\sim \\left[ \\begin{array}{cccc} 3 & 4 & 3 & 11\\\\ 0 & 3.7 & 0.1 & 3.4 \\\\ 6 & 3 & 7 & 14 \\end{array} \\right] \\sim l_{31} = -2.0 \\sim \\left[ \\begin{array}{cccc} 3 & 4 & 3 & 11\\\\ 0 & 3.7 & 0.1 & 3.4 \\\\ 0 & -5 & 1 & -8 \\end{array} \\right] \\sim l_{32} = 1.4 \\sim \\left[ \\begin{array}{cccc} 3 & 4 & 3 & 11\\\\ 0 & 3.7 & 0.1 & 3.4 \\\\ 0 & 0 & 1.0 & -3.2 \\end{array} \\right] $$\n",
    "\n",
    "\n",
    "\n"
   ]
  },
  {
   "cell_type": "markdown",
   "metadata": {
    "collapsed": true
   },
   "source": [
    "Hence solving backwards we get:\n",
    "$$x_3 = \\frac{-3.2}{1.0} = -3.2 $$\n",
    "\n",
    "$$x_2 = \\frac{3.4-(-3.2)(.01)}{3.7} = 0.93 $$\n",
    "\n",
    "$$x_1 = \\frac{11-3(-3.2)-4(0.93)}{3} = 5.6$$\n",
    "\n",
    "Thus $x = \\left[ \\begin{array}{c} 5.6 \\\\ 0.93 \\\\ -3.2  \\end{array} \\right]$"
   ]
  },
  {
   "cell_type": "markdown",
   "metadata": {},
   "source": [
    "Let's compute the residual vector!\n",
    "$$r = Ax-b$$"
   ]
  },
  {
   "cell_type": "code",
   "execution_count": 2,
   "metadata": {
    "collapsed": false
   },
   "outputs": [
    {
     "name": "stdout",
     "output_type": "stream",
     "text": [
      "Our residual vector is [[-0.08  0.05 -0.01]] with a maximum norm of 0.08\n"
     ]
    }
   ],
   "source": [
    "import numpy as np\n",
    "A = np.matrix([[3,4,3],[1,5,1],[6,3,7]])\n",
    "x = np.matrix([[5.6],[0.93],[-3.2]])\n",
    "b = np.matrix([[11],[7],[14]])\n",
    "r = A*x-b\n",
    "print(\"Our residual vector is %s with a maximum norm of %s\"%(r.T,abs(r).max()))"
   ]
  },
  {
   "cell_type": "code",
   "execution_count": 9,
   "metadata": {
    "collapsed": false
   },
   "outputs": [
    {
     "data": {
      "text/plain": [
       "matrix([[ 5.90909091],\n",
       "        [ 0.90909091],\n",
       "        [-3.45454545]])"
      ]
     },
     "execution_count": 9,
     "metadata": {},
     "output_type": "execute_result"
    }
   ],
   "source": [
    "## Now to solve using numpy...\n",
    "x_true = np.linalg.solve(A,b)\n",
    "x_true"
   ]
  },
  {
   "cell_type": "code",
   "execution_count": 11,
   "metadata": {
    "collapsed": false
   },
   "outputs": [
    {
     "name": "stdout",
     "output_type": "stream",
     "text": [
      "The absolute error is 0.309090909091 and the relative error is 0.0523076923077\n"
     ]
    }
   ],
   "source": [
    "## Let's calculate some errors!\n",
    "abs_error = abs(x_true-x).max()\n",
    "rel_error = abs(x_true-x).max()/abs(x_true).max()\n",
    "print(\"The absolute error is %s and the relative error is %s\"%(abs_error,rel_error))"
   ]
  },
  {
   "cell_type": "markdown",
   "metadata": {},
   "source": [
    "## PROBLEM 2"
   ]
  },
  {
   "cell_type": "markdown",
   "metadata": {},
   "source": [
    "$$\\left[ \\begin{array}{cccc} 3 & 4 & 3 & 11\\\\ 1 & 5 & 1 & 7 \\\\ 6 & 3 & 7 & 14 \\end{array} \\right] \\sim R_3 \\Leftrightarrow R_1 \\sim \\left[ \\begin{array}{cccc} 6 & 3 & 7 & 14 \\\\ 1 & 5 & 1 & 7 \\\\ 3 & 4 & 3 & 11 \\end{array} \\right] \\sim l_{21} = -.17 \\sim \\left[ \\begin{array}{cccc} 6 & 3 & 7 & 14 \\\\ 0 & 4.5 & -.19 & 4.6 \\\\ 3 & 4 & 3 & 11 \\end{array} \\right] \\sim l_{31} = -0.5 \\sim \\left[ \\begin{array}{cccc} 6 & 3 & 7 & 14 \\\\ 0 & 4.5 & -.19 & 4.6 \\\\ 0 & 2.5 & -.05 & 4.0 \\end{array} \\right] \\sim l_{32} = -.56 \\sim \\left[ \\begin{array}{cccc} 36 & 3 & 7 & 14 \\\\ 0 & 4.5 & -.19 & 4.6 \\\\ 0 & 0 & -.39 & 1.4 \\end{array} \\right] $$\n",
    "\n"
   ]
  },
  {
   "cell_type": "markdown",
   "metadata": {},
   "source": [
    "Hence solving backwards we get:\n",
    "$$x_3 = \\frac{1.4}{-.39} = -3.6 $$\n",
    "\n",
    "$$x_2 = \\frac{4.6+(.19)(-3.6)}{4.5} = 0.87 $$\n",
    "\n",
    "$$x_1 = \\frac{14-7(-3.6)-3(.87)}{6} = 6.1$$\n",
    "\n",
    "Thus $x = \\left[ \\begin{array}{c} 6.1 \\\\ 0.87 \\\\ -3.6  \\end{array} \\right]$"
   ]
  },
  {
   "cell_type": "code",
   "execution_count": 7,
   "metadata": {
    "collapsed": false
   },
   "outputs": [
    {
     "name": "stdout",
     "output_type": "stream",
     "text": [
      "Our residual vector is [[-0.02 -0.15  0.01]] with a maximum norm of 0.15\n"
     ]
    }
   ],
   "source": [
    "x_new = np.matrix([[6.1],[0.87],[-3.6]])\n",
    "r_new = A*x_new-b\n",
    "print(\"Our residual vector is %s with a maximum norm of %s\"%(r_new.T,abs(r_new).max()))\n"
   ]
  },
  {
   "cell_type": "code",
   "execution_count": 13,
   "metadata": {
    "collapsed": false
   },
   "outputs": [
    {
     "name": "stdout",
     "output_type": "stream",
     "text": [
      "The absolute error is 0.190909090909 and the relative error is 0.0323076923077\n"
     ]
    }
   ],
   "source": [
    "abs_error = abs(x_true-x_new).max()\n",
    "rel_error = abs(x_true-x_new).max()/abs(x_true).max()\n",
    "print(\"The absolute error is %s and the relative error is %s\"%(abs_error,rel_error))"
   ]
  },
  {
   "cell_type": "code",
   "execution_count": null,
   "metadata": {
    "collapsed": true
   },
   "outputs": [],
   "source": []
  }
 ],
 "metadata": {
  "kernelspec": {
   "display_name": "Python 3",
   "language": "python",
   "name": "python3"
  },
  "language_info": {
   "codemirror_mode": {
    "name": "ipython",
    "version": 3
   },
   "file_extension": ".py",
   "mimetype": "text/x-python",
   "name": "python",
   "nbconvert_exporter": "python",
   "pygments_lexer": "ipython3",
   "version": "3.4.4"
  }
 },
 "nbformat": 4,
 "nbformat_minor": 0
}
