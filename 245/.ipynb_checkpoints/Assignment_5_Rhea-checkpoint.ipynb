{
 "cells": [
  {
   "cell_type": "markdown",
   "metadata": {},
   "source": [
    "# Problem 1: \n",
    "## $\\S$ 2.5 (b)"
   ]
  },
  {
   "cell_type": "markdown",
   "metadata": {},
   "source": [
    "Rearrange the equations to form a strictly diagonally dominant system. Apply two iterations of the Jacobi and Gauss-Seidel methods from starting vector [0,...0]."
   ]
  },
  {
   "cell_type": "markdown",
   "metadata": {},
   "source": [
    "$$u-8v-2w=1 $$\n",
    "$$u+v+5w=4 $$\n",
    "$$3u-v+w=-2$$"
   ]
  },
  {
   "cell_type": "markdown",
   "metadata": {},
   "source": [
    "###  Jacobi\n",
    "\n",
    "First we rearrange the equations to form a strictly diagonally dominant system...\n",
    "$$3u-v+w=-2$$\n",
    "$$u-8v-2w=1 $$\n",
    "$$u+v+5w=4 $$\n",
    "\n",
    "Then we can take a look at $A$\n",
    "$$\\left[\\begin{array}{ccc} 3& -1 & 1 \\\\ 1& -8 & -2 \\\\ 1 & 1 & 5 \\end{array} \\right]$$\n",
    "Breaking it into $L+U$ and $D$ results in \n",
    "$$\\left[\\begin{array}{ccc} 0& -1 & 1 \\\\ 1& 0 & -2 \\\\ 1 & 1 & 0\\end{array} \\right] and \\left[\\begin{array}{ccc} 3& 0 & 0 \\\\ 0 & -8 & 0 \\\\ 0 & 0 & 5 \\end{array} \\right] = $$\n",
    "Note that $D^{-1}$ is equal to \n",
    "$$ \\left[\\begin{array}{ccc} \\frac{1}{3}& 0 & 0 \\\\ 0 & \\frac{-1}{8} & 0 \\\\ 0 & 0 & \\frac{1}{5} \\end{array} \\right]$$\n",
    "Thus we can use the Jacobi method $x=D^{-1}(b-(L+U)x)$ to solve for $x$."
   ]
  },
  {
   "cell_type": "markdown",
   "metadata": {},
   "source": [
    "$x_0 = [u_0,v_0,w_0]=[0,0,0]$\n",
    "\n",
    "\n",
    "$$\\left[\\begin{array}{ccc} u_{k+1} \\\\ v_{k+1} \\\\ w_{k+1} \\end{array} \\right] = \\left[\\begin{array}{ccc} \\frac{1}{3}& 0 & 0 \\\\ 0 & \\frac{-1}{8} & 0 \\\\ 0 & 0 & \\frac{1}{5} \\end{array} \\right] *\\left(\\left[\\begin{array}{ccc} -2 \\\\ 1 \\\\ 4 \\end{array} \\right]-\\left(\\left[\\begin{array}{ccc} 0& -1 & 1 \\\\ 1& 0 & -2 \\\\ 1 & 1 & 0\\end{array} \\right]\\right)\\left[\\begin{array}{ccc} u \\\\ v \\\\ w \\end{array} \\right]\\right)$$\n",
    "\n",
    "Hence \n",
    "$$\\left[\\begin{array}{ccc} u_{k+1} \\\\ v_{k+1} \\\\ w_{k+1} \\end{array} \\right] = \\left[\\begin{array}{ccc} \\frac{-2+v-w}{3} \\\\ \\frac{-1+u-2w}{8} \\\\ \\frac{4-u-v}{5} \\end{array} \\right] $$"
   ]
  },
  {
   "cell_type": "markdown",
   "metadata": {},
   "source": [
    "Starting with $x_0=[u_0,v_0,w_0]=[0,0,0]$, we calculate\n",
    "$$ \\left[\\begin{array}{c} u_1\\\\v_1 \\\\ w_1\\end{array} \\right]=\\left[\\begin{array}{c} \\frac{-2+0-0}{3}=\\frac{-2}{3}\\\\ \\frac{-1-0-0}{8}= \\frac{-1}{8} \\\\ \\frac{4-0-0}{5} = \\frac{4}{5}\\end{array} \\right] = \\left[\\begin{array}{c} -.66666\\\\-.12500 \\\\ .80000 \\end{array} \\right] $$"
   ]
  },
  {
   "cell_type": "markdown",
   "metadata": {},
   "source": [
    "Now using $x_1=[u_1,v_1,w_1]=[-2/3,-1/8,4/5]$, we calculate\n",
    "$$ \\left[\\begin{array}{c} u_2\\\\v_2 \\\\ w_2\\end{array} \\right]=\\left[\\begin{array}{c} \\frac{-2-1/8-4/5}{3}=\\frac{-39}{40}\\\\ \\frac{-1-2/3+1/4}{8}= \\frac{-17}{96} \\\\ \\frac{4+2/3+1/8}{5} = \\frac{23}{24}\\end{array} \\right] = \\left[\\begin{array}{c} -.97500 \\\\-.17708\\\\ .95833 \\end{array} \\right] $$"
   ]
  },
  {
   "cell_type": "markdown",
   "metadata": {},
   "source": [
    "### Gauss-Seidel\n",
    "\n",
    "First we rearrange the equations to form a strictly diagonally dominant system...\n",
    "$$3u-v+w=-2$$\n",
    "$$u-8v-2w=1 $$\n",
    "$$u+v+5w=4 $$\n",
    "\n",
    "Thus our Gauss-Seidel iteration is\n",
    "$$u_{k+1} = \\frac{-2+v-w}{3}$$\n",
    "$$v_{k+1} = \\frac{-1+u_{k+1}-2w}{8}$$\n",
    "$$w_{k+1} = \\frac{4-u_{k+1}-v_{k+1}}{5}$$"
   ]
  },
  {
   "cell_type": "markdown",
   "metadata": {},
   "source": [
    "Starting with $x_0=[u_0,v_0,w_0]=[0,0,0]$, we calculate\n",
    "$$ \\left[\\begin{array}{c} u_1\\\\v_1 \\\\ w_1\\end{array} \\right]=\\left[\\begin{array}{c} \\frac{-2+0-0}{3}=\\frac{-2}{3}\\\\ \\frac{-1-2/3-0}{8}= \\frac{-5}{24} \\\\ \\frac{4-(-2/3)-(-5/24)}{5} = \\frac{39}{40}\\end{array} \\right] = \\left[\\begin{array}{c} -.66666\\\\-.20833 \\\\ .97500 \\end{array} \\right] $$"
   ]
  },
  {
   "cell_type": "markdown",
   "metadata": {},
   "source": [
    "Now using $x_1=[u_1,v_1,w_1]=[-2/3,-5/24,39/40]$, we calculate\n",
    "$$ \\left[\\begin{array}{c} u_2\\\\v_2 \\\\ w_2\\end{array} \\right]=\\left[\\begin{array}{c} \\frac{-2-5/24-39/40}{3}=\\frac{-191}{180}\\\\ \\frac{-1-191/180-78/40}{8}= \\frac{-361}{720} \\\\ \\frac{4-(-191/180)-(-361/720)}{5} = \\frac{89}{80}\\end{array} \\right] = \\left[\\begin{array}{c} -1.06111 \\\\-.50139 \\\\ 1.11250 \\end{array} \\right] $$"
   ]
  },
  {
   "cell_type": "markdown",
   "metadata": {
    "collapsed": true
   },
   "source": [
    "## Problem  2\n",
    "\n",
    "### $\\S$ 12.1"
   ]
  },
  {
   "cell_type": "markdown",
   "metadata": {},
   "source": [
    "### 6b) \n",
    "Assume $A$ is a $3X3$ matrix with the given eigenvalues. Decide to which eigenvalue Power Iteration will converge, and determine the convergence rate constant S.$$\\lambda = 1,1,-4$$ "
   ]
  },
  {
   "cell_type": "markdown",
   "metadata": {},
   "source": [
    "The eigenvalue with the largest magnitude is $\\lambda = -4$. Therefore the Power Iteration will converge to $\\lambda =-4$. \n",
    "We know that the Power Iteration converges with a convergence rate constat $$S=\\big|\\frac{\\lambda_2}{\\lambda_1}\\big|$$\n",
    "\n",
    "Hence we have a convergence rate of $S = \\frac{1}{4}$"
   ]
  },
  {
   "cell_type": "markdown",
   "metadata": {},
   "source": [
    "### 7b) \n",
    "Assume that $A$ is a $3X3$ matrix with the given eigenvalues. Decide to which eigenvalue Inverse Power Iteration will converge and determine the convergence rate constant $S$. \n",
    "$$\\lambda = 3,1,-4 $$"
   ]
  },
  {
   "cell_type": "markdown",
   "metadata": {},
   "source": [
    "The eigenvalue with the smallest magnitude is $\\lambda = 1$. Hence the Inverse Power Iteration will converge to $\\lambda = 1$. It will converge to the convergence rate constant $$S=\\big|\\frac{\\lambda_2}{\\lambda_1}\\big|$$ where $\\lambda_1$ and $\\lambda_2$ are the reciprocals of the two smallest eigenvalues. \n",
    "Hence the ratio of convergence is $$S=\\big| \\frac{1/3}{1/1} \\big|  = \\frac{1}{3}$$"
   ]
  },
  {
   "cell_type": "code",
   "execution_count": null,
   "metadata": {
    "collapsed": true
   },
   "outputs": [],
   "source": []
  }
 ],
 "metadata": {
  "kernelspec": {
   "display_name": "Python 3",
   "language": "python",
   "name": "python3"
  },
  "language_info": {
   "codemirror_mode": {
    "name": "ipython",
    "version": 3
   },
   "file_extension": ".py",
   "mimetype": "text/x-python",
   "name": "python",
   "nbconvert_exporter": "python",
   "pygments_lexer": "ipython3",
   "version": "3.4.3"
  }
 },
 "nbformat": 4,
 "nbformat_minor": 0
}
