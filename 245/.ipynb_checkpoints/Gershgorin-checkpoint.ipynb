{
 "cells": [
  {
   "cell_type": "code",
   "execution_count": 2,
   "metadata": {
    "collapsed": false
   },
   "outputs": [],
   "source": [
    "import numpy as np\n",
    "A = np.matrix([[3,1,1],[1,8,1],[1,1,4]])\n",
    "x_A = np.matrix(np.random.rand(3)).T\n",
    "\n",
    "def eigenvalue_inv(Matrix,x_init,ToL):\n",
    "    err = ToL+1\n",
    "    for i in range(1,len(Matrix)):\n",
    "        U = np.matrix(np.zeros((1,len(Matrix))))\n",
    "        U = x_init/euclidean_dist(Matrix,x_init)\n",
    "        Matrix_inv = Matrix.I\n",
    "        x = Matrix_inv*U\n",
    "        lam=U.T*x\n",
    "    while err>ToL:\n",
    "        for i in range (1,len(Matrix)):\n",
    "            U1 = np.matrix(np.zeros((1,len(Matrix))))\n",
    "            U1 = x/euclidean_dist(Matrix,x)\n",
    "            Matrix_inv = Matrix.I\n",
    "            x1= Matrix_inv*U1\n",
    "            lam = 1/(U1.T*x)\n",
    "        err = abs(euclidean_dist(Matrix,x1)-euclidean_dist(Matrix,x))\n",
    "        x = x1\n",
    "    return x,lam\n",
    "\n",
    "    \n",
    "def euclidean_dist(Matrix,x_init):\n",
    "    val = 0\n",
    "    for i in range(0,len(Matrix)):\n",
    "        val += x_init[i,0]**2\n",
    "    return float(val)**(1/2)\n",
    "def eigenvalue(Matrix,x_init,ToL):\n",
    "    err = ToL+1  \n",
    "    for i in range (1,len(Matrix)):\n",
    "        U = np.matrix(np.zeros((1,len(Matrix))))\n",
    "        U = x_init/euclidean_dist(Matrix,x_init)\n",
    "        x= Matrix*U\n",
    "        lam = U.T*x\n",
    "    while err > ToL:\n",
    "        for i in range (1,len(Matrix)):\n",
    "            U1 = np.matrix(np.zeros((1,len(Matrix))))\n",
    "            U1 = x/euclidean_dist(Matrix,x)\n",
    "            x1= Matrix*U1\n",
    "            lam = U1.T*x\n",
    "        err = abs(euclidean_dist(Matrix,x1)-euclidean_dist(Matrix,x))\n",
    "        x = x1\n",
    "    return x,lam\n"
   ]
  },
  {
   "cell_type": "code",
   "execution_count": 3,
   "metadata": {
    "collapsed": false
   },
   "outputs": [
    {
     "name": "stdout",
     "output_type": "stream",
     "text": [
      "[[ 4.13535911]]\n"
     ]
    }
   ],
   "source": [
    "vec2, lam2 = eigenvalue_inv(A - 4*np.identity(len(A)), x_A, 10**(-8))\n",
    "best_vec2, best_lam2 = eigenvalue_inv(A, vec2, 10**(-8))\n",
    "print(best_lam2)\n"
   ]
  },
  {
   "cell_type": "code",
   "execution_count": 4,
   "metadata": {
    "collapsed": false
   },
   "outputs": [
    {
     "data": {
      "text/plain": [
       "matrix([[-1.13535911,  1.        ,  1.        ,  0.        ],\n",
       "        [ 1.        ,  3.86464089,  1.        ,  0.        ],\n",
       "        [ 1.        ,  1.        , -0.13535911,  0.        ]])"
      ]
     },
     "execution_count": 4,
     "metadata": {},
     "output_type": "execute_result"
    }
   ],
   "source": [
    "new = A - np.identity(len(A))*best_lam2.sum()\n",
    "b = np.matrix(np.zeros((1,3))).T\n",
    "b\n",
    "A_new = np.matrix(np.zeros((3,4)))\n",
    "A_new[:,:3] = new\n",
    "A_new[:,3] = b\n",
    "A_new"
   ]
  },
  {
   "cell_type": "code",
   "execution_count": 5,
   "metadata": {
    "collapsed": false
   },
   "outputs": [
    {
     "name": "stdout",
     "output_type": "stream",
     "text": [
      "Ab is initially\n",
      "[[-1.13535911  1.          1.          0.        ]\n",
      " [ 1.          3.86464089  1.          0.        ]\n",
      " [ 1.          1.         -0.13535911  0.        ]]\n",
      "The row multiplier is m =  -0.880778590916\n",
      "Ab is now\n",
      "[[-1.13535911  1.          1.          0.        ]\n",
      " [ 0.          4.74541948  1.88077859  0.        ]\n",
      " [ 1.          1.         -0.13535911  0.        ]]\n",
      "The row multiplier is m =  -0.880778590916\n",
      "Ab is now\n",
      "[[-1.13535911  1.          1.          0.        ]\n",
      " [ 0.          4.74541948  1.88077859  0.        ]\n",
      " [ 0.          1.88077859  0.74541948  0.        ]]\n",
      "The row multiplier is m =  0.396335582089\n",
      "Ab is now\n",
      "[[ -1.13535911e+00   1.00000000e+00   1.00000000e+00   0.00000000e+00]\n",
      " [  0.00000000e+00   4.74541948e+00   1.88077859e+00   0.00000000e+00]\n",
      " [  0.00000000e+00   0.00000000e+00   7.69606601e-13   0.00000000e+00]]\n"
     ]
    }
   ],
   "source": [
    "print(\"Ab is initially\")\n",
    "print(A_new)\n",
    "m = A_new[1,0]/A_new[0,0]\n",
    "print(\"The row multiplier is m = \", m)\n",
    "A_new[1,:] = A_new[1,:] - m * A_new[0,:]\n",
    "print(\"Ab is now\")\n",
    "print(A_new)\n",
    "\n",
    "m = A_new[2,0]/A_new[0,0]\n",
    "print(\"The row multiplier is m = \", m)\n",
    "A_new[2,:] = A_new[2,:] - m * A_new[0,:]\n",
    "print(\"Ab is now\")\n",
    "print(A_new)\n",
    "\n",
    "m = A_new[2,1]/A_new[1,1]\n",
    "print(\"The row multiplier is m = \", m)\n",
    "A_new[2,1:] = A_new[2,1:] - m * A_new[1,1:]\n",
    "print(\"Ab is now\")\n",
    "print(A_new)\n",
    "\n"
   ]
  },
  {
   "cell_type": "code",
   "execution_count": 40,
   "metadata": {
    "collapsed": false
   },
   "outputs": [
    {
     "name": "stdout",
     "output_type": "stream",
     "text": [
      "The smallest Lambda is [[ 2.35997656]]\n",
      "The largest Lambda is [[ 8.50466435]]\n",
      "[[ 4.13535911]]\n",
      "[[ 1.8521762 ]\n",
      " [ 8.00677587]\n",
      " [ 2.18867523]]\n"
     ]
    }
   ],
   "source": [
    "##note that the vec represents the eigenvectors!\n",
    "vec , lam_s =  eigenvalue_inv(A,x_A,10**(-8))\n",
    "print(\"The smallest Lambda is %s\"%(lam_s))\n",
    "vec , lam_l =  eigenvalue(A,x_A,10**(-8))\n",
    "print(\"The largest Lambda is %s\"%(lam_l))\n",
    "vec2, lam2 = eigenvalue_inv(A - 4*np.identity(len(A)), x_A, 10**(-8))\n",
    "vec2, lam2 = eigenvalue_inv(A, vec2, 10**(-8))\n",
    "\n",
    "\n",
    "print(lam2)\n",
    "\n",
    "\n",
    "print(vec)\n"
   ]
  },
  {
   "cell_type": "code",
   "execution_count": 7,
   "metadata": {
    "collapsed": false
   },
   "outputs": [],
   "source": [
    "def GD(A,dim):\n",
    "    G = np.matrix(np.zeros((dim,2)))\n",
    "    for i in range(0,dim):\n",
    "        G[i,0] = A[i,i]\n",
    "        G[i,1] = np.sum(abs(A[i,:i]))+np.sum(abs(A[i,i+1:]))\n",
    "    return G\n"
   ]
  },
  {
   "cell_type": "code",
   "execution_count": 8,
   "metadata": {
    "collapsed": false
   },
   "outputs": [
    {
     "data": {
      "text/plain": [
       "matrix([[ 3.,  2.],\n",
       "        [ 8.,  2.],\n",
       "        [ 4.,  2.]])"
      ]
     },
     "execution_count": 8,
     "metadata": {},
     "output_type": "execute_result"
    }
   ],
   "source": [
    "n = 3\n",
    "Gor_A = GD(A,3)\n",
    "Gor_A"
   ]
  },
  {
   "cell_type": "code",
   "execution_count": 29,
   "metadata": {
    "collapsed": false
   },
   "outputs": [],
   "source": [
    "def all_eigens(Matrix,x_init,ToL):\n",
    "    lam = np.array(1)\n",
    "    for i in range(0,len(Matrix)):\n",
    "        k = eigenvalue_inv(Matrix-GD(Matrix,len(Matrix))[i,0]*np.identity(len(Matrix)),x_init,10**(-8))\n",
    "        k1 = eigenvalue_inv(Matrix,k[0],10**(-8))\n",
    "        lam = np.append(lam,k1[1])\n",
    "    return lam[1:]"
   ]
  },
  {
   "cell_type": "code",
   "execution_count": 10,
   "metadata": {
    "collapsed": false
   },
   "outputs": [],
   "source": [
    "eigs = all_eigens(A,x_A,10**(-8))"
   ]
  },
  {
   "cell_type": "code",
   "execution_count": 11,
   "metadata": {
    "collapsed": false
   },
   "outputs": [],
   "source": [
    "zeros = np.matrix(np.zeros((len(A),1)))\n"
   ]
  },
  {
   "cell_type": "code",
   "execution_count": 12,
   "metadata": {
    "collapsed": false
   },
   "outputs": [
    {
     "data": {
      "text/plain": [
       "matrix([[ 0.64002346,  1.        ,  1.        ],\n",
       "        [ 1.        ,  5.64002346,  1.        ],\n",
       "        [ 1.        ,  1.        ,  1.64002346]])"
      ]
     },
     "execution_count": 12,
     "metadata": {},
     "output_type": "execute_result"
    }
   ],
   "source": [
    "EV_zero = (A-eigs[0]*np.identity(len(A)))\n",
    "EV_zero"
   ]
  },
  {
   "cell_type": "code",
   "execution_count": 13,
   "metadata": {
    "collapsed": true
   },
   "outputs": [],
   "source": [
    "from sympy import *\n",
    "x = symbols('x')"
   ]
  },
  {
   "cell_type": "code",
   "execution_count": 14,
   "metadata": {
    "collapsed": false
   },
   "outputs": [
    {
     "data": {
      "text/plain": [
       "[2.35997653310736 + 0.e-20*I,\n",
       " 4.1353591133046 - 0.e-22*I,\n",
       " 8.50466435358805 - 0.e-20*I]"
      ]
     },
     "execution_count": 14,
     "metadata": {},
     "output_type": "execute_result"
    }
   ],
   "source": [
    "char_poly = Matrix(A-x*np.identity(len(A))).det()\n",
    "solve(char_poly)"
   ]
  },
  {
   "cell_type": "code",
   "execution_count": null,
   "metadata": {
    "collapsed": true
   },
   "outputs": [],
   "source": []
  },
  {
   "cell_type": "code",
   "execution_count": null,
   "metadata": {
    "collapsed": true
   },
   "outputs": [],
   "source": []
  },
  {
   "cell_type": "code",
   "execution_count": null,
   "metadata": {
    "collapsed": true
   },
   "outputs": [],
   "source": []
  },
  {
   "cell_type": "code",
   "execution_count": null,
   "metadata": {
    "collapsed": true
   },
   "outputs": [],
   "source": []
  },
  {
   "cell_type": "code",
   "execution_count": null,
   "metadata": {
    "collapsed": true
   },
   "outputs": [],
   "source": []
  },
  {
   "cell_type": "code",
   "execution_count": 15,
   "metadata": {
    "collapsed": true
   },
   "outputs": [],
   "source": [
    "B = np.matrix([[3,1,2,1],[1,4,2,1],[1,1,8,2],[1,1,1,4]])"
   ]
  },
  {
   "cell_type": "code",
   "execution_count": 16,
   "metadata": {
    "collapsed": false
   },
   "outputs": [
    {
     "data": {
      "text/plain": [
       "matrix([[ 0.00311566],\n",
       "        [ 0.38178995],\n",
       "        [ 0.02548078],\n",
       "        [ 0.6800724 ]])"
      ]
     },
     "execution_count": 16,
     "metadata": {},
     "output_type": "execute_result"
    }
   ],
   "source": [
    "x_B = np.matrix(np.random.rand(4)).T\n",
    "x_B"
   ]
  },
  {
   "cell_type": "code",
   "execution_count": 17,
   "metadata": {
    "collapsed": false
   },
   "outputs": [
    {
     "data": {
      "text/plain": [
       "array([ 3.24481208,  3.8624777 ,  9.60928988,  3.8624777 ])"
      ]
     },
     "execution_count": 17,
     "metadata": {},
     "output_type": "execute_result"
    }
   ],
   "source": [
    "all_eigens(B,x_B,10**(-8))"
   ]
  },
  {
   "cell_type": "code",
   "execution_count": 18,
   "metadata": {
    "collapsed": true
   },
   "outputs": [],
   "source": [
    "def all_eigens(Matrix,x_init,ToL):\n",
    "    lam = np.array(1)\n",
    "    for i in range(0,len(Matrix)):\n",
    "        k = eigenvalue_inv(Matrix-GD(Matrix,len(Matrix))[i,0]*np.identity(len(Matrix)),x_init,10**(-8))\n",
    "        k1 = eigenvalue_inv(Matrix,k[0],10**(-8))\n",
    "        lam = np.append(lam,k1[1])\n",
    "        if lam.any()==k1[1]:\n",
    "            bad_val = np.where(l == k1[1])\n",
    "            np.delete(lam,bad_val)\n",
    "            k = eigenvalue_inv(Matrix-(GD(Matrix,len(Matrix))-5)[i,0]*np.identity(len(Matrix)),x_init,10**(-8))\n",
    "            k1 = eigenvalue_inv(Matrix,k[0],10**(-8))\n",
    "            lam = np.append(lam,k1[1])     \n",
    "    return lam[1:]"
   ]
  },
  {
   "cell_type": "code",
   "execution_count": 19,
   "metadata": {
    "collapsed": false
   },
   "outputs": [
    {
     "data": {
      "text/plain": [
       "array([ 3.24481208,  3.8624777 ,  9.60928988,  3.8624777 ])"
      ]
     },
     "execution_count": 19,
     "metadata": {},
     "output_type": "execute_result"
    }
   ],
   "source": [
    "all_eigens(B,x_B,10**(-8))"
   ]
  },
  {
   "cell_type": "code",
   "execution_count": 20,
   "metadata": {
    "collapsed": false
   },
   "outputs": [
    {
     "name": "stdout",
     "output_type": "stream",
     "text": [
      "[ 2.28342049  3.24481208  3.8624777   9.60928988  9.60929007]\n"
     ]
    }
   ],
   "source": [
    "Matrix = B\n",
    "x_init = x_B\n",
    "lam = np.array(1)\n",
    "count=0\n",
    "for i in range(0,len(Matrix)):\n",
    "    k = eigenvalue_inv(Matrix-GD(Matrix,len(Matrix))[i,0]*np.identity(len(Matrix)),x_init,10**(-8))\n",
    "    k1 = eigenvalue_inv(Matrix,k[0],10**(-8))\n",
    "    lam = np.append(lam,k1[1])\n",
    "    #while lam.any()==lam[:i].any():\n",
    "    if lam.any()==lam[:i].any():\n",
    "        bad_val = np.where(lam == k1[1])\n",
    "        h=1\n",
    "        np.delete(lam,bad_val)\n",
    "        k = eigenvalue_inv(Matrix-(GD(Matrix,len(Matrix))+10*h)[i,0]*np.identity(len(Matrix)),x_init,10**(-8))\n",
    "        k1 = eigenvalue_inv(Matrix,k[0],10**(-8))\n",
    "        lam = np.append(lam,k1[1])    \n",
    "        h=2**h\n",
    "lam=lam[1:]\n",
    "lam = np.unique(lam)\n",
    "print(lam)"
   ]
  },
  {
   "cell_type": "code",
   "execution_count": 21,
   "metadata": {
    "collapsed": false
   },
   "outputs": [],
   "source": [
    "K = np.matrix(np.zeros((5,5)))\n",
    "for i in range(0,5):\n",
    "    K[:,i]=np.matrix(np.random.rand(5,1))\n",
    "x_k = np.matrix(np.random.rand(5)).T"
   ]
  },
  {
   "cell_type": "code",
   "execution_count": 22,
   "metadata": {
    "collapsed": false
   },
   "outputs": [
    {
     "ename": "TypeError",
     "evalue": "'matrix' object is not callable",
     "output_type": "error",
     "traceback": [
      "\u001b[0;31m---------------------------------------------------------------------------\u001b[0m",
      "\u001b[0;31mTypeError\u001b[0m                                 Traceback (most recent call last)",
      "\u001b[0;32m<ipython-input-22-0805763cf9b3>\u001b[0m in \u001b[0;36m<module>\u001b[0;34m()\u001b[0m\n\u001b[0;32m----> 1\u001b[0;31m \u001b[0mchar_poly\u001b[0m \u001b[0;34m=\u001b[0m \u001b[0mMatrix\u001b[0m\u001b[0;34m(\u001b[0m\u001b[0mB\u001b[0m\u001b[0;34m-\u001b[0m\u001b[0mx\u001b[0m\u001b[0;34m*\u001b[0m\u001b[0mnp\u001b[0m\u001b[0;34m.\u001b[0m\u001b[0midentity\u001b[0m\u001b[0;34m(\u001b[0m\u001b[0mlen\u001b[0m\u001b[0;34m(\u001b[0m\u001b[0mB\u001b[0m\u001b[0;34m)\u001b[0m\u001b[0;34m)\u001b[0m\u001b[0;34m)\u001b[0m\u001b[0;34m.\u001b[0m\u001b[0mdet\u001b[0m\u001b[0;34m(\u001b[0m\u001b[0;34m)\u001b[0m\u001b[0;34m\u001b[0m\u001b[0m\n\u001b[0m\u001b[1;32m      2\u001b[0m \u001b[0msolve\u001b[0m\u001b[0;34m(\u001b[0m\u001b[0mchar_poly\u001b[0m\u001b[0;34m)\u001b[0m\u001b[0;34m\u001b[0m\u001b[0m\n",
      "\u001b[0;31mTypeError\u001b[0m: 'matrix' object is not callable"
     ]
    }
   ],
   "source": [
    "char_poly = Matrix(B-x*np.identity(len(B))).det()\n",
    "solve(char_poly)"
   ]
  },
  {
   "cell_type": "code",
   "execution_count": 31,
   "metadata": {
    "collapsed": false
   },
   "outputs": [
    {
     "data": {
      "text/plain": [
       "array([ 3.14589803,  9.854102  ,  3.14589804])"
      ]
     },
     "execution_count": 31,
     "metadata": {},
     "output_type": "execute_result"
    }
   ],
   "source": [
    "J = np.matrix([[3,2,1],[1,8,9],[0,1,4]])\n",
    "x_J = np.matrix(np.random.rand(3)).T\n",
    "all_eigens(J,x_J,10**(-8))\n"
   ]
  },
  {
   "cell_type": "code",
   "execution_count": 32,
   "metadata": {
    "collapsed": false
   },
   "outputs": [
    {
     "name": "stdout",
     "output_type": "stream",
     "text": [
      "[ 1.99999992  3.14589803  3.14589804  9.854102    9.85410219]\n"
     ]
    }
   ],
   "source": [
    "Matrix = J\n",
    "x_init = x_J\n",
    "lam = np.array(1)\n",
    "count=0\n",
    "for i in range(0,len(Matrix)):\n",
    "    k = eigenvalue_inv(Matrix-GD(Matrix,len(Matrix))[i,0]*np.identity(len(Matrix)),x_init,10**(-8))\n",
    "    k1 = eigenvalue_inv(Matrix,k[0],10**(-8))\n",
    "    lam = np.append(lam,k1[1])\n",
    "    #while lam.any()==lam[:i].any():\n",
    "    if lam.any()==lam[:i].any():\n",
    "        bad_val = np.where(lam == k1[1])\n",
    "        h=1\n",
    "        np.delete(lam,bad_val)\n",
    "        k = eigenvalue_inv(Matrix-(GD(Matrix,len(Matrix))+10*h)[i,0]*np.identity(len(Matrix)),x_init,10**(-8))\n",
    "        k1 = eigenvalue_inv(Matrix,k[0],10**(-8))\n",
    "        lam = np.append(lam,k1[1])    \n",
    "        h=2**h\n",
    "lam=lam[1:]\n",
    "lam = np.unique(lam)\n",
    "print(lam)"
   ]
  },
  {
   "cell_type": "code",
   "execution_count": null,
   "metadata": {
    "collapsed": true
   },
   "outputs": [],
   "source": []
  }
 ],
 "metadata": {
  "kernelspec": {
   "display_name": "Python 3",
   "language": "python",
   "name": "python3"
  },
  "language_info": {
   "codemirror_mode": {
    "name": "ipython",
    "version": 3
   },
   "file_extension": ".py",
   "mimetype": "text/x-python",
   "name": "python",
   "nbconvert_exporter": "python",
   "pygments_lexer": "ipython3",
   "version": "3.4.3"
  }
 },
 "nbformat": 4,
 "nbformat_minor": 0
}
