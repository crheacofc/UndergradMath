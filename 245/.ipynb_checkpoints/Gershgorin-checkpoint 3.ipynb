{
 "cells": [
  {
   "cell_type": "code",
   "execution_count": 4,
   "metadata": {},
   "outputs": [],
   "source": [
    "import numpy as np\n",
    "\n",
    "def eigenvalue_inv(Matrix,x_init,ToL):\n",
    "    err = ToL+1\n",
    "    for i in range(1,len(Matrix)):\n",
    "        U = np.matrix(np.zeros((1,len(Matrix))))\n",
    "        U = x_init/euclidean_dist(Matrix,x_init)\n",
    "        Matrix_inv = Matrix.I\n",
    "        x = Matrix_inv*U\n",
    "        lam=U.T*x\n",
    "    while err>ToL:\n",
    "        for i in range (1,len(Matrix)):\n",
    "            U1 = np.matrix(np.zeros((1,len(Matrix))))\n",
    "            U1 = x/euclidean_dist(Matrix,x)\n",
    "            Matrix_inv = Matrix.I\n",
    "            x1= Matrix_inv*U1\n",
    "            lam = 1/(U1.T*x)\n",
    "        err = abs(euclidean_dist(Matrix,x1)-euclidean_dist(Matrix,x))\n",
    "        x = x1\n",
    "    return x,lam\n",
    "\n",
    "    \n",
    "def euclidean_dist(Matrix,x_init):\n",
    "    val = 0\n",
    "    for i in range(0,len(Matrix)):\n",
    "        val += x_init[i,0]**2\n",
    "    return np.sqrt(float(val))\n",
    "\n",
    "def eigenvalue(Matrix,x_init,ToL):\n",
    "    err = ToL+1  \n",
    "    for i in range (1,len(Matrix)):\n",
    "        U = np.matrix(np.zeros((1,len(Matrix))))\n",
    "        U = x_init/euclidean_dist(Matrix,x_init)\n",
    "        x= Matrix*U\n",
    "        lam = U.T*x\n",
    "    while err > ToL:\n",
    "        for i in range (1,len(Matrix)):\n",
    "            U1 = np.matrix(np.zeros((1,len(Matrix))))\n",
    "            U1 = x/euclidean_dist(Matrix,x)\n",
    "            x1= Matrix*U1\n",
    "            lam = U1.T*x\n",
    "        err = abs(euclidean_dist(Matrix,x1)-euclidean_dist(Matrix,x))\n",
    "        x = x1\n",
    "    return x,lam\n",
    "\n",
    "from sympy import symbols\n"
   ]
  },
  {
   "cell_type": "code",
   "execution_count": 5,
   "metadata": {
    "collapsed": true
   },
   "outputs": [],
   "source": [
    "A = np.matrix([[3,1,1],[1,8,1],[1,1,4]])\n",
    "x_A = np.matrix(np.random.rand(3)).T\n",
    "\n"
   ]
  },
  {
   "cell_type": "code",
   "execution_count": 6,
   "metadata": {},
   "outputs": [
    {
     "name": "stdout",
     "output_type": "stream",
     "text": [
      "[[ 4.13535911]]\n"
     ]
    }
   ],
   "source": [
    "vec2, lam2 = eigenvalue_inv(A - 4*np.identity(len(A)), x_A, 10**(-8))\n",
    "best_vec2, best_lam2 = eigenvalue_inv(A, vec2, 10**(-8))\n",
    "print(best_lam2)\n"
   ]
  },
  {
   "cell_type": "code",
   "execution_count": 7,
   "metadata": {},
   "outputs": [
    {
     "name": "stdout",
     "output_type": "stream",
     "text": [
      "λ is [[ 2.35997659]]\n",
      "The largest Lambda is [[ 8.50466434]]\n",
      "The middle eigenvalue is [[ 4.13535911]]\n",
      "The eigenvectors from the smallest value to the largest are as follows:\n",
      "[[-1.77829949]\n",
      " [ 0.13801419]\n",
      " [ 1.        ]]\n",
      "\n",
      "[[ 0.84625   ]\n",
      " [ 3.65821748]\n",
      " [ 1.        ]]\n",
      "\n",
      "[[ 0.53169532]\n",
      " [-0.39633573]\n",
      " [ 1.        ]]\n"
     ]
    }
   ],
   "source": [
    "##note that the vec represents the eigenvectors!\n",
    "vec1 , lam_s =  eigenvalue_inv(A,x_A,10**(-8))\n",
    "print(chr(955),'is', lam_s) \n",
    "vec2 , lam_l =  eigenvalue(A,x_A,10**(-8))\n",
    "print(\"The largest Lambda is %s\"%(lam_l))\n",
    "vec3, lam3 = eigenvalue_inv(A - 4*np.identity(len(A)), x_A, 10**(-8))\n",
    "vec3, lam3 = eigenvalue_inv(A, vec3, 10**(-8))\n",
    "\n",
    "\n",
    "print('The middle eigenvalue is %s'%(lam3))\n",
    "\n",
    "print('The eigenvectors from the smallest value to the largest are as follows:')\n",
    "print(vec1/vec1[2])\n",
    "print()\n",
    "print(vec2/vec2[2])\n",
    "print()\n",
    "print(vec3/vec3[2])\n",
    "\n",
    "\n"
   ]
  },
  {
   "cell_type": "code",
   "execution_count": 8,
   "metadata": {},
   "outputs": [],
   "source": [
    "def GD(A,dim):\n",
    "    G = np.matrix(np.zeros((dim,2)))\n",
    "    for i in range(0,dim):\n",
    "        G[i,0] = A[i,i]\n",
    "        G[i,1] = np.sum(abs(A[i,:i]))+np.sum(abs(A[i,i+1:]))\n",
    "    return G\n"
   ]
  },
  {
   "cell_type": "code",
   "execution_count": 9,
   "metadata": {},
   "outputs": [
    {
     "data": {
      "text/plain": [
       "matrix([[ 3.,  2.],\n",
       "        [ 8.,  2.],\n",
       "        [ 4.,  2.]])"
      ]
     },
     "execution_count": 9,
     "metadata": {},
     "output_type": "execute_result"
    }
   ],
   "source": [
    "n = 3\n",
    "Gor_A = GD(A,3)\n",
    "Gor_A"
   ]
  },
  {
   "cell_type": "code",
   "execution_count": 10,
   "metadata": {},
   "outputs": [],
   "source": [
    "def all_eigens(Matrix,x_init,ToL):\n",
    "    lam = np.array(1)\n",
    "    for i in range(0,len(Matrix)):\n",
    "        k = eigenvalue_inv(Matrix-GD(Matrix,len(Matrix))[i,0]*np.identity(len(Matrix)),x_init,10**(-8))\n",
    "        k1 = eigenvalue_inv(Matrix,k[0],10**(-8))\n",
    "        lam = np.append(lam,k1[1])\n",
    "    return lam[1:]"
   ]
  },
  {
   "cell_type": "code",
   "execution_count": 11,
   "metadata": {},
   "outputs": [],
   "source": [
    "eigs = all_eigens(A,x_A,10**(-8))"
   ]
  },
  {
   "cell_type": "code",
   "execution_count": 12,
   "metadata": {},
   "outputs": [],
   "source": [
    "zeros = np.matrix(np.zeros((len(A),1)))\n"
   ]
  },
  {
   "cell_type": "code",
   "execution_count": 13,
   "metadata": {},
   "outputs": [
    {
     "data": {
      "text/plain": [
       "matrix([[ 0.64002347,  1.        ,  1.        ],\n",
       "        [ 1.        ,  5.64002347,  1.        ],\n",
       "        [ 1.        ,  1.        ,  1.64002347]])"
      ]
     },
     "execution_count": 13,
     "metadata": {},
     "output_type": "execute_result"
    }
   ],
   "source": [
    "EV_zero = (A-eigs[0]*np.identity(len(A)))\n",
    "EV_zero"
   ]
  },
  {
   "cell_type": "code",
   "execution_count": 14,
   "metadata": {
    "collapsed": true
   },
   "outputs": [],
   "source": [
    "from sympy import *\n",
    "x = symbols('x')"
   ]
  },
  {
   "cell_type": "code",
   "execution_count": 15,
   "metadata": {},
   "outputs": [
    {
     "data": {
      "text/plain": [
       "[2.35997653310736 + 0.e-20*I,\n",
       " 4.1353591133046 - 0.e-22*I,\n",
       " 8.50466435358805 - 0.e-20*I]"
      ]
     },
     "execution_count": 15,
     "metadata": {},
     "output_type": "execute_result"
    }
   ],
   "source": [
    "char_poly = Matrix(A-x*np.identity(len(A))).det()\n",
    "solve(char_poly)"
   ]
  },
  {
   "cell_type": "code",
   "execution_count": 16,
   "metadata": {},
   "outputs": [
    {
     "name": "stdout",
     "output_type": "stream",
     "text": [
      "[[ 1.]]\n",
      "[[ 1.99999999]]\n"
     ]
    }
   ],
   "source": [
    "BS = np.matrix([[0,1],[2,1]])\n",
    "b_0 = np.matrix(np.random.rand((2))).T\n",
    "all_eigens(BS,b_0,10**(-8))\n",
    "print(eigenvalue_inv(BS,b_0,10**(-10))[1])\n",
    "print(eigenvalue(BS,b_0,10**(-8))[1])\n",
    "\n"
   ]
  },
  {
   "cell_type": "code",
   "execution_count": null,
   "metadata": {
    "collapsed": true
   },
   "outputs": [],
   "source": []
  },
  {
   "cell_type": "code",
   "execution_count": null,
   "metadata": {
    "collapsed": true
   },
   "outputs": [],
   "source": []
  },
  {
   "cell_type": "code",
   "execution_count": null,
   "metadata": {
    "collapsed": true
   },
   "outputs": [],
   "source": []
  },
  {
   "cell_type": "code",
   "execution_count": null,
   "metadata": {
    "collapsed": true
   },
   "outputs": [],
   "source": []
  },
  {
   "cell_type": "code",
   "execution_count": 17,
   "metadata": {
    "collapsed": true
   },
   "outputs": [],
   "source": [
    "B = np.matrix([[3,1,2,1],[1,4,2,1],[1,1,8,2],[1,1,1,4]])"
   ]
  },
  {
   "cell_type": "code",
   "execution_count": 18,
   "metadata": {},
   "outputs": [
    {
     "data": {
      "text/plain": [
       "matrix([[ 0.16460533],\n",
       "        [ 0.83696523],\n",
       "        [ 0.67159   ],\n",
       "        [ 0.93043896]])"
      ]
     },
     "execution_count": 18,
     "metadata": {},
     "output_type": "execute_result"
    }
   ],
   "source": [
    "x_B = np.matrix(np.random.rand(4)).T\n",
    "x_B"
   ]
  },
  {
   "cell_type": "code",
   "execution_count": 19,
   "metadata": {},
   "outputs": [
    {
     "data": {
      "text/plain": [
       "array([ 3.24481208,  3.8624777 ,  9.60928987,  3.8624777 ])"
      ]
     },
     "execution_count": 19,
     "metadata": {},
     "output_type": "execute_result"
    }
   ],
   "source": [
    "all_eigens(B,x_B,10**(-8))"
   ]
  },
  {
   "cell_type": "code",
   "execution_count": 20,
   "metadata": {
    "collapsed": true
   },
   "outputs": [],
   "source": [
    "def all_eigens(Matrix,x_init,ToL):\n",
    "    lam = np.array(1)\n",
    "    for i in range(0,len(Matrix)):\n",
    "        k = eigenvalue_inv(Matrix-GD(Matrix,len(Matrix))[i,0]*np.identity(len(Matrix)),x_init,10**(-8))\n",
    "        k1 = eigenvalue_inv(Matrix,k[0],10**(-8))\n",
    "        lam = np.append(lam,k1[1])\n",
    "        if lam.any()==k1[1]:\n",
    "            bad_val = np.where(l == k1[1])\n",
    "            np.delete(lam,bad_val)\n",
    "            k = eigenvalue_inv(Matrix-(GD(Matrix,len(Matrix))-5)[i,0]*np.identity(len(Matrix)),x_init,10**(-8))\n",
    "            k1 = eigenvalue_inv(Matrix,k[0],10**(-8))\n",
    "            lam = np.append(lam,k1[1])     \n",
    "    return lam[1:]"
   ]
  },
  {
   "cell_type": "code",
   "execution_count": 21,
   "metadata": {},
   "outputs": [
    {
     "data": {
      "text/plain": [
       "array([ 3.24481208,  3.8624777 ,  9.60928987,  3.8624777 ])"
      ]
     },
     "execution_count": 21,
     "metadata": {},
     "output_type": "execute_result"
    }
   ],
   "source": [
    "all_eigens(B,x_B,10**(-8))"
   ]
  },
  {
   "cell_type": "code",
   "execution_count": 22,
   "metadata": {},
   "outputs": [
    {
     "name": "stdout",
     "output_type": "stream",
     "text": [
      "[ 2.28342019  3.24481208  3.8624777   9.60928987  9.60929017]\n"
     ]
    }
   ],
   "source": [
    "Matrix = B\n",
    "x_init = x_B\n",
    "lam = np.array(1)\n",
    "count=0\n",
    "for i in range(0,len(Matrix)):\n",
    "    k = eigenvalue_inv(Matrix-GD(Matrix,len(Matrix))[i,0]*np.identity(len(Matrix)),x_init,10**(-8))\n",
    "    k1 = eigenvalue_inv(Matrix,k[0],10**(-8))\n",
    "    lam = np.append(lam,k1[1])\n",
    "    #while lam.any()==lam[:i].any():\n",
    "    if lam.any()==lam[:i].any():\n",
    "        bad_val = np.where(lam == k1[1])\n",
    "        h=1\n",
    "        np.delete(lam,bad_val)\n",
    "        k = eigenvalue_inv(Matrix-(GD(Matrix,len(Matrix))+10*h)[i,0]*np.identity(len(Matrix)),x_init,10**(-8))\n",
    "        k1 = eigenvalue_inv(Matrix,k[0],10**(-8))\n",
    "        lam = np.append(lam,k1[1])    \n",
    "        h=2**h\n",
    "lam=lam[1:]\n",
    "lam = np.unique(lam)\n",
    "print(lam)"
   ]
  },
  {
   "cell_type": "code",
   "execution_count": 23,
   "metadata": {},
   "outputs": [],
   "source": [
    "K = np.matrix(np.zeros((5,5)))\n",
    "for i in range(0,5):\n",
    "    K[:,i]=np.matrix(np.random.rand(5,1))\n",
    "x_k = np.matrix(np.random.rand(5)).T"
   ]
  },
  {
   "cell_type": "code",
   "execution_count": 24,
   "metadata": {},
   "outputs": [
    {
     "data": {
      "text/plain": [
       "array([ 3.14589803,  9.85410199,  3.14589804])"
      ]
     },
     "execution_count": 24,
     "metadata": {},
     "output_type": "execute_result"
    }
   ],
   "source": [
    "J = np.matrix([[3,2,1],[1,8,9],[0,1,4]])\n",
    "x_J = np.matrix(np.random.rand(3)).T\n",
    "all_eigens(J,x_J,10**(-8))\n"
   ]
  },
  {
   "cell_type": "code",
   "execution_count": 25,
   "metadata": {},
   "outputs": [
    {
     "name": "stdout",
     "output_type": "stream",
     "text": [
      "[ 1.9999999   3.14589803  3.14589804  9.85410199  9.85410214]\n"
     ]
    }
   ],
   "source": [
    "Matrix = J\n",
    "x_init = x_J\n",
    "lam = np.array(1)\n",
    "count=0\n",
    "for i in range(0,len(Matrix)):\n",
    "    k = eigenvalue_inv(Matrix-GD(Matrix,len(Matrix))[i,0]*np.identity(len(Matrix)),x_init,10**(-8))\n",
    "    k1 = eigenvalue_inv(Matrix,k[0],10**(-8))\n",
    "    lam = np.append(lam,k1[1])\n",
    "    #while lam.any()==lam[:i].any():\n",
    "    if lam.any()==lam[:i].any():\n",
    "        bad_val = np.where(lam == k1[1])\n",
    "        h=1\n",
    "        np.delete(lam,bad_val)\n",
    "        k = eigenvalue_inv(Matrix-(GD(Matrix,len(Matrix))+10*h)[i,0]*np.identity(len(Matrix)),x_init,10**(-8))\n",
    "        k1 = eigenvalue_inv(Matrix,k[0],10**(-8))\n",
    "        lam = np.append(lam,k1[1])    \n",
    "        h=2**h\n",
    "lam=lam[1:]\n",
    "lam = np.unique(lam)\n",
    "print(lam)"
   ]
  },
  {
   "cell_type": "markdown",
   "metadata": {
    "collapsed": true
   },
   "source": [
    "## GR using GramSchmidt"
   ]
  },
  {
   "cell_type": "code",
   "execution_count": 26,
   "metadata": {},
   "outputs": [
    {
     "name": "stdout",
     "output_type": "stream",
     "text": [
      "Q [[ 0.90453403 -0.31245118 -0.29015934]\n",
      " [ 0.30151134  0.9498516  -0.08290267]\n",
      " [ 0.30151134 -0.01249805  0.95338067]]\n",
      "\n",
      "R [[ 3.31662479  3.61813613  2.41209076]\n",
      " [ 0.          7.27386355  0.58740822]\n",
      " [ 0.          0.          3.44046069]]\n",
      "[[  8.50466435e+000   7.39932948e-016  -8.02725610e-016]\n",
      " [  2.08987360e-062   4.13535911e+000   4.77597893e-016]\n",
      " [  4.19450963e-111  -5.74951701e-049   2.35997653e+000]]\n",
      "An eigenvalue is 8.50466435359\n",
      "An eigenvalue is 4.1353591133\n",
      "An eigenvalue is 2.35997653311\n",
      "[[  1.00000000e+000   0.00000000e+000   0.00000000e+000]\n",
      " [  4.78307861e-063   1.00000000e+000   0.00000000e+000]\n",
      " [  2.35076588e-112  -3.23844169e-049   1.00000000e+000]]\n"
     ]
    }
   ],
   "source": [
    "def gramSchmidt(A):   \n",
    "    \n",
    "    n = len(A)\n",
    "    Q = np.zeros((n, n))\n",
    "    R = np.zeros((n, n))\n",
    "    # had issues making it work with np.matrix when I finally remembered \n",
    "    # matrices again, so we're sticking with this.\n",
    "\n",
    "    for i in range(n):\n",
    "        v = A[:, i]\n",
    "        \n",
    "        for j in range(i):\n",
    "            R[j, i] = (Q[:, j]).T * A[:, i]\n",
    "            \n",
    "            v = v.squeeze() - (R[j, i] * Q[:, j])\n",
    "            \n",
    "        R[i, i] = np.linalg.norm(v)\n",
    "        Q[:, i] = (v / R[i, i]).squeeze()\n",
    "        \n",
    "    ''' *squeeze() shrinks multiple one dimensional arrays down to a single\n",
    "    array '''\n",
    "    # Remmber this function later, it's super helpful and you spent long \n",
    "    # enough looking for it to make use of it again\n",
    "        \n",
    "    R = np.matrix(R)\n",
    "    Q = np.matrix(Q)     \n",
    "    # according to wolfram it was supposed to be the transpose of what I got\n",
    "    # for Q, but the numbers are still correct...\n",
    "    # so I'm running with it\n",
    "        \n",
    "    return Q, R\n",
    "       \n",
    "Q, R = gramSchmidt(A)\n",
    "\n",
    "print(\"Q\", Q)\n",
    "print()\n",
    "print(\"R\", R)\n",
    "\n",
    "#print(np.dot(Q, R))\n",
    "##Now lets get the eigenvalues\n",
    "for i in range(0,200):\n",
    "    A_new = R*Q\n",
    "    Q,R = gramSchmidt(A_new)\n",
    "print(A_new)\n",
    "lam = np.matrix(np.zeros((1,len(A))))\n",
    "for i in range(0,len(A)):\n",
    "    lam[0,i] = A_new[i,i]\n",
    "    print(\"An eigenvalue is %s\"%(lam[0,i]))\n",
    "    \n",
    "    \n",
    "Q_big = Q\n",
    "for i in range(0,20):\n",
    "    A_new = R*Q\n",
    "    Q1,R = gramSchmidt(A_new)\n",
    "    Q_big = Q_big*Q1\n",
    "    Q=Q1\n",
    "print(Q_big)\n",
    "\n",
    "\n"
   ]
  },
  {
   "cell_type": "code",
   "execution_count": null,
   "metadata": {
    "collapsed": true
   },
   "outputs": [],
   "source": []
  }
 ],
 "metadata": {
  "kernelspec": {
   "display_name": "Python 3",
   "language": "python",
   "name": "python3"
  },
  "language_info": {
   "codemirror_mode": {
    "name": "ipython",
    "version": 3
   },
   "file_extension": ".py",
   "mimetype": "text/x-python",
   "name": "python",
   "nbconvert_exporter": "python",
   "pygments_lexer": "ipython3",
   "version": "3.6.1"
  }
 },
 "nbformat": 4,
 "nbformat_minor": 1
}
