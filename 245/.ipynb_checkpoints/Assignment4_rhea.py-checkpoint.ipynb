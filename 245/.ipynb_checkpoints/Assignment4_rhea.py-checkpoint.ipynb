{
 "cells": [
  {
   "cell_type": "markdown",
   "metadata": {},
   "source": [
    "# Assignment 4\n",
    "Author: Carter Rhea"
   ]
  },
  {
   "cell_type": "code",
   "execution_count": 19,
   "metadata": {
    "collapsed": false
   },
   "outputs": [],
   "source": [
    "import numpy as np\n",
    "from math import e\n",
    "from matplotlib import pyplot as plt\n",
    "from matplotlib.pyplot import figure, plot, semilogx, semilogy, loglog, title\n",
    "\n",
    "%matplotlib inline"
   ]
  },
  {
   "cell_type": "markdown",
   "metadata": {},
   "source": [
    "## Problem 1:\n",
    "Consider the goal of approximating $I = \\int_0^1 f(x)dx$ with three evaluations of the function f, by\n",
    "\n",
    "$$c_0f(0) + c_1f(1/2) + c_2f(1)$$\n",
    "\n",
    "Determine the coefficients that give the highest possible degree of precision.\n",
    "\n",
    "Then rescale this formula to give an approximation\n",
    "$$\\int_a^b f(x) dx \\approx [C_0f(a)+C_1f((a+b)/2)+C_2f(b)] (b-a) $$\n",
    "What is its degree of precision? \n",
    "Do you recognize this result?\n"
   ]
  },
  {
   "cell_type": "markdown",
   "metadata": {},
   "source": [
    "First I will find the coefficient $c_0,c_1,$ and $c_2$.\n",
    "\n",
    "$$\\underline{n=0} \\rightarrow f(x)=1 \\rightarrow \\int_0^1 1 dx = 1 = c_0+c_1+c_2$$\n",
    "$$\\underline{n=1} \\rightarrow f(x)=x \\rightarrow \\int_0^1 x dx = \\frac{1}{2} = \\frac{1}{2}c_1+c_2$$\n",
    "$$\\underline{n=2} \\rightarrow f(x)=x^2 \\rightarrow \\int_0^1 x^2 dx = \\frac{1}{3} = \\frac{1}{4}c_1+c_2$$\n",
    "So now we can solve for our coefficients. \n",
    "$$1 = c_0+c_1+c_2$$\n",
    "\n",
    "$$\\frac{1}{2} = \\frac{1}{2}c_1+c_2$$\n",
    "\n",
    "$$\\frac{1}{3} = \\frac{1}{4}c_1+c_2$$\n",
    "Solving these equations gives $$c_0=\\frac{1}{6},c_1=\\frac{2}{3},c_2=\\frac{1}{6} $$\n",
    "Hence we can check if this works for $n>2$ to get the exact degree of precision.\n",
    "$$\\underline{n=3} \\rightarrow f(x)=x^3 \\rightarrow \\int_0^1 x^3 dx = \\frac{1}{4} = \\frac{1}{8}c_1+c_2$$\n",
    "Substituting in our coefficient values into $\\frac{1}{4} = \\frac{1}{8}c_1+c_2$ we get \n",
    "$$\\frac{1}{4} = \\frac{1}{8}\\frac{4}{6}+\\frac{1}{6}=\\frac{1}{4} $$\n",
    "Thus it has at least a degree of precision 3. Now to check for DoP 4.\n",
    "$$\\underline{n=4} \\rightarrow f(x)=x^4 \\rightarrow \\int_0^1 x^4 dx = \\frac{1}{5} = \\frac{1}{16}c_1+c_2$$\n",
    "\n",
    "Substituting in our coefficient values into $\\frac{1}{5} = \\frac{1}{16}c_1+c_2$ we get \n",
    "$$\\frac{1}{5} = \\frac{1}{16}\\frac{4/6}+\\frac{1}{6} = \\frac{5}{24} $$\n",
    "Hence it does not work for n=4.\n",
    "\n",
    "Therefore our degree of precision is 3!\n"
   ]
  },
  {
   "cell_type": "markdown",
   "metadata": {},
   "source": [
    "## Problem 2:\n",
    "For the following data, find:\n",
    "\n",
    "(a) A linear least squares fit\n",
    "$$(Blood Pressure) \\approx P0 + P1(Weight)$$\n",
    "(b) A power law fit\n",
    "$$(Blood Pressure) \\approx P(Weight)^a $$"
   ]
  },
  {
   "cell_type": "code",
   "execution_count": 28,
   "metadata": {
    "collapsed": false
   },
   "outputs": [],
   "source": [
    "ydata = np.matrix([157.,129.,120.,162.,24.,300.,98.,60.,120.,140.,128.,55.,193.])\n",
    "xdata = np.matrix([800000.,2000.,5000.,2000.,50.,900000.,30000.,100.,90000.,5000.,150000.,100.,15000.])"
   ]
  },
  {
   "cell_type": "markdown",
   "metadata": {},
   "source": [
    "### a)\n",
    "We are going to use the model $f = c_0 + c_1x$. In matrix form our series of equations looks like the following:"
   ]
  },
  {
   "cell_type": "code",
   "execution_count": 29,
   "metadata": {
    "collapsed": false
   },
   "outputs": [
    {
     "data": {
      "text/plain": [
       "matrix([[  1.00000000e+00,   8.00000000e+05],\n",
       "        [  1.00000000e+00,   2.00000000e+03],\n",
       "        [  1.00000000e+00,   5.00000000e+03],\n",
       "        [  1.00000000e+00,   2.00000000e+03],\n",
       "        [  1.00000000e+00,   5.00000000e+01],\n",
       "        [  1.00000000e+00,   9.00000000e+05],\n",
       "        [  1.00000000e+00,   3.00000000e+04],\n",
       "        [  1.00000000e+00,   1.00000000e+02],\n",
       "        [  1.00000000e+00,   9.00000000e+04],\n",
       "        [  1.00000000e+00,   5.00000000e+03],\n",
       "        [  1.00000000e+00,   1.50000000e+05],\n",
       "        [  1.00000000e+00,   1.00000000e+02],\n",
       "        [  1.00000000e+00,   1.50000000e+04]])"
      ]
     },
     "execution_count": 29,
     "metadata": {},
     "output_type": "execute_result"
    }
   ],
   "source": [
    "ones = np.matrix(np.ones((1,13)))\n",
    "A = np.matrix(np.zeros((13,2)))\n",
    "A[:,0] = ones.T\n",
    "A[:,1] = xdata.T\n",
    "A"
   ]
  },
  {
   "cell_type": "code",
   "execution_count": 30,
   "metadata": {
    "collapsed": false
   },
   "outputs": [
    {
     "data": {
      "text/plain": [
       "matrix([[ 157.],\n",
       "        [ 129.],\n",
       "        [ 120.],\n",
       "        [ 162.],\n",
       "        [  24.],\n",
       "        [ 300.],\n",
       "        [  98.],\n",
       "        [  60.],\n",
       "        [ 120.],\n",
       "        [ 140.],\n",
       "        [ 128.],\n",
       "        [  55.],\n",
       "        [ 193.]])"
      ]
     },
     "execution_count": 30,
     "metadata": {},
     "output_type": "execute_result"
    }
   ],
   "source": [
    "## Here is our b matrix:\n",
    "b = np.matrix(ydata.T)\n",
    "b"
   ]
  },
  {
   "cell_type": "markdown",
   "metadata": {},
   "source": [
    "Now we need to solve $A^TA\\bar{x}=A^Tb$ to solve for $\\bar{x}$. "
   ]
  },
  {
   "cell_type": "code",
   "execution_count": 31,
   "metadata": {
    "collapsed": false
   },
   "outputs": [
    {
     "name": "stdout",
     "output_type": "stream",
     "text": [
      "Matrix ATA is \n",
      " [[  1.30000000e+01   1.99925000e+06]\n",
      " [  1.99925000e+06   1.48178302e+12]]\n",
      "Matrix ATb is \n",
      " [[  1.68600000e+03]\n",
      " [  4.33329700e+08]]\n"
     ]
    }
   ],
   "source": [
    "ATA = A.T.dot(A)\n",
    "print(\"Matrix ATA is \\n\",ATA)\n",
    "ATb= A.T.dot(b)\n",
    "print(\"Matrix ATb is \\n\",ATb)"
   ]
  },
  {
   "cell_type": "markdown",
   "metadata": {},
   "source": [
    "Hence we have the normal equations:\n",
    "$$ \\left[ \\begin{array}{cc} 13. & 1686. \\\\ 1686. & 276372.  \\end{array} \\right] \\left[\\begin{array}{c} x_1\\\\x_2\\end{array} \\right] = \\left[\\begin{array}{c} 1999250. \\\\433329700.\\end{array} \\right] $$\n",
    "These can be solved using built in software.\n"
   ]
  },
  {
   "cell_type": "code",
   "execution_count": 32,
   "metadata": {
    "collapsed": false
   },
   "outputs": [
    {
     "name": "stdout",
     "output_type": "stream",
     "text": [
      "c_1 is  106.899820975 and c_2 is 0.00014820674119\n"
     ]
    }
   ],
   "source": [
    "ATA_inverse = ATA.I\n",
    "x = ATA_inverse*(ATb)\n",
    "c_0 = x[0,0]\n",
    "c_1 = x[1,0]\n",
    "print(\"c_1 is \",c_0,\"and c_2 is\",c_1)"
   ]
  },
  {
   "cell_type": "markdown",
   "metadata": {},
   "source": [
    "Hence our solutions to $c_0$ and $c_1$  are $-237333.59085093$ and $3015.76908723$, repectively."
   ]
  },
  {
   "cell_type": "markdown",
   "metadata": {},
   "source": [
    "To check with a python package ..."
   ]
  },
  {
   "cell_type": "code",
   "execution_count": 33,
   "metadata": {
    "collapsed": false
   },
   "outputs": [
    {
     "name": "stdout",
     "output_type": "stream",
     "text": [
      "By this package c_0 is 106.899820975 and c_1 is 0.00014820674119\n"
     ]
    }
   ],
   "source": [
    "sol = np.linalg.lstsq(A, ydata.T)[0]\n",
    "print(\"By this package c_0 is %s and c_1 is %s\" %(sol[0,0],sol[1,0]))"
   ]
  },
  {
   "cell_type": "markdown",
   "metadata": {},
   "source": [
    "Alas the answer is the same! Therefore our equation is \n",
    "$$y = 106.899820975 + 0.00014820674119x $$"
   ]
  },
  {
   "cell_type": "code",
   "execution_count": 42,
   "metadata": {
    "collapsed": false
   },
   "outputs": [
    {
     "data": {
      "image/png": "[encoded data removed]",
      "text/plain": [
       "<matplotlib.figure.Figure at 0x1072d2668>"
      ]
     },
     "metadata": {},
     "output_type": "display_data"
    }
   ],
   "source": [
    "eq =c_0+c_1*xdata\n",
    "figure('linear-log')\n",
    "title('semi-log (y) plot: log scale on vertical axis')\n",
    "semilogx(xdata,ydata, '*',xdata,eq, '.-')\n",
    "plt.show()"
   ]
  },
  {
   "cell_type": "code",
   "execution_count": null,
   "metadata": {
    "collapsed": false
   },
   "outputs": [],
   "source": []
  },
  {
   "cell_type": "code",
   "execution_count": null,
   "metadata": {
    "collapsed": true
   },
   "outputs": [],
   "source": []
  },
  {
   "cell_type": "markdown",
   "metadata": {},
   "source": [
    "### b)\n",
    "For power law fitting, it is easier to change variables. We will define $u_k=ln(x_k)$ and $v_k=ln(y_k)$. Then we will have $v_k = c_0 + c_1u_k$ where $c_0 = ln(A)$ and $c_1=p$. "
   ]
  },
  {
   "cell_type": "code",
   "execution_count": 35,
   "metadata": {
    "collapsed": false
   },
   "outputs": [
    {
     "name": "stdout",
     "output_type": "stream",
     "text": [
      "The matrix A is \n",
      " [[  1.          13.59236701]\n",
      " [  1.           7.60090246]\n",
      " [  1.           8.51719319]\n",
      " [  1.           7.60090246]\n",
      " [  1.           3.91202301]\n",
      " [  1.          13.71015004]\n",
      " [  1.          10.30895266]\n",
      " [  1.           4.60517019]\n",
      " [  1.          11.40756495]\n",
      " [  1.           8.51719319]\n",
      " [  1.          11.91839057]\n",
      " [  1.           4.60517019]\n",
      " [  1.           9.61580548]]\n",
      "The matrix b is \n",
      " [[ 5.05624581]\n",
      " [ 4.8598124 ]\n",
      " [ 4.78749174]\n",
      " [ 5.08759634]\n",
      " [ 3.17805383]\n",
      " [ 5.70378247]\n",
      " [ 4.58496748]\n",
      " [ 4.09434456]\n",
      " [ 4.78749174]\n",
      " [ 4.94164242]\n",
      " [ 4.85203026]\n",
      " [ 4.00733319]\n",
      " [ 5.26269019]]\n"
     ]
    }
   ],
   "source": [
    "u = np.log(xdata)\n",
    "v = np.log(ydata)\n",
    "A = np.matrix(np.zeros((13,2)))\n",
    "A[:,0] = np.ones((13,1))\n",
    "A[:,1] = u.T\n",
    "print(\"The matrix A is \\n\",A)\n",
    "b = np.matrix(np.zeros((13,1)))\n",
    "b[:,0] = v.T\n",
    "print(\"The matrix b is \\n\",b)"
   ]
  },
  {
   "cell_type": "markdown",
   "metadata": {},
   "source": [
    "Once again we have our normal equations:"
   ]
  },
  {
   "cell_type": "code",
   "execution_count": 36,
   "metadata": {
    "collapsed": false
   },
   "outputs": [
    {
     "name": "stdout",
     "output_type": "stream",
     "text": [
      "ATA is the matrix \n",
      " [[   13.           115.91178539]\n",
      " [  115.91178539  1161.99115194]]\n",
      "ATb is the matrix \n",
      " [[  61.20348244]\n",
      " [ 565.45571815]]\n"
     ]
    }
   ],
   "source": [
    "ATA = A.T.dot(A)\n",
    "ATb = A.T.dot(b)\n",
    "print(\"ATA is the matrix \\n\",ATA)\n",
    "print(\"ATb is the matrix \\n\",ATb)"
   ]
  },
  {
   "cell_type": "markdown",
   "metadata": {},
   "source": [
    "Thus we have \n",
    "$$ \\left[ \\begin{array}{cc} 13. & 61.20348244 \\\\ 61.20348244 & 293.04258873  \\end{array} \\right] \\left[\\begin{array}{c} ln(P)\\\\ a \\end{array} \\right] = \\left[\\begin{array}{c} 115.91178539 \\\\565.45571815 \\end{array} \\right] $$\n",
    "\n",
    "And again by using built in functinos we can solve for ln(P) and a."
   ]
  },
  {
   "cell_type": "code",
   "execution_count": 37,
   "metadata": {
    "collapsed": false
   },
   "outputs": [
    {
     "name": "stdout",
     "output_type": "stream",
     "text": [
      "P is 28.1512539951\n",
      "a is 0.153692635055\n"
     ]
    }
   ],
   "source": [
    "ATA_inverse = ATA.I\n",
    "sol = ATA_inverse.dot(ATb)\n",
    "P = e**sol[0,0]\n",
    "a = sol[1,0]\n",
    "print(\"P is\",P)\n",
    "print(\"a is\",a)"
   ]
  },
  {
   "cell_type": "code",
   "execution_count": 38,
   "metadata": {
    "collapsed": false
   },
   "outputs": [
    {
     "name": "stdout",
     "output_type": "stream",
     "text": [
      "Using the numpy solve function we get\n",
      "[[ 3.3375919 ]\n",
      " [ 0.15369264]]\n"
     ]
    }
   ],
   "source": [
    "x = np.linalg.solve(ATA,ATb)\n",
    "print(\"Using the numpy solve function we get\")\n",
    "print(x)"
   ]
  },
  {
   "cell_type": "markdown",
   "metadata": {
    "collapsed": true
   },
   "source": [
    "Therefore our power law model is $ y = 28.1512539951x^{0.153692635055}$"
   ]
  },
  {
   "cell_type": "code",
   "execution_count": 51,
   "metadata": {
    "collapsed": false
   },
   "outputs": [
    {
     "data": {
      "text/plain": [
       "<function matplotlib.pyplot.show>"
      ]
     },
     "execution_count": 51,
     "metadata": {},
     "output_type": "execute_result"
    },
    {
     "data": {
      "image/png": "[encoded data removed]",
      "text/plain": [
       "<matplotlib.figure.Figure at 0x10761b0f0>"
      ]
     },
     "metadata": {},
     "output_type": "display_data"
    }
   ],
   "source": [
    "eqn = P*np.array(xdata)**a\n",
    "plt.semilogx(xdata,ydata,marker=\"*\")\n",
    "plt.semilogx(xdata,eqn,\".\")\n",
    "plt.show"
   ]
  },
  {
   "cell_type": "code",
   "execution_count": null,
   "metadata": {
    "collapsed": false
   },
   "outputs": [],
   "source": []
  },
  {
   "cell_type": "code",
   "execution_count": null,
   "metadata": {
    "collapsed": true
   },
   "outputs": [],
   "source": []
  },
  {
   "cell_type": "code",
   "execution_count": null,
   "metadata": {
    "collapsed": true
   },
   "outputs": [],
   "source": []
  },
  {
   "cell_type": "code",
   "execution_count": null,
   "metadata": {
    "collapsed": true
   },
   "outputs": [],
   "source": []
  },
  {
   "cell_type": "code",
   "execution_count": null,
   "metadata": {
    "collapsed": true
   },
   "outputs": [],
   "source": []
  }
 ],
 "metadata": {
  "kernelspec": {
   "display_name": "Python 3",
   "language": "python",
   "name": "python3"
  },
  "language_info": {
   "codemirror_mode": {
    "name": "ipython",
    "version": 3
   },
   "file_extension": ".py",
   "mimetype": "text/x-python",
   "name": "python",
   "nbconvert_exporter": "python",
   "pygments_lexer": "ipython3",
   "version": "3.4.3"
  }
 },
 "nbformat": 4,
 "nbformat_minor": 0
}
