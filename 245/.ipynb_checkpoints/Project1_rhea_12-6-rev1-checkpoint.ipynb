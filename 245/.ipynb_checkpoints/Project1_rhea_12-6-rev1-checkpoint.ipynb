{
 "cells": [
  {
   "cell_type": "code",
   "execution_count": 1,
   "metadata": {
    "collapsed": false
   },
   "outputs": [],
   "source": [
    "import numpy\n",
    "from warnings import warn\n",
    "from math import pi"
   ]
  },
  {
   "cell_type": "markdown",
   "metadata": {},
   "source": [
    "# Introduction"
   ]
  },
  {
   "cell_type": "markdown",
   "metadata": {},
   "source": [
    "Methods for calculating derivative values and integral values come in many flavors. Some approximations are faster than others even though they may not give as good of an error. Thus, it is important to measure the cost vs. accuracy for numerical methods and weigh one against the other. In the methods section each method for calculating the derivative and integral is briefly discussed; if the method is more detailed then a concise algorithm is included. In the results section there is a brief demonstration of how well the different approximations work."
   ]
  },
  {
   "cell_type": "markdown",
   "metadata": {},
   "source": [
    "# Methods"
   ]
  },
  {
   "cell_type": "markdown",
   "metadata": {},
   "source": [
    "## Centered Difference Formula\n",
    "\n",
    "$$f′(a)=\\frac{f(a+h)-f(a-h)}{2h}$$\n",
    "The centered differnce formula is a considerably better approximation than usual difference quotient. This is because the centered difference formula acts as a doubled difference quotient since it pulls values from each side of the value. "
   ]
  },
  {
   "cell_type": "markdown",
   "metadata": {},
   "source": [
    "I also have the forward and backward difference formulas which I use for the modified trapezoid rule"
   ]
  },
  {
   "cell_type": "markdown",
   "metadata": {},
   "source": [
    "Forward : $$f'(a)=\\frac{f(a+h)-f(a)}{h} $$\n",
    "\n",
    "Backward : $$f'(b)=\\frac{f(b)-f(b-h)}{h} $$"
   ]
  },
  {
   "cell_type": "markdown",
   "metadata": {},
   "source": [
    "## Richarson Extrapolation\n",
    "\n",
    "$$Q=\\frac{2^nF(h)-F(2h)}{2^n-1} $$\n",
    "Richardson extrapolation is frequently used because it changes to error; i.e. an error of $h$ becomes and error of $h^2$."
   ]
  },
  {
   "cell_type": "markdown",
   "metadata": {},
   "source": [
    "For our purposes, we used richardson extrapolation on the centered difference formula. Hence our inputs include the function, f, an x value, x_0, an h value, h, and finally an error tolerance, ToL. My algorithm calls the centered difference formula as centered\\_diff(f,x_0,h). The function returns the derivative value and an error estimate. \n",
    "The algorithm is as follows:\n"
   ]
  },
  {
   "cell_type": "raw",
   "metadata": {},
   "source": [
    "CD_n = centered_diff(f,x_0,h)\n",
    "CD_2n = centered_diff(f,x_0,h**2)\n",
    "while abs((1/3.)*(CD_2n-CD_n)) > ToL:    \n",
    "    CD_n = centered_diff(f,x_0,h)\n",
    "    CD_2n = centered_diff(f,x_0,h**2)\n",
    "    rich_ext = CD_2n + ((1/3.)*(CD_2n-CD_n))\n",
    "    err = abs((1/3.)*(CD_2n-CD_n))\n",
    "    h=h/2"
   ]
  },
  {
   "cell_type": "markdown",
   "metadata": {},
   "source": [
    "For Richardson Extrapolation with a function not existing in the reals at certain values (i.e. x^(1/2)), we need to use forward difference. Since the forward difference formula is of different order than \n",
    "$$f′(a) = \\frac{−f(a+2h)+4f(a+h)−3f(a)}{2h}$$\n"
   ]
  },
  {
   "cell_type": "markdown",
   "metadata": {},
   "source": [
    "## Midpoint\n",
    "The midpoint rule is used for the recursive trapezoid method"
   ]
  },
  {
   "cell_type": "markdown",
   "metadata": {},
   "source": [
    "For the midpoint rule, we simply take a range, a to b, a set number of steps, n, and a function, f. From there we break the interval into n steps and determine the midpoint. Finally we sum the function values at the endpoints and multiply them by $h=\\frac{b-a}{n}$. This gives us a decent approximation for the midpoint. The algorithm contains a linspace command which is a python command which breaks an interval into n many sections.\n",
    "The algorithm is as follows:\n"
   ]
  },
  {
   "cell_type": "raw",
   "metadata": {},
   "source": [
    "h=(b-a)/n   \n",
    "x_{new} = linspace(a+h/2,b-h/2,n)\n",
    "x_f = f(x_{new})\n",
    "M = h\\sum(x_f)"
   ]
  },
  {
   "cell_type": "markdown",
   "metadata": {},
   "source": [
    "## Recursive Trapezoid"
   ]
  },
  {
   "cell_type": "markdown",
   "metadata": {},
   "source": [
    "The main idea behind the recursive trapezoid rule is that we can find better and better approximations for the integral by repeatatively using the trapezoid and midpoint rules in conjunction. \n",
    "\n",
    "We start off with the basic trapezoid $\\frac{(f(a)+f(b))(b-a)}{2}$. From here we calculate the midpoint rule as explained above. Finally we calculate the new trapezoid value as $T_2n=\\frac{T_n+M_n}{2} $.\n",
    "\n",
    "Each iteration we change the n-value by a factor of 2.\n",
    "We also include a max value to ensure there is no infinite loop. We also have an error tolerance (ToL).\n",
    "\n",
    "The algoritm is as follows:\n"
   ]
  },
  {
   "cell_type": "raw",
   "metadata": {},
   "source": [
    "T_n=((f(a)+f(b))/2)*(b-a)\n",
    "n=1\n",
    "for steps in range(1,nmax):\n",
    "    M_n = midpoint(f,a,b,2**(steps-1))\n",
    "    T_2n = (T_n+M_n)/2\n",
    "    if abs(T_2n-T_n)/3 < ToL:\n",
    "        break\n",
    "    n = 2*n\n",
    "    T_n=T_2n"
   ]
  },
  {
   "cell_type": "markdown",
   "metadata": {},
   "source": [
    "## Modified Trapezoid Rule\n",
    "Additionally, we have a modified trapezoid rule which takes the centered difference formula to calculate the derivatives and the trapezoid rule. The basic form looks like this :\n",
    "$$T'_n = T_n-\\frac{f'(b)-f'(a)}{12}h^2 $$\n",
    "If we do this calculation multiple times by doubling the number of subintervals we can reuse the old points and thus reduce the cost. The error estimate is a basic $E_{2n}=\\frac{T_{2n}-T_n}{3} $.\n",
    "I use the basic trapezoid rule to calculate my $T_n$ and $T_{2n}$ values.\n",
    "\n",
    "The algorithm is as follows:"
   ]
  },
  {
   "cell_type": "raw",
   "metadata": {},
   "source": [
    "def mod_trap(f,a,b,n,h,ToL):\n",
    "    T_n= trapezoid(f,a,b,n)\n",
    "    CD_a = forward_diff(f,a,h)\n",
    "    CD_b = backward_diff(f,b,h)\n",
    "    T_mod = T_n - ((CD_b-CD_a)*h**2)/12\n",
    "    T_n2= trapezoid(f,a,b,2*n)\n",
    "    T_mod2 = T_n2 - ((CD_b-CD_a)*h**2)/12\n",
    "    error = ToL+10\n",
    "    while error>ToL:\n",
    "        T_n= trapezoid(f,a,b,n)\n",
    "        T_mod = T_n - ((CD_b-CD_a)*h**2)/12\n",
    "        T_n2= trapezoid(f,a,b,2*n)\n",
    "        T_mod2 = T_n2 - ((CD_b-CD_a)*h**2)/12 \n",
    "        n=2*n\n",
    "        error = abs(T_mod2-T_mod)\n",
    "    return T_mod2,error"
   ]
  },
  {
   "cell_type": "markdown",
   "metadata": {},
   "source": [
    "## Romberg Method\n",
    "The romberg method is an extrapolation technique which creates better approximations. Its first approximation is the recursive trapezoid rule followed by simpsons rule $\\frac{4T_{2n}-T_n}{4-1}$. Further iterations reveal better and better approximations. Also each iteration of the romberg method results in a smaller error by a factor of $h^{2k}$. This fascinating method gives excellent approximations for integrals.\n",
    "\n",
    "My algorithm is as follows:"
   ]
  },
  {
   "cell_type": "raw",
   "metadata": {},
   "source": [
    "R[0,0] = (f(a)+f(b))*(b-a)/2\n",
    "c=2\n",
    "for j in range(1,jmax):\n",
    "    R[j,0] =(R[j-1,0]+midpoint(f,a,b,2**(j-1)))/2\n",
    "    for k in range(1,j):\n",
    "        R[j,k]=(4**k*R[j,k-1]-R[j-1,k-1])/(4**k-1)\n",
    "        err = abs((R[j,k-1]-R[j-1,k-1])/(4**k-1))\n",
    "        if err < ToL:\n",
    "            break"
   ]
  },
  {
   "cell_type": "markdown",
   "metadata": {},
   "source": [
    "# Results"
   ]
  },
  {
   "cell_type": "markdown",
   "metadata": {},
   "source": [
    "## Derivatives"
   ]
  },
  {
   "cell_type": "code",
   "execution_count": 2,
   "metadata": {
    "collapsed": false
   },
   "outputs": [],
   "source": [
    "from Project1_module_rhea import centered_diff,forward_diff,backward_diff,trap_recursive,trapezoid2,richardson,mod_trap,Romberg\n",
    "from math import e"
   ]
  },
  {
   "cell_type": "code",
   "execution_count": 3,
   "metadata": {
    "collapsed": true
   },
   "outputs": [],
   "source": [
    "##Testing Centered Difference Formula for a few different test cases\n",
    "def f(x): return x**3+2*x**2-8\n",
    "def g(x): return 1/x**3\n",
    "def k(x): return e**(-x**2)\n",
    "def i(x): return numpy.log(x)\n",
    "def t(x): return x**(1/2)\n",
    "def s(x): return e**numpy.sin(x)"
   ]
  },
  {
   "cell_type": "code",
   "execution_count": 4,
   "metadata": {
    "collapsed": false
   },
   "outputs": [
    {
     "name": "stdout",
     "output_type": "stream",
     "text": [
      "With an h value of 0.1 our centered-difference calculated value for function x^3+2x^2-8 is 20.01000000000002\n",
      "With an h value of 0.01 our centered-difference calculated value for function x^3+2x^2-8 is 20.000099999999676\n",
      "With an h value of 0.001 our centered-difference calculated value for function x^3+2x^2-8 is 20.00000099999788\n",
      "With an h value of 0.0001 our centered-difference calculated value for function x^3+2x^2-8 is 20.00000001001645\n",
      "With an h value of 1e-05 our centered-difference calculated value for function x^3+2x^2-8 is 20.00000000030866\n",
      "\n",
      "With an h value of 0.1 our centered-difference calculated value for function 1/x^3 is -0.18907073841600514\n",
      "With an h value of 0.01 our centered-difference calculated value for function 1/x^3 is -0.18751562582034476\n",
      "With an h value of 0.001 our centered-difference calculated value for function 1/x^3 is -0.18750015625006167\n",
      "With an h value of 0.0001 our centered-difference calculated value for function 1/x^3 is -0.18750000156268765\n",
      "With an h value of 1e-05 our centered-difference calculated value for function 1/x^3 is -0.1875000000164939\n",
      "\n",
      "With an h value of 0.1 our centered-difference calculated value for function e^(-x^2) is -0.0744833426821774\n",
      "With an h value of 0.01 our centered-difference calculated value for function e^(-x^2) is -0.07327476595642944\n",
      "With an h value of 0.001 our centered-difference calculated value for function e^(-x^2) is -0.073262677659185\n",
      "With an h value of 0.0001 our centered-difference calculated value for function e^(-x^2) is -0.07326255677604296\n",
      "With an h value of 1e-05 our centered-difference calculated value for function e^(-x^2) is -0.07326255556765193\n"
     ]
    }
   ],
   "source": [
    "x_0=2\n",
    "ToL = 10**(-8)\n",
    "for h in [.1,.01,.001,.0001,.00001]:\n",
    "    c = centered_diff(f,x_0,h)\n",
    "    print(\"With an h value of %s our centered-difference calculated value for function x^3+2x^2-8 is %s\"%(h,c))  \n",
    "print()\n",
    "for h in [.1,.01,.001,.0001,.00001]:\n",
    "    c = centered_diff(g,x_0,h)\n",
    "    print(\"With an h value of %s our centered-difference calculated value for function 1/x^3 is %s\"%(h,c))  \n",
    "print()\n",
    "for h in [.1,.01,.001,.0001,.00001]:\n",
    "    c = centered_diff(k,x_0,h)\n",
    "    print(\"With an h value of %s our centered-difference calculated value for function e^(-x^2) is %s\"%(h,c))  \n",
    "\n"
   ]
  },
  {
   "cell_type": "markdown",
   "metadata": {},
   "source": [
    "Using Richarson Extrapolation we can evaluate the best method to calculate a derivative. We will also be using the centered difference formula in order to calculate the derivative with Richardson Extrapolation. "
   ]
  },
  {
   "cell_type": "code",
   "execution_count": 5,
   "metadata": {
    "collapsed": false
   },
   "outputs": [
    {
     "name": "stdout",
     "output_type": "stream",
     "text": [
      "With an h value of 0.01 our Richardson Extrapolation calculated value for function x^3+2x^2-8 is 20.000000030533254 with an error of 6.1087727469081674e-09\n",
      "\n",
      "With an h value of 0.01 our Richardson Extrapolation calculated value for function 1/x^3 is -0.18750001907350544 with an error of 3.814704108151545e-09\n",
      "\n",
      "With an h value of 0.01 our Richardson Extrapolation calculated value for function e^(-x^2) is -0.07326257046025297 with an error of 2.981059843421008e-09\n"
     ]
    }
   ],
   "source": [
    "x_0=2\n",
    "ToL = 10**(-8)\n",
    "h = .01\n",
    "[r_val,r_err] = richardson(f,x_0,h,ToL)\n",
    "print(\"With an h value of %s our Richardson Extrapolation calculated value for function x^3+2x^2-8 is %s with an error of %s\"%(h,r_val,r_err))  \n",
    "print()\n",
    "[r_val,r_err] = richardson(g,x_0,h,ToL)\n",
    "print(\"With an h value of %s our Richardson Extrapolation calculated value for function 1/x^3 is %s with an error of %s\"%(h,r_val,r_err))  \n",
    "print()\n",
    "[r_val,r_err] = richardson(k,x_0,h,ToL)\n",
    "print(\"With an h value of %s our Richardson Extrapolation calculated value for function e^(-x^2) is %s with an error of %s\"%(h,r_val,r_err))  \n",
    "\n",
    "\n"
   ]
  },
  {
   "cell_type": "code",
   "execution_count": 6,
   "metadata": {
    "collapsed": false,
    "scrolled": true
   },
   "outputs": [
    {
     "name": "stdout",
     "output_type": "stream",
     "text": [
      "The difference in values between Richardson Extrapolation and CDF for function x^3+2x^2-8 is -9.996946642232274e-05\n",
      "\n",
      "The difference in values between Richardson Extrapolation and CDF for function 1/x^3 is 1.5606746839313956e-05\n",
      "\n",
      "The difference in values between Richardson Extrapolation and CDF for function e^(-x^2) is 1.2195496176467535e-05\n",
      "\n"
     ]
    }
   ],
   "source": [
    "c = centered_diff(f,x_0,h)\n",
    "[r_val,r_err] = richardson(f,x_0,h,ToL)\n",
    "print(\"The difference in values between Richardson Extrapolation and CDF for function x^3+2x^2-8 is %s\"%(r_val-c))\n",
    "print()\n",
    "\n",
    "c = centered_diff(g,x_0,h)\n",
    "[r_val,r_err] = richardson(g,x_0,h,ToL)\n",
    "print(\"The difference in values between Richardson Extrapolation and CDF for function 1/x^3 is %s\"%(r_val-c))\n",
    "print()\n",
    "\n",
    "c = centered_diff(k,x_0,h)\n",
    "[r_val,r_err] = richardson(k,x_0,h,ToL)\n",
    "print(\"The difference in values between Richardson Extrapolation and CDF for function e^(-x^2) is %s\"%(r_val-c))\n",
    "print()\n",
    "\n"
   ]
  },
  {
   "cell_type": "markdown",
   "metadata": {
    "collapsed": true
   },
   "source": [
    "Hence we can clearly see that Richardson Extrapolation is doing a better job at evaluating the derivative than the centered difference formula."
   ]
  },
  {
   "cell_type": "markdown",
   "metadata": {},
   "source": [
    "Now lets check a very simple derivative but over limits that can cause issues since it is not entirely defined on the interval."
   ]
  },
  {
   "cell_type": "code",
   "execution_count": 7,
   "metadata": {
    "collapsed": false
   },
   "outputs": [
    {
     "name": "stdout",
     "output_type": "stream",
     "text": [
      "\n",
      "The difference in values between Richardson Extrapolation and CDF for function x^{1/2} is -10.073262570460253\n"
     ]
    },
    {
     "name": "stderr",
     "output_type": "stream",
     "text": [
      "/Users/crhea/anaconda/lib/python3.4/site-packages/IPython/kernel/__main__.py:7: UserWarning: Division by zero, this is the best i can do!\n"
     ]
    }
   ],
   "source": [
    " try:\n",
    "    f = forward_diff(t,0,h)\n",
    "    [r_val,r_err] = richardson(t,0,h,ToL)\n",
    "                \n",
    "except ZeroDivisionError:\n",
    "    print()\n",
    "    warn('Division by zero, this is the best i can do!')\n",
    "\n",
    "print(\"The difference in values between Richardson Extrapolation and CDF for function x^{1/2} is %s\"%(r_val-f))"
   ]
  },
  {
   "cell_type": "markdown",
   "metadata": {},
   "source": [
    "We see an issue here since the calculation of the derivative involves division by zero. So to counteract this I will just check the derivative value at a close incredibly close to x=0."
   ]
  },
  {
   "cell_type": "markdown",
   "metadata": {},
   "source": [
    "Since $x^{1/2}$ spits out imaginary numbers for negative x-values, we must use the forward differences, not centered difference, when we are evaluating the function about x=0."
   ]
  },
  {
   "cell_type": "code",
   "execution_count": 8,
   "metadata": {
    "collapsed": true
   },
   "outputs": [],
   "source": [
    "def richardson_fix(f,x_0,h,ToL):\n",
    "    #Calculate both values for the forward difference\n",
    "    FD_n = forward_diff(f,x_0,h)\n",
    "    FD_2n = forward_diff(f,x_0,2*h)\n",
    "    err = ToL+1\n",
    "    while err > ToL:    \n",
    "        FD_n = forward_diff(f,x_0,h)\n",
    "        FD_2n = forward_diff(f,x_0,2*h)\n",
    "        rich_ext = (-FD_2n+4*FD_n-3*f(x_0))/(2*h)\n",
    "        err = abs((1/3.)*(FD_2n-FD_n))\n",
    "        h=h/2\n",
    "    return [rich_ext,err]"
   ]
  },
  {
   "cell_type": "code",
   "execution_count": 9,
   "metadata": {
    "collapsed": false
   },
   "outputs": [
    {
     "name": "stdout",
     "output_type": "stream",
     "text": [
      "Richardson extrapolation gives 397906612.8079009 while the basic forward difference gives 1.5434713018702029 at x = 0.1\n",
      "\n",
      "Richardson extrapolation gives 24662507230.9375 while the basic forward difference gives 4.14213562373095 at x = 0.01\n",
      "\n",
      "Richardson extrapolation gives 1270754557662.8823 while the basic forward difference gives 7.325810821533136 at x = 0.001\n",
      "\n",
      "Richardson extrapolation gives 64411624538112.0 while the basic forward difference gives 9.049875621120892 at x = 0.0001\n",
      "\n",
      "Richardson extrapolation gives 1629792888290085.0 while the basic forward difference gives 9.688770984607771 at x = 1e-05\n",
      "\n"
     ]
    }
   ],
   "source": [
    "for val in [.1,.01,.001,.0001,.00001]:\n",
    "    forward = forward_diff(t,val,h)\n",
    "    [r_val,r_err] = richardson_fix(t,val,h,ToL)\n",
    "    print(\"Richardson extrapolation gives %s while the basic forward difference gives %s at x = %s\"%(r_val,forward,val))         \n",
    "    print()"
   ]
  },
  {
   "cell_type": "markdown",
   "metadata": {},
   "source": [
    "Here we can see that as we approach x=0 richardson extrapolation is able to continuously calculate derivatives until $x = 1e^{-5}$ while the centered difference fails miserably."
   ]
  },
  {
   "cell_type": "markdown",
   "metadata": {},
   "source": [
    "We also see that the centered difference and richardson extrapolation work well for periodic functions."
   ]
  },
  {
   "cell_type": "code",
   "execution_count": 10,
   "metadata": {
    "collapsed": false
   },
   "outputs": [
    {
     "name": "stdout",
     "output_type": "stream",
     "text": [
      "Richardson extrapolation gives 1.09946647107 \n",
      " while the basic centered difference gives 1.09946082728 at x = 0.1\n",
      "\n",
      "Richardson extrapolation gives 1.00999945708 \n",
      " while the basic centered difference gives 1.00999898932 at x = 0.01\n",
      "\n",
      "Richardson extrapolation gives 1.0009999838 \n",
      " while the basic centered difference gives 1.00099994877 at x = 0.001\n",
      "\n",
      "Richardson extrapolation gives 1.000099961 \n",
      " while the basic centered difference gives 1.00009999433 at x = 0.0001\n",
      "\n",
      "Richardson extrapolation gives 1.0000099835 \n",
      " while the basic centered difference gives 1.00000999883 at x = 1e-05\n",
      "\n"
     ]
    }
   ],
   "source": [
    "for val in [.1,.01,.001,.0001,.00001]:\n",
    "    c = centered_diff(s,val,h)\n",
    "    [r_val,r_err] = richardson(s,val,h,ToL)\n",
    "    print(\"Richardson extrapolation gives %s \\n while the basic centered difference gives %s at x = %s\"%(r_val,c,val))         \n",
    "    print()"
   ]
  },
  {
   "cell_type": "markdown",
   "metadata": {},
   "source": [
    "## Integration"
   ]
  },
  {
   "cell_type": "markdown",
   "metadata": {},
   "source": [
    "Here I will demonstrate the varying integration techniques and their accuracy"
   ]
  },
  {
   "cell_type": "code",
   "execution_count": 12,
   "metadata": {
    "collapsed": true
   },
   "outputs": [],
   "source": [
    "def f(x): return x**3+2*x**2-8"
   ]
  },
  {
   "cell_type": "code",
   "execution_count": 13,
   "metadata": {
    "collapsed": false
   },
   "outputs": [
    {
     "name": "stdout",
     "output_type": "stream",
     "text": [
      "The calculated integral value for function 3x^3 + 2x^2 - 8 using the trapezoid rule is 21.760000000000005\n",
      "The calculated integral value for function 3x^3 + 2x^2 - 8 using the recursive trapezoid rule is 21.375\n",
      "Which has an error of  0.00e+00 with 17 function evaluations\n",
      "The calculated integral value for function 3x^3 + 2x^2 - 8 using the modified trapezoid rule is 4.76837058727e-09\n",
      "Which has an error estimate of 4.76837058727e-09.\n",
      "The integral value according to the Romberg method for function 3x^3 + 2x^2 - 8 is 0.0\n",
      "Which has an error of 0.0 with 17 function evaluations\n"
     ]
    }
   ],
   "source": [
    "a = 1\n",
    "b = 3\n",
    "n = 5\n",
    "h = .1\n",
    "ToL = 10**(-8)\n",
    "Trap = trapezoid2(f,a,b,n)\n",
    "print(\"The calculated integral value for function 3x^3 + 2x^2 - 8 using the trapezoid rule is %s\"%(Trap))\n",
    "R_T,evals,err = trap_recursive(f,a,b,n,ToL)\n",
    "print(\"The calculated integral value for function 3x^3 + 2x^2 - 8 using the recursive trapezoid rule is %s\"%(R_T))\n",
    "print(\"Which has an error of %9.2e with %s function evaluations\"%(err,evals))    \n",
    "T_mod,error = mod_trap(f,a,b,n,h,ToL)\n",
    "print(\"The calculated integral value for function 3x^3 + 2x^2 - 8 using the modified trapezoid rule is %s\"%(error))\n",
    "print(\"Which has an error estimate of %s.\"%(error))\n",
    "Rom = Romberg(f,a,b,n,ToL)\n",
    "print(\"The integral value according to the Romberg method for function 3x^3 + 2x^2 - 8 is %s\"%(Rom[1]))\n",
    "print(\"Which has an error of %s with %s function evaluations\" %(Rom[1],Rom[2]))"
   ]
  },
  {
   "cell_type": "markdown",
   "metadata": {},
   "source": [
    "We can calculate the actual integral value for $x^3+2x^2-8$ with $1<x<3$. \n",
    "$$\\int_1^3 x^3+2x^2-8 dx = (\\frac{x^4}{4}+\\frac{2x^3}{3}-8x) \\Big|_1^3 = \\frac{81}{4}+\\frac{54}{3}+24-\\frac{1}{4}-\\frac{2}{3}+8 = \\frac{64}{3}$$\n",
    "\n",
    "Hence for $x^3+2x^2-8$ we see that the integral value according to the Romberg method is the best approximation."
   ]
  },
  {
   "cell_type": "code",
   "execution_count": 14,
   "metadata": {
    "collapsed": false
   },
   "outputs": [
    {
     "name": "stdout",
     "output_type": "stream",
     "text": [
      "The real error for 3x^3 + 2x^2 - 8 according to the trapezoid method is 0.42666666666667297\n",
      "\n",
      "The real error for 3x^3 + 2x^2 - 8 according to the recursive trapezoid method is 0.0416666666667\n",
      "\n",
      "The real error for 3x^3 + 2x^2 - 8 according to the trapezoid method is -0.0253333317439\n",
      "\n",
      "The real error for 3x^3 + 2x^2 - 8 according to the trapezoid method is 0.0\n",
      "\n"
     ]
    }
   ],
   "source": [
    "print(\"The real error for 3x^3 + 2x^2 - 8 according to the trapezoid method is %s\"%(Trap-64/3))\n",
    "print()\n",
    "print(\"The real error for 3x^3 + 2x^2 - 8 according to the recursive trapezoid method is %s\"%(R_T-64/3))\n",
    "print()\n",
    "print(\"The real error for 3x^3 + 2x^2 - 8 according to the trapezoid method is %s\"%(T_mod-64/3))\n",
    "print()\n",
    "print(\"The real error for 3x^3 + 2x^2 - 8 according to the trapezoid method is %s\"%(Rom[0]-64/3))\n",
    "print()"
   ]
  },
  {
   "cell_type": "markdown",
   "metadata": {},
   "source": [
    "And again for another easy integral \n",
    "$$f(x) = \\int_1^3 \\frac{1}{x^3} dx $$\n",
    "\n",
    "Which has an exact integral value of $\\frac{4}{9}$"
   ]
  },
  {
   "cell_type": "code",
   "execution_count": 15,
   "metadata": {
    "collapsed": false
   },
   "outputs": [
    {
     "name": "stdout",
     "output_type": "stream",
     "text": [
      "The calculated integral value for function sin(x) using the trapezoid rule is 0.482091154610791\n",
      "The calculated integral value for function sin(x) using the recursive trapezoid rule is 0.44828246126 with error 0.0  for 17 function evaluations\n",
      "The calculated integral value for function sin(x) using the modified trapezoid rule is 0.442405112257 with an error estimate of 7.06425673513e-09.\n",
      "The integral value according to the Romberg method for function sin(x) is 0.444451426396 with an error of 6.08549980476e-06 with 17 function evaluations\n"
     ]
    }
   ],
   "source": [
    "Trap = trapezoid2(g,a,b,n)\n",
    "print(\"The calculated integral value for function sin(x) using the trapezoid rule is %s\"%(Trap))\n",
    "R_T,evals,err = trap_recursive(g,a,b,n,ToL)\n",
    "print(\"The calculated integral value for function sin(x) using the recursive trapezoid rule is %s with error %s  for %s function evaluations\"%(R_T,err,evals))   \n",
    "T_mod,error = mod_trap(g,a,b,n,h,ToL)\n",
    "print(\"The calculated integral value for function sin(x) using the modified trapezoid rule is %s with an error estimate of %s.\"%(T_mod,error))\n",
    "Rom = Romberg(g,a,b,n,ToL)\n",
    "print(\"The integral value according to the Romberg method for function sin(x) is %s with an error of %s with %s function evaluations\" %(Rom[0],Rom[1],Rom[2]))"
   ]
  },
  {
   "cell_type": "code",
   "execution_count": 16,
   "metadata": {
    "collapsed": false
   },
   "outputs": [
    {
     "name": "stdout",
     "output_type": "stream",
     "text": [
      "The real error for x^(-3) according to the trapezoid method is 0.037646710166346575\n",
      "\n",
      "The real error for x^(-3) according to the recursive trapezoid method is 0.00383801681579\n",
      "\n",
      "The real error for x^(-3) according to the trapezoid method is -0.00203933218716\n",
      "\n",
      "The real error for x^(-3) according to the trapezoid method is 6.98195111437e-06\n",
      "\n"
     ]
    }
   ],
   "source": [
    "print(\"The real error for x^(-3) according to the trapezoid method is %s\"%(Trap-4/9))\n",
    "print()\n",
    "print(\"The real error for x^(-3) according to the recursive trapezoid method is %s\"%(R_T-4/9))\n",
    "print()\n",
    "print(\"The real error for x^(-3) according to the trapezoid method is %s\"%(T_mod-4/9))\n",
    "print()\n",
    "print(\"The real error for x^(-3) according to the trapezoid method is %s\"%(Rom[0]-4/9))\n",
    "print()"
   ]
  },
  {
   "cell_type": "markdown",
   "metadata": {},
   "source": [
    "For other integrals such as,  $\\int_1^3 e^{-x^2} dx $, which we can not integrate through traditional means, these integration techniques are more important. We once again can see below that the Romberg technique works the best."
   ]
  },
  {
   "cell_type": "code",
   "execution_count": 17,
   "metadata": {
    "collapsed": false
   },
   "outputs": [
    {
     "name": "stdout",
     "output_type": "stream",
     "text": [
      "The calculated integral value for function e^(-x^2) using the trapezoid rule is 0.14923600989331787\n",
      "The calculated integral value for function e^(-x^2) using the recursive trapezoid rule is 0.140340776748\n",
      "There is an associated error of 17 and a total of 0.0 function evaluations\n",
      "The calculated integral value for function e^(-x^2) using the modified trapezoid rule is 0.138803359936\n",
      "There is an associated error estimate of 7.00968280642e-09.\n",
      "The integral value according to the Romberg method for function e^(-x^2) is 0.13938329642\n",
      "There is an associated error of 1.21535332359e-07 and a total of 17 function evaluations\n"
     ]
    }
   ],
   "source": [
    "Trap = trapezoid2(k,a,b,n)\n",
    "print(\"The calculated integral value for function e^(-x^2) using the trapezoid rule is %s\"%(Trap))\n",
    "R_T,err,evals = trap_recursive(k,a,b,n,ToL)\n",
    "print(\"The calculated integral value for function e^(-x^2) using the recursive trapezoid rule is %s\"%(R_T))\n",
    "print(\"There is an associated error of %s and a total of %s function evaluations\"%(err,evals))  \n",
    "T_mod,error = mod_trap(k,a,b,n,h,ToL)\n",
    "print(\"The calculated integral value for function e^(-x^2) using the modified trapezoid rule is %s\"%(T_mod))\n",
    "print(\"There is an associated error estimate of %s.\"%(error))\n",
    "Rom = Romberg(k,a,b,n,ToL)\n",
    "print(\"The integral value according to the Romberg method for function e^(-x^2) is %s\"%(Rom[0]))    \n",
    "print(\"There is an associated error of %s and a total of %s function evaluations\"%(Rom[1],Rom[2]))"
   ]
  },
  {
   "cell_type": "markdown",
   "metadata": {},
   "source": [
    "Here is what we get for $$\\int_1^3 \\ln(x) \\ dx $$"
   ]
  },
  {
   "cell_type": "code",
   "execution_count": 31,
   "metadata": {
    "collapsed": false
   },
   "outputs": [
    {
     "name": "stdout",
     "output_type": "stream",
     "text": [
      "The calculated integral value for function ln(x) using the trapezoid rule is 1.2870135405\n",
      "The calculated integral value for function ln(x) using the recursive trapezoid rule is 1.29496946052\n",
      "There is an associated error of 0.0 and a total of 17 function evaluations\n",
      "The calculated integral value for function ln(x) using the modified trapezoid rule is 1.29634859609\n",
      "There is an associated error estimate of 2.54313139436e-08.\n",
      "The integral value according to the Romberg method for function ln(x) is 1.29583681324 \n",
      "There is an associated error of 1.04446954672e-07 and a total of 17 function evaluations\n"
     ]
    }
   ],
   "source": [
    "Trap = trapezoid2(i,a,b,n)\n",
    "print(\"The calculated integral value for function ln(x) using the trapezoid rule is %s\"%(Trap))\n",
    "R_T,evals,err = trap_recursive(i,a,b,n,ToL)\n",
    "print(\"The calculated integral value for function ln(x) using the recursive trapezoid rule is %s\"%(R_T))  \n",
    "print(\"There is an associated error of %s and a total of %s function evaluations\"%(err,evals))  \n",
    "T_mod,error = mod_trap(i,a,b,n,h,ToL)\n",
    "print(\"The calculated integral value for function ln(x) using the modified trapezoid rule is %s\"%(T_mod))\n",
    "print(\"There is an associated error estimate of %s.\"%(error))\n",
    "Rom = Romberg(i,a,b,n,ToL)\n",
    "print(\"The integral value according to the Romberg method for function ln(x) is %s \" %(Rom[0]))\n",
    "print(\"There is an associated error of %s and a total of %s function evaluations\"%(Rom[1],Rom[2]))"
   ]
  },
  {
   "cell_type": "markdown",
   "metadata": {},
   "source": [
    "While $f(x) = x^{1/2}$ caused problem for derivatives, we see that it isnt an issue for integrals."
   ]
  },
  {
   "cell_type": "code",
   "execution_count": 17,
   "metadata": {
    "collapsed": false
   },
   "outputs": [
    {
     "name": "stdout",
     "output_type": "stream",
     "text": [
      "The calculated integral value for function x^(1/2) using the trapezoid rule is 0.6497385975550066\n",
      "The calculated integral value for function x^(1/2) using the recursive trapezoid rule is 0.663581196877\n",
      "There is an associated error of 0.0 and a total of 17 function evaluations\n",
      "The calculated integral value for function x^(1/2) using the modified trapezoid rule is 0.668874233814\n",
      "There is an associated error estimate of 4.577803836e-08.\n",
      "The integral value according to the Romberg method for function x^(1/2) is 0.665585110067 \n",
      "There is an associated error of 3.23275358705e-05 and a total of 17 function evaluations\n"
     ]
    }
   ],
   "source": [
    "a_t = 0\n",
    "b_t = 1\n",
    "Trap = trapezoid2(t,a_t,b_t,n)\n",
    "print(\"The calculated integral value for function x^(1/2) using the trapezoid rule is %s\"%(Trap))\n",
    "R_T,evals,err = trap_recursive(t,a_t,b_t,n,ToL)\n",
    "print(\"The calculated integral value for function x^(1/2) using the recursive trapezoid rule is %s\"%(R_T))  \n",
    "print(\"There is an associated error of %s and a total of %s function evaluations\"%(err,evals))  \n",
    "T_mod,error = mod_trap(t,a_t,b_t,n,h,ToL)\n",
    "print(\"The calculated integral value for function x^(1/2) using the modified trapezoid rule is %s\"%(T_mod))\n",
    "print(\"There is an associated error estimate of %s.\"%(error))\n",
    "Rom = Romberg(t,a_t,b_t,n,ToL)\n",
    "print(\"The integral value according to the Romberg method for function x^(1/2) is %s \" %(Rom[0]))\n",
    "print(\"There is an associated error of %s and a total of %s function evaluations\"%(Rom[1],Rom[2]))"
   ]
  },
  {
   "cell_type": "markdown",
   "metadata": {
    "collapsed": true
   },
   "source": [
    "Finally, we can see some of the potential problems of periodic functions. The main issue here is since the sine is periodic over 0 to $2\\pi$ the integral should be zero; however since we are subtracting nearly equal numbers we get a residual value."
   ]
  },
  {
   "cell_type": "code",
   "execution_count": 16,
   "metadata": {
    "collapsed": false
   },
   "outputs": [
    {
     "name": "stdout",
     "output_type": "stream",
     "text": [
      "The calculated integral value for function e^(sin(x)) using the trapezoid rule is 7.95492651755\n",
      "The calculated integral value for function e^(sin(x)) using the recursive trapezoid rule is 7.95492652101\n",
      "There is an associated error of 0.0 and a total of 17 function evaluations\n",
      "The calculated integral value for function e^(sin(x)) using the modified trapezoid rule is 7.95500964248\n",
      "There is an associated error estimate of 8.881784197e-16.\n",
      "The integral value according to the Romberg method for function e^(sin(x)) is 7.95653477502 \n",
      "There is an associated error of 0.000844434344605 and a total of 17 function evaluations\n"
     ]
    }
   ],
   "source": [
    "a_s = 0\n",
    "b_s = 2*pi\n",
    "Trap = trapezoid2(s,a_s,b_s,n)\n",
    "print(\"The calculated integral value for function e^(sin(x)) using the trapezoid rule is %s\"%(Trap))\n",
    "R_T,evals,err = trap_recursive(s,a_s,b_s,n,ToL)\n",
    "print(\"The calculated integral value for function e^(sin(x)) using the recursive trapezoid rule is %s\"%(R_T))  \n",
    "print(\"There is an associated error of %s and a total of %s function evaluations\"%(err,evals))  \n",
    "T_mod,error = mod_trap(s,a_s,b_s,n,h,ToL)\n",
    "print(\"The calculated integral value for function e^(sin(x)) using the modified trapezoid rule is %s\"%(T_mod))\n",
    "print(\"There is an associated error estimate of %s.\"%(error))\n",
    "Rom = Romberg(s,a_s,b_s,n,ToL)\n",
    "print(\"The integral value according to the Romberg method for function e^(sin(x)) is %s \" %(Rom[0]))\n",
    "print(\"There is an associated error of %s and a total of %s function evaluations\"%(Rom[1],Rom[2]))"
   ]
  }
 ],
 "metadata": {
  "kernelspec": {
   "display_name": "Python 3",
   "language": "python",
   "name": "python3"
  },
  "language_info": {
   "codemirror_mode": {
    "name": "ipython",
    "version": 3
   },
   "file_extension": ".py",
   "mimetype": "text/x-python",
   "name": "python",
   "nbconvert_exporter": "python",
   "pygments_lexer": "ipython3",
   "version": "3.4.3"
  }
 },
 "nbformat": 4,
 "nbformat_minor": 0
}
