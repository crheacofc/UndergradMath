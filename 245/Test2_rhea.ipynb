{
 "cells": [
  {
   "cell_type": "markdown",
   "metadata": {},
   "source": [
    "# Problem 1\n",
    "### a) \n",
    "Find the polynomial of lowest degree that agrees with the function f (x) = cos x at the nodes $x_0 =0, x_1 =\\pi/4, \\ and \\ x_2 =3\\pi/4.$\n"
   ]
  },
  {
   "cell_type": "code",
   "execution_count": 1,
   "metadata": {
    "collapsed": true
   },
   "outputs": [],
   "source": [
    "from math import pi,sqrt,cos\n",
    "import numpy as np\n",
    "from matplotlib import pyplot as plt\n",
    "from numpy import e\n",
    "%matplotlib inline"
   ]
  },
  {
   "cell_type": "markdown",
   "metadata": {},
   "source": [
    "We are going to use the Lagrange Formula\n",
    "$$P_2(x)=y_1\\frac{(x-x_2)(x-x_3)}{(x_1-x_2)(x_1-x_3)}+y_2\\frac{(x-x_1)(x-x_3)}{(x_2-x_1)(x_2-x_3)}+y_3\\frac{(x-x_1)(x-x_2)}{(x_3-x_1)(x_3-x_2)}$$\n"
   ]
  },
  {
   "cell_type": "markdown",
   "metadata": {},
   "source": [
    "$x_1 = 0, x_2 = \\pi/4,  x_3 = 3\\pi/4$\n",
    "\n",
    "$y_1 = cos(0) = 1, y_2 = cos(\\pi/4) = \\frac{\\sqrt{2}}{2}, y_3 = cos(3\\pi/4) = -\\frac{\\sqrt{2}}{2} $\n"
   ]
  },
  {
   "cell_type": "markdown",
   "metadata": {},
   "source": [
    "Plugging this in we get, \n",
    "$$P_2(x) = 1\\frac{(x-\\pi/4)(x-3\\pi/4)}{(0-\\pi/4)(0-3\\pi/4)}+\\frac{\\sqrt{2}}{2}\\frac{(x-0)(x-3\\pi/4)}{(\\pi/4-0)(\\pi/4-3\\pi/4)}-\\frac{\\sqrt{2}}{2}\\frac{(x-0)(x-\\pi/4)}{(3\\pi/4-0)(3\\pi/4-\\pi/4)} $$"
   ]
  },
  {
   "cell_type": "code",
   "execution_count": 2,
   "metadata": {
    "collapsed": false
   },
   "outputs": [
    {
     "name": "stdout",
     "output_type": "stream",
     "text": [
      "0.5403796460924681 -0.5731591682507563 -0.3821061121671709\n"
     ]
    }
   ],
   "source": [
    "c_1 = 1/((-pi/4)*(-(3*pi)/4))\n",
    "c_2 = (sqrt(2))/(2*(pi/4)*(pi/4-3*pi/4))\n",
    "c_3 = -(sqrt(2))/(((3*pi)/4)*((3*pi)/4-pi/4))\n",
    "print(c_1,c_2,c_3)"
   ]
  },
  {
   "cell_type": "markdown",
   "metadata": {},
   "source": [
    "$$P_2(x) = .54037965(x-\\pi/4)(x-3\\pi/4)-0.573159183x(x-3\\pi/4)-0.382106112x(x-\\pi/4)$$"
   ]
  },
  {
   "cell_type": "markdown",
   "metadata": {},
   "source": [
    "### b)\n",
    "Without using the actual value of the cosine at any argument except the above three, use this polynomial to approximate cos(1), and compute an upper bound on the error in this approximation.\n"
   ]
  },
  {
   "cell_type": "markdown",
   "metadata": {},
   "source": [
    "We are just going to calculate P_2(1)..."
   ]
  },
  {
   "cell_type": "code",
   "execution_count": 3,
   "metadata": {
    "collapsed": false
   },
   "outputs": [
    {
     "name": "stdout",
     "output_type": "stream",
     "text": [
      "The approximated value of cos(1) = 0.5380415712171481\n"
     ]
    }
   ],
   "source": [
    "P_2 = .54037965*(1-pi/4)*(1-3*pi/4)-0.573159183*(1)*(1-3*pi/4)-0.382106112*(1)*(1-pi/4)\n",
    "print(\"The approximated value of cos(1) = %s\"%(P_2))"
   ]
  },
  {
   "cell_type": "markdown",
   "metadata": {},
   "source": [
    "We need to determine the error for our polynomial...\n",
    "$$f(x)-P_2(x) = \\frac{(x-0)(x-\\pi/4)(x-3\\pi/4)}{3!}f'''(c) $$\n",
    "where $0 \\leq c \\leq 3\\pi/4 $\n",
    "$$f(x)=cos(x) \\rightarrow f'(x)=-sin(c) \\rightarrow f''(x)=-cos(x) \\rightarrow f'''(x)=sin(x)$$\n",
    "\n",
    "Hence to maximize the error, we need to maximize the third derivative. This can be done by letting $c = 3\\pi/4$.\n",
    "Thus the error is,\n",
    "$$e(x)=\\left|\\frac{(x-0)(x-\\pi/4)(x-3\\pi/4)}{3!}\\frac{\\sqrt(2)}{2}\\right| $$"
   ]
  },
  {
   "cell_type": "code",
   "execution_count": 4,
   "metadata": {
    "collapsed": false
   },
   "outputs": [
    {
     "name": "stdout",
     "output_type": "stream",
     "text": [
      "0.03429960841005762\n"
     ]
    }
   ],
   "source": [
    "err_max = abs((sqrt(2)*(1-0)*(1-pi/4)*(1-3*pi/4))/(6*2))\n",
    "print(err_max)"
   ]
  },
  {
   "cell_type": "markdown",
   "metadata": {},
   "source": [
    "Therefore the max error for x=1 is 0.03429960841005762"
   ]
  },
  {
   "cell_type": "markdown",
   "metadata": {},
   "source": [
    "### c)\n",
    "Compute the actual error in this approximation of cos(1), and compare to your result in part (b).\n"
   ]
  },
  {
   "cell_type": "code",
   "execution_count": 5,
   "metadata": {
    "collapsed": false
   },
   "outputs": [
    {
     "data": {
      "text/plain": [
       "0.002260734650991636"
      ]
     },
     "execution_count": 5,
     "metadata": {},
     "output_type": "execute_result"
    }
   ],
   "source": [
    "abs(cos(1)-P_2)"
   ]
  },
  {
   "cell_type": "markdown",
   "metadata": {},
   "source": [
    "Hence we are happy because this is less than the max error so the $P_2(x)$ we estimated is correct!"
   ]
  },
  {
   "cell_type": "markdown",
   "metadata": {},
   "source": [
    "# Problem 2\n",
    "\n",
    "Two quantities x and y are known to be related by the form $y = ae^x + be^{−x}$. (Aside: this is true for example if they come from a solution of the differential\n",
    "equation d2y/dx2 = y).\n",
    "For the following six x values (known exactly), y values have been measured, with most of the inaccuracy in the y values just due to rounding, but with a mistake in recording one of the y values; this gives the following table of values:\n"
   ]
  },
  {
   "cell_type": "code",
   "execution_count": 27,
   "metadata": {
    "collapsed": false
   },
   "outputs": [],
   "source": [
    "xdata = np.matrix([0,.2,.4,.6,.8,1.])\n",
    "ydata = np.matrix([4.3,4.1245,4.1146,4.1382,4.5964,5.107])\n"
   ]
  },
  {
   "cell_type": "markdown",
   "metadata": {},
   "source": [
    "### a)\n",
    "Set up the least squares procedure for this pair of basis functions, and determine the best estimates of a and b in the least squares sense.\n",
    "\n",
    "$$Ax = b$$\n"
   ]
  },
  {
   "cell_type": "code",
   "execution_count": 7,
   "metadata": {
    "collapsed": false
   },
   "outputs": [
    {
     "name": "stdout",
     "output_type": "stream",
     "text": [
      "Here is matrix A: \n",
      " [[ 1.          1.        ]\n",
      " [ 1.22140276  0.81873075]\n",
      " [ 1.4918247   0.67032005]\n",
      " [ 1.8221188   0.54881164]\n",
      " [ 2.22554093  0.44932896]\n",
      " [ 2.71828183  0.36787944]]\n"
     ]
    }
   ],
   "source": [
    "A = np.matrix(np.zeros((6,2)))\n",
    "A[:,0] = np.exp(xdata.T)\n",
    "A[:,1] = np.exp(-xdata.T)\n",
    "print(\"Here is matrix A: \\n %s\"%(A))"
   ]
  },
  {
   "cell_type": "code",
   "execution_count": 67,
   "metadata": {
    "collapsed": false
   },
   "outputs": [
    {
     "name": "stdout",
     "output_type": "stream",
     "text": [
      "Here is our b matrix: \n",
      " [[ 4.3   ]\n",
      " [ 4.1245]\n",
      " [ 4.1146]\n",
      " [ 4.1382]\n",
      " [ 4.5964]\n",
      " [ 5.107 ]]\n"
     ]
    }
   ],
   "source": [
    "b = np.matrix(ydata.T)\n",
    "print(\"Here is our b matrix: \\n %s\"%(b))"
   ]
  },
  {
   "cell_type": "code",
   "execution_count": 9,
   "metadata": {
    "collapsed": false
   },
   "outputs": [
    {
     "name": "stdout",
     "output_type": "stream",
     "text": [
      "Here is our ATA matrix: \n",
      " [[ 20.37957107   6.        ]\n",
      " [  6.           2.75807502]]\n",
      "Here is our ATb matrix: \n",
      " [[ 47.12797122]\n",
      " [ 16.65010212]]\n"
     ]
    }
   ],
   "source": [
    "ATA = A.T.dot(A)\n",
    "ATb = A.T.dot(b)\n",
    "print(\"Here is our ATA matrix: \\n %s\"%(ATA))\n",
    "print(\"Here is our ATb matrix: \\n %s\"%(ATb))"
   ]
  },
  {
   "cell_type": "markdown",
   "metadata": {},
   "source": [
    "Hence we have the normal equations:\n",
    "$$ \\left[ \\begin{array}{cc} 20.37957107 & 6. \\\\ 6. & 2.75807502  \\end{array} \\right] \\left[\\begin{array}{c} x_1\\\\x_2\\end{array} \\right] = \\left[\\begin{array}{c} 47.12797122 \\\\16.65010212\\end{array} \\right] $$\n"
   ]
  },
  {
   "cell_type": "code",
   "execution_count": 64,
   "metadata": {
    "collapsed": false
   },
   "outputs": [
    {
     "name": "stdout",
     "output_type": "stream",
     "text": [
      "a is  1.48858338542 and b is 2.79854671971\n"
     ]
    }
   ],
   "source": [
    "ATA_inverse = ATA.I\n",
    "x = ATA_inverse*(ATb)\n",
    "a_val = x[0,0]\n",
    "b_val = x[1,0]\n",
    "print(\"a is \",a_val,\"and b is\",b_val)"
   ]
  },
  {
   "cell_type": "code",
   "execution_count": 65,
   "metadata": {
    "collapsed": false
   },
   "outputs": [
    {
     "data": {
      "text/plain": [
       "[<matplotlib.lines.Line2D at 0x1099d6908>]"
      ]
     },
     "execution_count": 65,
     "metadata": {},
     "output_type": "execute_result"
    },
    {
     "data": {
      "image/png": "[encoded data removed]",
      "text/plain": [
       "<matplotlib.figure.Figure at 0x108c4f630>"
      ]
     },
     "metadata": {},
     "output_type": "display_data"
    }
   ],
   "source": [
    "x_stuff = np.linspace(0,1,100)\n",
    "def y(x):\n",
    "    return 1.48858338542*e**(x)+2.79854671971*e**(-x)\n",
    "plt.plot(xdata,ydata,\"o\",color=\"sage\")\n",
    "plt.plot(x_stuff,y(x_stuff),\"-\",color=\"aquamarine\")"
   ]
  },
  {
   "cell_type": "markdown",
   "metadata": {
    "collapsed": true
   },
   "source": [
    "Based on this plot I would say this is a good fit!!"
   ]
  },
  {
   "cell_type": "markdown",
   "metadata": {},
   "source": [
    "### b)\n",
    "Check the accuracy by computing the error at each point, and using this, try to identify the point where the mistaken y value is.\n"
   ]
  },
  {
   "cell_type": "markdown",
   "metadata": {},
   "source": [
    "To check the accuracy we have to check the residuals"
   ]
  },
  {
   "cell_type": "code",
   "execution_count": 75,
   "metadata": {
    "collapsed": false
   },
   "outputs": [
    {
     "name": "stdout",
     "output_type": "stream",
     "text": [
      "[[ 0.01286989]\n",
      " [ 0.01508388]\n",
      " [ 0.01797258]\n",
      " [-0.11005078]\n",
      " [ 0.02602865]\n",
      " [ 0.03108303]]\n"
     ]
    }
   ],
   "source": [
    "## estimate array\n",
    "values = np.matrix([1.48858338542,2.79854671971])\n",
    "residual = b-A*values.T\n",
    "print(residual)"
   ]
  },
  {
   "cell_type": "markdown",
   "metadata": {},
   "source": [
    "Hence we can see that the fourth $y$ value has the worst error (corresponding to $x=.06$)."
   ]
  },
  {
   "cell_type": "markdown",
   "metadata": {},
   "source": [
    "### c)\n",
    "Propose a plausible replacement for the erroneous value."
   ]
  },
  {
   "cell_type": "code",
   "execution_count": 76,
   "metadata": {
    "collapsed": false
   },
   "outputs": [
    {
     "data": {
      "text/plain": [
       "4.248250776452348"
      ]
     },
     "execution_count": 76,
     "metadata": {},
     "output_type": "execute_result"
    }
   ],
   "source": [
    "y(.6)"
   ]
  },
  {
   "cell_type": "markdown",
   "metadata": {},
   "source": [
    "According to the relationship between the two quantites the perfect $y$ value to choose would be $y=4.2483$. However stick with the appropriate error i would stick with an error between the two previous errors. "
   ]
  },
  {
   "cell_type": "code",
   "execution_count": 77,
   "metadata": {
    "collapsed": false
   },
   "outputs": [
    {
     "data": {
      "text/plain": [
       "0.008056070000000002"
      ]
     },
     "execution_count": 77,
     "metadata": {},
     "output_type": "execute_result"
    }
   ],
   "source": [
    "0.02602865-0.01797258"
   ]
  },
  {
   "cell_type": "code",
   "execution_count": 78,
   "metadata": {
    "collapsed": false
   },
   "outputs": [
    {
     "data": {
      "text/plain": [
       "4.256306846452349"
      ]
     },
     "execution_count": 78,
     "metadata": {},
     "output_type": "execute_result"
    }
   ],
   "source": [
    "4.248250776452348+0.008056070000000002"
   ]
  },
  {
   "cell_type": "markdown",
   "metadata": {},
   "source": [
    "So the best $y$ value to chose to go along with our errors would be $y=4.2563$."
   ]
  },
  {
   "cell_type": "markdown",
   "metadata": {
    "collapsed": true
   },
   "source": [
    "# Problem 3\n",
    "### a)\n",
    "Derive the approximation of f′(x) of the form\n",
    "f′(a) ≈ Af(a) + Bf(a + 2h) + Cf(a + 3h),\n",
    "that is best the sense of having the highest possible degree of precision, p.\n",
    "(Note that the value at a + h is missing!)\n"
   ]
  },
  {
   "cell_type": "markdown",
   "metadata": {},
   "source": [
    "Once again we are going to do the degree of precision trik to solve for the unknown coefficients\n",
    "We are going to guess that $f'(x)=Af(a)+Bf(a+2h)+Cf(a+3h)$.\n",
    "\n",
    "\n",
    "$\\underline{n=0}: f(x)=1 \\rightarrow f'(a) = 0 = A+B+C$\n",
    "\n",
    "$\\underline{n=1}: f(x)=x-a \\rightarrow f'(a) = 1 = 2hB+3hC $\n",
    "\n",
    "$\\underline{n=2}: f(x)=(x-a)^2 \\rightarrow f'(a)=0 = 4hB+9hC \\rightarrow C=\\frac{-4}{9}B $\n",
    "Hence after some solving we have,\n",
    "$$A=\\frac{-5}{6h} $$\n",
    "\n",
    "$$B=\\frac{3}{2h} $$\n",
    "\n",
    "$$C=\\frac{-2}{3h}$$"
   ]
  },
  {
   "cell_type": "markdown",
   "metadata": {},
   "source": [
    "Hence $$f'(x) \\approx \\frac{-5}{6h}f(a)+\\frac{3}{2h}f(a+2h)-\\frac{2}{3h}f(a+3h) $$"
   ]
  },
  {
   "cell_type": "markdown",
   "metadata": {},
   "source": [
    "$\\underline{n=3}: f(x)=(x-a)^3 \\rightarrow f'(a)=0 = 8hB+27hC \\rightarrow C=\\frac{-8}{27}B $\n",
    "which is not the same as $\\frac{-4}{9}$ so it does not work.\n",
    "\n",
    "Therefore we have a degree of precision 2!\n",
    "\n",
    "\n"
   ]
  },
  {
   "cell_type": "markdown",
   "metadata": {},
   "source": [
    "### b)\n",
    "Using Taylor polynomials of degree p with error term, verify that this approximation has error $O(h^p)$."
   ]
  },
  {
   "cell_type": "markdown",
   "metadata": {},
   "source": [
    "Since we have a degree of precision 2 lets check out a taylor polynomail of degree two with its error term.\n",
    "$$f(a+2h) = f(a) + 2hf'(a)+2h^2f''(a)+\\frac{8}{6}h^3f'''(c_1) $$ \n",
    "$$f(a+2h) = f(a) + 3hf'(a)+\\frac{9}{2}h^2f''(a)+\\frac{27}{6}h^3f'''(c_2) $$ \n",
    "\n",
    "Thus we have, \n",
    "$$\\frac{-5f(a)+9f(a)+18hf'(a)+18h^2f''(a)+12h^3f'''(c_1) -4f(a)-12hf'(a)-18h^2f''(a)-18h^3f'''(c_2)}{6h}$$\n",
    "which becomes\n",
    "$$\\frac{6hf'(a)+12h^3f'''(c_1)-18h^3f'''(c_2)}{6h} = f'(a)+(2f'''(c_1)-3f'''(c_2))h^2 $$"
   ]
  },
  {
   "cell_type": "markdown",
   "metadata": {},
   "source": [
    "Therefore we have an error of $h^2$ as required!"
   ]
  },
  {
   "cell_type": "markdown",
   "metadata": {},
   "source": [
    "# Problem 4\n",
    "The composite Simpson’s rule (which is fourth order accurate) has been used to\n",
    "approximate a definite integral $I=\\int^b_a f(x)dx$ with 10 and 20 intervals, giving the \n",
    "$$S_{10} = 7.38084362852$$\n",
    "$$S_{20} = 7.35531055134$$\n",
    "\n",
    "\n",
    "### a)\n",
    "Use Richardson extrapolation to get a better approximation to the value $I$ of\n",
    "this integral.\n"
   ]
  },
  {
   "cell_type": "markdown",
   "metadata": {},
   "source": [
    "The equation for Richardson extrapolation is \n",
    "$$\\frac{2^nF(h/2)-F(h)}{2^n-1}$$\n",
    "Hence since we have a fourth order approximation when we apply Richardson extrapolation we get,\n",
    "$$\\frac{2^4S_{10}-\n",
    "S_{20}}{2^4-1} $$"
   ]
  },
  {
   "cell_type": "code",
   "execution_count": 10,
   "metadata": {
    "collapsed": false
   },
   "outputs": [
    {
     "name": "stdout",
     "output_type": "stream",
     "text": [
      "When we run Richardson extrapolation on this we get 7.353608346194666\n"
     ]
    }
   ],
   "source": [
    "S_10 = 7.38084362852\n",
    "S_20 = 7.35531055134\n",
    "R_e_1020 = (2**4*S_20-S_10) /(2**4-1)\n",
    "print(\"When we run Richardson extrapolation on this we get %s\"%(R_e_1020))"
   ]
  },
  {
   "cell_type": "markdown",
   "metadata": {},
   "source": [
    "### b)\n",
    "Give a practical estimate of the error in this approximation of the integral."
   ]
  },
  {
   "cell_type": "markdown",
   "metadata": {},
   "source": [
    "The best way to approximate an error when you dont know the actual function that you are integrating is to take a look at the successive values given from new n-values. "
   ]
  },
  {
   "cell_type": "code",
   "execution_count": 11,
   "metadata": {
    "collapsed": false
   },
   "outputs": [
    {
     "name": "stdout",
     "output_type": "stream",
     "text": [
      "For example the most practical estimate of error between S_10 and S_20 is just: 0.02553307718000042\n",
      "For example the most practical estimate of error between S_20 and Richardson extrapolated value is just: 0.0017022051453334797\n"
     ]
    }
   ],
   "source": [
    "err = abs(S_20-S_10)\n",
    "err_re = abs(R_e_1020-S_20)\n",
    "print(\"For example the most practical estimate of error between S_10 and S_20 is just: %s\"%(err))\n",
    "print(\"For example the most practical estimate of error between S_20 and Richardson extrapolated value is just: %s\"%(err_re))"
   ]
  },
  {
   "cell_type": "markdown",
   "metadata": {},
   "source": [
    "### c)\n",
    "Given the extra information that $S_{60} = 7.35439923178$, use Richardson extrap- olation with S20 and S60 to get another, hopefully even more accurate approximation of the integral."
   ]
  },
  {
   "cell_type": "code",
   "execution_count": 12,
   "metadata": {
    "collapsed": false
   },
   "outputs": [
    {
     "name": "stdout",
     "output_type": "stream",
     "text": [
      "When we run Richardson extrapolation on this we get 7.354338477142667\n"
     ]
    }
   ],
   "source": [
    "S_60 = 7.35439923178\n",
    "R_e_2060 = (2**4*S_60-S_20) /(2**4-1)\n",
    "print(\"When we run Richardson extrapolation on this we get %s\"%(R_e_2060))"
   ]
  },
  {
   "cell_type": "code",
   "execution_count": 13,
   "metadata": {
    "collapsed": false
   },
   "outputs": [
    {
     "name": "stdout",
     "output_type": "stream",
     "text": [
      "The error is approximately 6.075463733345998e-05\n"
     ]
    }
   ],
   "source": [
    "err_60_re = abs(R_e_2060-S_60)\n",
    "print(\"The error is approximately %s\"%(err_60_re))"
   ]
  }
 ],
 "metadata": {
  "kernelspec": {
   "display_name": "Python 3",
   "language": "python",
   "name": "python3"
  },
  "language_info": {
   "codemirror_mode": {
    "name": "ipython",
    "version": 3
   },
   "file_extension": ".py",
   "mimetype": "text/x-python",
   "name": "python",
   "nbconvert_exporter": "python",
   "pygments_lexer": "ipython3",
   "version": "3.5.2"
  }
 },
 "nbformat": 4,
 "nbformat_minor": 0
}
