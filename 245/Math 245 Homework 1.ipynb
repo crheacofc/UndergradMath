{
 "cells": [
  {
   "cell_type": "markdown",
   "metadata": {},
   "source": [
    "##Problem 1 \n",
    "Consider the equation $x^5 = x^2 + 10$"
   ]
  },
  {
   "cell_type": "markdown",
   "metadata": {},
   "source": [
    "###A) \n",
    "Find an interval \\[ a , b \\] of length one in which there is gauranteed to be a root"
   ]
  },
  {
   "cell_type": "markdown",
   "metadata": {},
   "source": [
    "I am going to check for a sign change. My first guess is x = 1 and x = 2. So let's check."
   ]
  },
  {
   "cell_type": "code",
   "execution_count": 1,
   "metadata": {
    "collapsed": true
   },
   "outputs": [],
   "source": [
    "from math import log\n",
    "f = lambda x: x**2 + 10 - x**5"
   ]
  },
  {
   "cell_type": "code",
   "execution_count": 2,
   "metadata": {
    "collapsed": false
   },
   "outputs": [
    {
     "name": "stdout",
     "output_type": "stream",
     "text": [
      "10\n",
      "-18\n"
     ]
    }
   ],
   "source": [
    "print(f(1))\n",
    "print(f(2))"
   ]
  },
  {
   "cell_type": "markdown",
   "metadata": {},
   "source": [
    "Hence we can see that there is a sign change and thus there is a root on the interval \\[1,2\\]"
   ]
  },
  {
   "cell_type": "markdown",
   "metadata": {},
   "source": [
    "###B)\n",
    "Compute the next 3 improved approximatations given by the bisection method. Note we are starting with $x \\in$ \\[1,2\\]. "
   ]
  },
  {
   "cell_type": "code",
   "execution_count": 3,
   "metadata": {
    "collapsed": false
   },
   "outputs": [
    {
     "data": {
      "text/plain": [
       "4.65625"
      ]
     },
     "execution_count": 3,
     "metadata": {},
     "output_type": "execute_result"
    }
   ],
   "source": [
    "f(1.5)"
   ]
  },
  {
   "cell_type": "markdown",
   "metadata": {},
   "source": [
    "So now $x \\in$ \\[1.5,2\\] "
   ]
  },
  {
   "cell_type": "code",
   "execution_count": 5,
   "metadata": {
    "collapsed": false
   },
   "outputs": [
    {
     "data": {
      "text/plain": [
       "-3.3505859375"
      ]
     },
     "execution_count": 5,
     "metadata": {},
     "output_type": "execute_result"
    }
   ],
   "source": [
    "f(1.75)"
   ]
  },
  {
   "cell_type": "markdown",
   "metadata": {},
   "source": [
    "Hence we have $x \\in$ \\[1.5,1.75\\]"
   ]
  },
  {
   "cell_type": "code",
   "execution_count": 6,
   "metadata": {
    "collapsed": false
   },
   "outputs": [
    {
     "data": {
      "text/plain": [
       "1.309661865234375"
      ]
     },
     "execution_count": 6,
     "metadata": {},
     "output_type": "execute_result"
    }
   ],
   "source": [
    "f(1.625)"
   ]
  },
  {
   "cell_type": "markdown",
   "metadata": {},
   "source": [
    "Thus $x \\in$ \\[1.5,1.625\\]"
   ]
  },
  {
   "cell_type": "markdown",
   "metadata": {},
   "source": [
    "### C)\n",
    "Determine how many iterations of bisection would be needed to approximate the root with an absolute arror of at most $10^{-10}$."
   ]
  },
  {
   "cell_type": "markdown",
   "metadata": {},
   "source": [
    "We already know that $abs(r-m) \\leq \\frac{b-a}{2^{n+1}}$ where $abs(r-m) \\leq \\epsilon $.  \n",
    "So let $\\frac{b-a}{2^{n+1}}$."
   ]
  },
  {
   "cell_type": "markdown",
   "metadata": {},
   "source": [
    "Solving for n we get $n \\ge log_{2}(\\frac{b-a}{\\epsilon}) - 1$"
   ]
  },
  {
   "cell_type": "code",
   "execution_count": 7,
   "metadata": {
    "collapsed": true
   },
   "outputs": [],
   "source": [
    "#Here f2 = n\n",
    "f2 = lambda a,b,eps: log((b-a)/eps,2)-1"
   ]
  },
  {
   "cell_type": "code",
   "execution_count": 8,
   "metadata": {
    "collapsed": false
   },
   "outputs": [
    {
     "data": {
      "text/plain": [
       "29.21928094887362"
      ]
     },
     "execution_count": 8,
     "metadata": {},
     "output_type": "execute_result"
    }
   ],
   "source": [
    "f2(1.625,1.75,10**(-10))"
   ]
  },
  {
   "cell_type": "markdown",
   "metadata": {},
   "source": [
    "Hence n = 30 if we start 3 iterations in. Thus starting from our initial interval, \\[1,2\\], it would take 33 iterations."
   ]
  },
  {
   "cell_type": "markdown",
   "metadata": {},
   "source": [
    "##Problem 2"
   ]
  },
  {
   "cell_type": "markdown",
   "metadata": {},
   "source": [
    "The equation $$x^3+1=2x$$ can be written as a fixed point iteration in many ways, including\n",
    "$$x = \\frac{x^3+1}{2} $$\n",
    "and\n",
    "$$x = \\sqrt[3]{2x-1} $$\n",
    "For each of these options, verify that its fixed points do in fact solve equation one and determine whether the FPI will converge to the solution r=1."
   ]
  },
  {
   "cell_type": "markdown",
   "metadata": {},
   "source": [
    "###a) \n",
    "$$x = \\frac{x^3+1}{2} $$"
   ]
  },
  {
   "cell_type": "markdown",
   "metadata": {},
   "source": [
    "$x=\\frac{x^3+1}{2} \\leftrightarrow  2x=x^3+1$ Hence it does solve equation 1!"
   ]
  },
  {
   "cell_type": "markdown",
   "metadata": {},
   "source": [
    "Now to show the FPI converges we must show that $|g'(r)<1|$ where $g(x)=\\frac{x^3+1}{2}$. Note that this comes from Theorem 1.6."
   ]
  },
  {
   "cell_type": "markdown",
   "metadata": {},
   "source": [
    "$g'(x)=\\frac{3}{2}x^2$. So $|g'(r)|=|\\frac{3}{2}(1)^2|=|\\frac{3}{2}|$ which is greater than 1. Thus the FPI using $ x = \\frac{x^3+1}{2}$ will diverge!"
   ]
  },
  {
   "cell_type": "markdown",
   "metadata": {},
   "source": [
    "###B) \n",
    "$$x = \\sqrt[3]{2x-1}$$"
   ]
  },
  {
   "cell_type": "markdown",
   "metadata": {},
   "source": [
    "$$g'(x)=\\frac{1}{3}(2x-1)^{-\\frac{2}{3}}2=\\frac{2}{3(2x-1)^{\\frac{2}{3}}}$$"
   ]
  },
  {
   "cell_type": "markdown",
   "metadata": {},
   "source": [
    "Thus $$|g'(r)|=\\Bigl|\\frac{2}{3(2(1)-1)^{\\frac{2}{3}}}\\Bigr|=\\Bigl|\\frac{2}{3}\\Bigr|<1$$\n",
    "which does converge by Theorem 1.6!"
   ]
  },
  {
   "cell_type": "code",
   "execution_count": 22,
   "metadata": {
    "collapsed": false
   },
   "outputs": [
    {
     "name": "stdout",
     "output_type": "stream",
     "text": [
      "the root is 0.8434326653017493\n",
      "the root is 0.8823154118464792\n",
      "the root is 0.9144302837409556\n",
      "the root is 0.9393493941773517\n",
      "the root is 0.95781141635216\n",
      "the root is 0.971043915529872\n",
      "the root is 0.9803108243062515\n",
      "the root is 0.9866977167473888\n",
      "the root is 0.9910519829698059\n",
      "the root is 0.9939987119007351\n"
     ]
    }
   ],
   "source": [
    "##Check numerically....\n",
    "x_i1 = .8;\n",
    "g = lambda x:(2*x-1)**(1/3);\n",
    "for i in range(0,10):\n",
    "    x_i = g(x_i1);\n",
    "    x_i1=x_i;\n",
    "    print(\"the root is\",x_i)"
   ]
  },
  {
   "cell_type": "markdown",
   "metadata": {},
   "source": [
    "Hence it is going to $r$ numerically as well."
   ]
  },
  {
   "cell_type": "markdown",
   "metadata": {},
   "source": [
    "##Problem 3"
   ]
  },
  {
   "cell_type": "markdown",
   "metadata": {},
   "source": [
    "###a)\n",
    "Find the multiplicity of the root $r=0$ of the function $f(x)=1-cos(x)$"
   ]
  },
  {
   "cell_type": "code",
   "execution_count": 7,
   "metadata": {
    "collapsed": false
   },
   "outputs": [],
   "source": [
    "import matplotlib.pyplot as plt\n",
    "import numpy as np\n",
    "from math import pi,cos\n",
    "%matplotlib inline"
   ]
  },
  {
   "cell_type": "code",
   "execution_count": 14,
   "metadata": {
    "collapsed": false
   },
   "outputs": [
    {
     "data": {
      "text/plain": [
       "[<matplotlib.lines.Line2D at 0x106ccc0f0>]"
      ]
     },
     "execution_count": 14,
     "metadata": {},
     "output_type": "execute_result"
    },
    {
     "data": {
      "image/png": "[encoded data removed]",
      "text/plain": [
       "<matplotlib.figure.Figure at 0x106be6320>"
      ]
     },
     "metadata": {},
     "output_type": "display_data"
    }
   ],
   "source": [
    "x = np.linspace(-np.pi, np.pi, 256)\n",
    "y = 1 - np.cos(x)\n",
    "plt.plot(x,y)"
   ]
  },
  {
   "cell_type": "markdown",
   "metadata": {},
   "source": [
    "You can clearly see that the multiplicity is even. Now I am going to check for the first $k$ such that $\\lim_{x \\to 0} \\frac{1-cos(x)}{x^k} = c$ such that $c \\neq 0$. Since we know the root is even, I am going to start with 2!"
   ]
  },
  {
   "cell_type": "markdown",
   "metadata": {},
   "source": [
    "$\\lim_{x \\to 0} \\frac{1-cos(x)}{x^2} = \\frac{0}{0}$. So by L'hôpital's rule we now have, $\\lim_{x \\to 0} \\frac{sin(x)}{2x} = \\frac{0}{0}$. And L'hôpital again!!! $\\lim_{x \\to 0} \\frac{cos(x)}{2} = \\frac{1}{2}$.  \n",
    "Hence 2 is indeed the multiplicity of $1-cos(x)$!"
   ]
  },
  {
   "cell_type": "markdown",
   "metadata": {},
   "source": [
    "###b)\n",
    "Evaluate the forward and backward errors of the approximate root $\\check{r}=0.001$."
   ]
  },
  {
   "cell_type": "markdown",
   "metadata": {},
   "source": [
    "The forward error is $|r-\\check{r}|$ hence we have $|r-\\check{r}|=|0-0.001|=0.001$ as our forward error."
   ]
  },
  {
   "cell_type": "markdown",
   "metadata": {},
   "source": [
    "The backward error is $|f(\\check{r})|$. so $|f(\\check{r})|=|1-cos(\\check{r})|$"
   ]
  },
  {
   "cell_type": "code",
   "execution_count": 24,
   "metadata": {
    "collapsed": false
   },
   "outputs": [
    {
     "name": "stdout",
     "output_type": "stream",
     "text": [
      "4.999999583255033e-07\n"
     ]
    }
   ],
   "source": [
    "##Calculation for the backward error!\n",
    "from math import cos\n",
    "f = lambda x: 1-cos(x)\n",
    "print(f(.001))\n"
   ]
  },
  {
   "cell_type": "markdown",
   "metadata": {},
   "source": [
    "Hence our backward error is 4.999999583255033e-07\n"
   ]
  },
  {
   "cell_type": "markdown",
   "metadata": {},
   "source": [
    "##Problem 4"
   ]
  },
  {
   "cell_type": "markdown",
   "metadata": {},
   "source": [
    "Show that Newton's method applied to $$f(x)=x^k-a $$ leads the FPI with function $$g(x)=\\frac{(k-1)x+\\frac{a}{x^{k-1}}}{k} $$\n",
    "Then verify mathematically that this has super-linear convergence."
   ]
  },
  {
   "cell_type": "markdown",
   "metadata": {},
   "source": [
    "Note that $f'(x)=kx^{k-1}$. Let $$g(x)=x-\\frac{f(x)}{f'(x)}$$"
   ]
  },
  {
   "cell_type": "markdown",
   "metadata": {},
   "source": [
    "Hence, \n",
    "\\begin{align*}\n",
    "    g(x)=x-\\frac{f(x)}{f'(x)}=x-\\frac{x^k-a}{kx^{k-1}}\n",
    "    =& \\frac{(kx^{k-1})x-(x^k-a)}{kx^{k-1}}=\\frac{kx^k-x^k+a}{kx^{k-1}}=\\frac{(k-1)x^k}{kx^{k-1}}+\\frac{a}{kx^{k-1}}=\\frac{(k-1)x}{k}+\\frac{a}{kx^{k-1}}=\\frac{(k-1)x+\\frac{a}{x^{k-1}}}{k}\n",
    "\\end{align*}"
   ]
  },
  {
   "cell_type": "markdown",
   "metadata": {},
   "source": [
    "Now to determine if the convergence is super-linear we need to see if $|g'(r)| = 0$. Solving $$f(x)=0=x^k-a$$ yields the root $x=a^{1/k}$."
   ]
  },
  {
   "cell_type": "markdown",
   "metadata": {
    "collapsed": true
   },
   "source": [
    "$$g'(x)=\\frac{k-1}{k}x+\\frac{a}{kx^{k-1}}=\\frac{k-1}{k}+\\frac{0-a[k(k-1)x^{k-1}]}{(kx^{k-1})^2}=\\frac{k-1}{k}-\\frac{a(k-1)}{kx^k} $$\n",
    "Hence plugging in $r=a^{1/k}$ for $x$ yields $$\\frac{1-k}{k}-\\frac{a(k-1)}{k(a^{1/k})^k}= \\frac{1-k}{k}-\\frac{a(1-k)}{ak}= \\frac{1-k}{k}-\\frac{1-k}{k}=0$$\n",
    "\n",
    "Therefore we have super-linear convergence!"
   ]
  },
  {
   "cell_type": "code",
   "execution_count": null,
   "metadata": {
    "collapsed": true
   },
   "outputs": [],
   "source": []
  }
 ],
 "metadata": {
  "kernelspec": {
   "display_name": "Python 3",
   "language": "python",
   "name": "python3"
  },
  "language_info": {
   "codemirror_mode": {
    "name": "ipython",
    "version": 3
   },
   "file_extension": ".py",
   "mimetype": "text/x-python",
   "name": "python",
   "nbconvert_exporter": "python",
   "pygments_lexer": "ipython3",
   "version": "3.4.3"
  }
 },
 "nbformat": 4,
 "nbformat_minor": 0
}
