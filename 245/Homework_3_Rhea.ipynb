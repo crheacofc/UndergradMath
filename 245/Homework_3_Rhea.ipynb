{
 "cells": [
  {
   "cell_type": "code",
   "execution_count": 1,
   "metadata": {
    "collapsed": true
   },
   "outputs": [],
   "source": [
    "from math import log\n",
    "import numpy as np"
   ]
  },
  {
   "cell_type": "markdown",
   "metadata": {},
   "source": [
    "## Problem 1\n",
    "\n",
    "### a)\n",
    "Compute the P A = LU factorization of\n",
    "$$A = \\left[ \\begin{array}{ccc} 4.0 & 2.0 & 1.0 \\\\ 9.0 & 3.0 & 1.0 \\\\ 25.0 & 5.0 & 1.0 \\end{array} \\right] $$\n",
    "using maximal element partial pivoting. Compute all intermediate values as decimal approximations rounded to six significant digits – no fractions!"
   ]
  },
  {
   "cell_type": "markdown",
   "metadata": {},
   "source": [
    "$$A = \\left[ \\begin{array}{ccc} 4.0 & 2.0 & 1.0 \\\\ 9.0 & 3.0 & 1.0 \\\\ 25.0 & 5.0 & 1.0 \\end{array} \\right] \\sim \\left[ \\begin{array}{ccc} 25.0 & 5.0 & 1.0 \\\\ 9.0 & 3.0 & 1.0 \\\\ 4.0 & 2.0 & 1.0 \\end{array} \\right] $$\n",
    "Note that we changed rows 1 and 3\n",
    "$$\\sim \\left[ \\begin{array}{ccc} 25.0 & 5.0 & 1.0 \\\\ 0 & 1.2 & 0.64 \\\\ 4.0 & 2.0 & 1.0 \\end{array} \\right]$$\n",
    "This give a $l_{2,1} = .36$\n",
    "\n",
    "$$\\sim \\left[ \\begin{array}{ccc} 25.0 & 5.0 & 1.0 \\\\ 0 & 1.2 & 0.64 \\\\ 0.0 & 1.2& 0.84 \\end{array} \\right]$$ \n",
    "This give a $l_{3,1} = .16$\n",
    "\n",
    "$$\\sim \\left[ \\begin{array}{ccc} 25.0 & 5.0 & 1.0 \\\\ 0 & 1.2 & 0.64 \\\\ 0.0 & 1& 0.2 \\end{array} \\right]$$ \n",
    "This give a $l_{3,2} = 1.0$\n",
    "\n",
    "Hence,\n",
    "$$P = \\left[ \\begin{array}{ccc} 0.0 & 0.0 & 1.0 \\\\ 0.0 & 1.0 & 0.0 \\\\ 1.0 & 0.0 & 0.0 \\end{array} \\right]$$ \n",
    "\n",
    "$$L = \\left[ \\begin{array}{ccc} 1.0 & 0.0 & 0.0 \\\\ 0.36 & 1.0 & 0.0 \\\\ 0.16 & 1.0 & 1.0 \\end{array} \\right]$$ \n",
    "\n",
    "$$U = \\left[ \\begin{array}{ccc} 25.0 & 5.0 & 1.0 \\\\ 0 & 1.2 & 0.64 \\\\ 0.0 & 0.0 & 0.2 \\end{array} \\right]$$ \n",
    "\n",
    "\n",
    "\n",
    "\n"
   ]
  },
  {
   "cell_type": "markdown",
   "metadata": {},
   "source": [
    "### b)\n",
    "Use this $PA = LU$ factorization to solve\n",
    "$$Ax=b=\\left[ \\begin{array}{c} 0.693147 \\\\ 1.098612 \\\\  1.386294 \\end{array} \\right] $$\n",
    "Show intermediate steps, with values rounded to six decimal places."
   ]
  },
  {
   "cell_type": "markdown",
   "metadata": {},
   "source": [
    "Hence We first have $Lc=Pb$.\n",
    "$$\\left[ \\begin{array}{ccc} 1.0 & 0.0 & 0.0 \\\\ 0.36 & 1.0 & 0.0 \\\\ 0.16 & 1.0 & 1.0 \\end{array} \\right] \\left[ \\begin{array}{c} c_1 \\\\ c_2 \\\\  c_3 \\end{array} \\right] = \\left[ \\begin{array}{ccc} 0.0 & 0.0 & 1.0 \\\\ 0.0 & 1.0 & 0.0 \\\\ 1.0 & 0.0 & 0.0 \\end{array} \\right] \\left[ \\begin{array}{c} 0.693147 \\\\ 1.098612 \\\\  1.386294 \\end{array} \\right] = \\left[ \\begin{array}{c} 1.386294 \\\\ 1.098612 \\\\   0.693147 \\end{array} \\right]$$"
   ]
  },
  {
   "cell_type": "code",
   "execution_count": 17,
   "metadata": {
    "collapsed": false
   },
   "outputs": [
    {
     "name": "stdout",
     "output_type": "stream",
     "text": [
      "c_1 = 1.386294e+00\n",
      "c_2 = 5.995462e-01\n",
      "c_3 = -1.282062e-01\n"
     ]
    }
   ],
   "source": [
    "c_1 = 1.386294\n",
    "c_2 = 1.098612 - .36*c_1\n",
    "c_3 = 0.693147 - c_2 - .16*c_1\n",
    "print(\"c_1 = %9.6e\" %(c_1))\n",
    "print(\"c_2 = %9.6e\" %(c_2))\n",
    "print(\"c_3 = %9.6e\" %(c_3))"
   ]
  },
  {
   "cell_type": "markdown",
   "metadata": {},
   "source": [
    "Hence we now have $Ux=c$.\n",
    "$$U = \\left[ \\begin{array}{ccc} 25.0 & 5.0 & 1.0 \\\\ 0 & 1.2 & 0.64 \\\\ 0.0 & 0.0 & 0.2 \\end{array} \\right] \\left[ \\begin{array}{c} x_1 \\\\ x_2 \\\\  x_3 \\end{array} \\right] = \\left[ \\begin{array}{c} 1.386294 \\\\ 0.599546 \\\\  -0.128206 \\end{array} \\right] $$ \n",
    "\n"
   ]
  },
  {
   "cell_type": "code",
   "execution_count": 18,
   "metadata": {
    "collapsed": false
   },
   "outputs": [
    {
     "name": "stdout",
     "output_type": "stream",
     "text": [
      "x_1 = -8.720791e-02\n",
      "x_2 = 8.415043e-01\n",
      "x_3 = -6.410300e-01\n"
     ]
    }
   ],
   "source": [
    "x_3 = -0.128206/.2\n",
    "x_2 = (0.599546 - .64*x_3)/1.2\n",
    "x_1 = (1.386294-5*x_2-x_3)/25\n",
    "print(\"x_1 = %9.6e\" %(x_1))\n",
    "print(\"x_2 = %9.6e\" %(x_2))\n",
    "print(\"x_3 = %9.6e\" %(x_3))"
   ]
  },
  {
   "cell_type": "markdown",
   "metadata": {},
   "source": [
    "### c)\n",
    "Compute the residual norm $∥b − Ax∥_{\\infty}$."
   ]
  },
  {
   "cell_type": "code",
   "execution_count": 21,
   "metadata": {
    "collapsed": false
   },
   "outputs": [
    {
     "name": "stdout",
     "output_type": "stream",
     "text": [
      "[[  4.00000000e-08]\n",
      " [  2.90000000e-07]\n",
      " [  2.50000000e-07]]\n"
     ]
    }
   ],
   "source": [
    "A = np.array([[4,2,1],[9,3,1],[25,5,1]])\n",
    "x = np.array([[-8.720791e-02],[8.415043e-01],[-6.410300e-01]])\n",
    "b = np.array([[0.693147],[1.098612],[1.386294]])\n",
    "residual = b - np.dot(A,x)\n",
    "print(residual)"
   ]
  },
  {
   "cell_type": "markdown",
   "metadata": {},
   "source": [
    "Hence the residual norm is $2.9E^{-7}$"
   ]
  },
  {
   "cell_type": "markdown",
   "metadata": {},
   "source": [
    "## Problem 2\n",
    "Consider the task of interpolating a polynomial to the following three nodes $(x_i, y_i), i = 0,1,2$: \n",
    "\n",
    "$$(2.,0.693147), (3.,1.098612), (5.,1.386294)$$\n",
    "\n",
    "(a) Construct the polynomial of lowest degree that fits these nodes, using the Lagrange formula. There is no need to expand out, but you could do that and use the result to check your results against what you get from polyfit.\n",
    "\n",
    "(b) Use the above to compute an interpolated value at $x = 4.0$; by hand, not with polyval, but feel free to check your results with that.\n",
    "\n",
    "(c) The above data are in fact given by $y_i = ln(x_i)$, so use the interpolation error formula to derive a numerical upper bound on the absolute interpolation errors at $x = 2.5$ and $x = 4.0$. Then compare the latter error bound to the actual error at $x = 4.0$.\n"
   ]
  },
  {
   "cell_type": "markdown",
   "metadata": {},
   "source": [
    "### a)\n",
    "\n",
    "$$P_2(x)=y_1\\frac{(x-x_2)(x-x_3)}{(x_1-x_2)(x_1-x_3)}+y_2\\frac{(x-x_1)(x-x_3)}{(x_2-x_1)(x_2-x_3)}+y_3\\frac{(x-x_1)(x-x_2)}{(x_3-x_1)(x_3-x_2)}$$\n",
    "\n",
    "$$P_2(x)=\\frac{.693147(x-3)(x-5)}{(2-3)(2-5)}+\\frac{1.098612(x-2)(x-5)}{(3-2)(3-5)}+\\frac{1.386294(x-2)(x-3)}{(5-2)(5-3)} $$"
   ]
  },
  {
   "cell_type": "code",
   "execution_count": 4,
   "metadata": {
    "collapsed": false
   },
   "outputs": [
    {
     "name": "stdout",
     "output_type": "stream",
     "text": [
      "0.23104899999999998\n",
      "-0.549306\n",
      "0.23104899999999998\n"
     ]
    }
   ],
   "source": [
    "print(.693147/((2-3)*(2-5)))\n",
    "\n",
    "print(1.098612/((3-2)*(3-5)))\n",
    "\n",
    "print(1.386294/((5-2)*(5-3)))"
   ]
  },
  {
   "cell_type": "markdown",
   "metadata": {},
   "source": [
    "$$P_2(x)=.231049(x-3)(x-5)-.549306(x-2)(x-5)+.231049(x-2)(x-3) $$"
   ]
  },
  {
   "cell_type": "markdown",
   "metadata": {},
   "source": [
    "### b) \n",
    "\n",
    "Now lets see what we get when we plug in x=4:"
   ]
  },
  {
   "cell_type": "code",
   "execution_count": 6,
   "metadata": {
    "collapsed": false
   },
   "outputs": [
    {
     "name": "stdout",
     "output_type": "stream",
     "text": [
      "1.3296609999999998\n"
     ]
    }
   ],
   "source": [
    "P_4 = .231049*(4-3)*(4-5)-.549306*(4-2)*(4-5)+.231049*(4-2)*(4-3) \n",
    "print(P_4)"
   ]
  },
  {
   "cell_type": "markdown",
   "metadata": {},
   "source": [
    "Hence $P_2(4) = 1.329661$"
   ]
  },
  {
   "cell_type": "markdown",
   "metadata": {},
   "source": [
    "### c)\n",
    "We need to determine the error for our polynomial...\n",
    "$$f(x)-P_2(x) = \\frac{(x-2)(x-3)(x-5)}{3!}f'''(c) $$\n",
    "where $2 \\leq c \\leq 5 $\n",
    "$$f(x)=ln(x) \\rightarrow f'(x)=\\frac{1}{x} \\rightarrow f''(x)=-\\frac{1}{x^2} \\rightarrow f'''(x)=\\frac{2}{x^3}$$\n",
    "\n",
    "Hence to maximize the error, we need to maximize the third derivative. This can be done by letting $c = 2$.\n",
    "Thus the error is,\n",
    "$$e(x)=\\frac{(x-2)(x-3)(x-5)}{3!}\\frac{2}{2^3} $$"
   ]
  },
  {
   "cell_type": "code",
   "execution_count": 9,
   "metadata": {
    "collapsed": false
   },
   "outputs": [
    {
     "data": {
      "text/plain": [
       "0.026041666666666668"
      ]
     },
     "execution_count": 9,
     "metadata": {},
     "output_type": "execute_result"
    }
   ],
   "source": [
    "##For x=2.5\n",
    "abs(((2.5-2)*(2.5-3)*(2.5-5)*2)/((6)*(2**3)))"
   ]
  },
  {
   "cell_type": "markdown",
   "metadata": {},
   "source": [
    "Hence the error  for $x=2.5$ is $0.026042$"
   ]
  },
  {
   "cell_type": "code",
   "execution_count": 10,
   "metadata": {
    "collapsed": false
   },
   "outputs": [
    {
     "data": {
      "text/plain": [
       "0.08333333333333333"
      ]
     },
     "execution_count": 10,
     "metadata": {},
     "output_type": "execute_result"
    }
   ],
   "source": [
    "##For x=4\n",
    "abs(((4-2)*(4-3)*(4-5)*2)/((6)*(2**3)))"
   ]
  },
  {
   "cell_type": "markdown",
   "metadata": {},
   "source": [
    "Hence the error for $x=4$ is $0.08333333$"
   ]
  },
  {
   "cell_type": "markdown",
   "metadata": {},
   "source": [
    "We can compare this maximum error to the actual error. \n",
    "The actual error is $\\bigl\\lvert  f(4)-P_2(4)\\bigr\\rvert$"
   ]
  },
  {
   "cell_type": "code",
   "execution_count": 14,
   "metadata": {
    "collapsed": false
   },
   "outputs": [
    {
     "data": {
      "text/plain": [
       "0.05663336111989081"
      ]
     },
     "execution_count": 14,
     "metadata": {},
     "output_type": "execute_result"
    }
   ],
   "source": [
    "log(4)-P_4"
   ]
  },
  {
   "cell_type": "markdown",
   "metadata": {},
   "source": [
    "Thus it is less than the upper bound of the error!"
   ]
  },
  {
   "cell_type": "markdown",
   "metadata": {
    "collapsed": true
   },
   "source": [
    "## 3\n",
    "Verify that the one-sided three-point derivative approximation\n",
    "$$f′(a) = \\frac{−f(a+2h)+4f(a+h)−3f(a)}{2h}$$\n",
    "is second order accurate:\n",
    "$$f′(a) = \\frac{−f(a + 2h) + 4f(a + h) − 3f(a)}{2h} + O(h2)$$"
   ]
  },
  {
   "cell_type": "markdown",
   "metadata": {},
   "source": [
    "First lets calculate $f(x+h)$ and $f(x+2h)$.\n",
    "$$f(x+2h) = f(x)+2hf'(x)+\\frac{4}{2}h^2f''(x)+\\frac{8}{6}h^3f'''(c_1) $$\n",
    "$$f(x+h) = f(x)+hf'(x)+\\frac{1}{2}h^2f''(x)+\\frac{1}{6}h^3f'''(c_2) $$"
   ]
  },
  {
   "cell_type": "markdown",
   "metadata": {},
   "source": [
    "Hence, \n",
    "$$f′(a) = \\frac{−f(a+2h)+4f(a+h)−3f(a)}{2h} = \\frac{1}{2h}(-f(x)-2hf'(x)-2h^2f''(x)-\\frac{8}{6}h^3f'''(c_1)+4f(x)+4hf'(x)+2h^2f''(x)+\\frac{4}{6}h^3f'''(c_2)-3f(x))$$\n",
    "\n",
    "$$f'(x)+(\\frac{1}{3}f'''(c_2)-\\frac{2}{3}f'''(c_1)) $$\n",
    "\n",
    "Hence we have a second order formula for $$f′(a) = \\frac{−f(a+2h)+4f(a+h)−3f(a)}{2h}$$"
   ]
  },
  {
   "cell_type": "markdown",
   "metadata": {},
   "source": [
    "#### 4\n",
    "Verify that $f′(a) = \\frac{−f(a+2h)+4f(a+h)−3f(a)}{2h}$ has degree of precision 2."
   ]
  },
  {
   "cell_type": "markdown",
   "metadata": {},
   "source": [
    "We are going to guess that $f'(x)=C_{-1}f(a+2h)+C_0f(a+h)+C_1f(a)$.\n",
    "\n",
    "Now lets check that it works for n=0,n=1,n=2.\n",
    "\n",
    "$\\underline{n=0}: f(x)=1 \\rightarrow f'(a) = 0 = C_{-1}+C_0+C_1$\n",
    "\n",
    "$\\underline{n=1}: f(x)=x-a \\rightarrow f'(a) = 1 = 2hC_{-1}+C_0h $\n",
    "\n",
    "$\\underline{n=2}: f(x)=(x-a)^2 \\rightarrow f'(a)=0 = 4h^2C_{-1}+C_0h^2 \\rightarrow C_0=-4C_{-1} $\n",
    "Hence after some solving we have,\n",
    "$$C_{-1}=\\frac{-1}{2h} $$\n",
    "$$C_0=\\frac{2}{h} $$\n",
    "$$C_1=\\frac{-3}{2h}$$"
   ]
  },
  {
   "cell_type": "markdown",
   "metadata": {},
   "source": [
    "Now to check for $n=3$\n",
    "\n",
    "$\\underline{n=3}: f(a)=(x-a)^3 \\rightarrow f'(a)=0=8h^3C_{-1}+h^3C_0$ \n",
    "\n",
    "This does not work with our previously found coefficients!\n",
    "\n",
    "Therefore, $f′(a) = \\frac{−f(a+2h)+4f(a+h)−3f(a)}{2h}$ has degree of precision 2."
   ]
  },
  {
   "cell_type": "markdown",
   "metadata": {},
   "source": [
    "## Problem 5\n",
    "Apply Richardson extrapolation to the basic derivative approximation\n",
    "$$f′(a) = \\frac{f(a + h) − f(a)}{h} + O(h)$$\n",
    "to get a higher order method."
   ]
  },
  {
   "cell_type": "markdown",
   "metadata": {},
   "source": [
    "$$F_n(x)=\\frac{2^nF(h)-F(2h)}{2^n-1} $$\n",
    "Since $n=1$ we have,\n",
    "$$F_n(x)=\\frac{2(f(a+h)-f(a)}{h}-\\frac{f(a+2h)-f(a)}{2h} = \\frac{4f(a+h)-f(a)-f(a+2h)+f(a)}{2h}=\\frac{-f(a+2h)+4f(a+h)-3f(a)}{2h} $$"
   ]
  },
  {
   "cell_type": "markdown",
   "metadata": {},
   "source": [
    "Thus we get a new method from richardson extrapolation. This is the same equation as from problem 3."
   ]
  },
  {
   "cell_type": "code",
   "execution_count": null,
   "metadata": {
    "collapsed": true
   },
   "outputs": [],
   "source": []
  }
 ],
 "metadata": {
  "kernelspec": {
   "display_name": "Python 3",
   "language": "python",
   "name": "python3"
  },
  "language_info": {
   "codemirror_mode": {
    "name": "ipython",
    "version": 3
   },
   "file_extension": ".py",
   "mimetype": "text/x-python",
   "name": "python",
   "nbconvert_exporter": "python",
   "pygments_lexer": "ipython3",
   "version": "3.4.4"
  }
 },
 "nbformat": 4,
 "nbformat_minor": 0
}
