{
 "cells": [
  {
   "cell_type": "markdown",
   "metadata": {},
   "source": [
    "# EXERCISE 9\n",
    "\n",
    "CARTER RHEA\n",
    "\n",
    "This is just the basic exercies\n",
    "\n",
    "NOVEMBER 19, 2015"
   ]
  },
  {
   "cell_type": "code",
   "execution_count": null,
   "metadata": {
    "collapsed": true
   },
   "outputs": [],
   "source": [
    "import numpy as np\n",
    "import numpy.random as npr"
   ]
  },
  {
   "cell_type": "code",
   "execution_count": null,
   "metadata": {},
   "outputs": [
    {
     "name": "stdout",
     "output_type": "stream",
     "text": [
      "With 100 many random numbers we estimate pi to equal 2.84\n",
      "With 100 many random numbers we estimate pi to equal 3.32\n",
      "With 100 many random numbers we estimate pi to equal 3.36\n",
      "With 100 many random numbers we estimate pi to equal 3.28\n",
      "With 100 many random numbers we estimate pi to equal 3.2\n",
      "With 10000 many random numbers we estimate pi to equal 3.1544\n",
      "With 10000 many random numbers we estimate pi to equal 3.1356\n",
      "With 10000 many random numbers we estimate pi to equal 3.1128\n",
      "With 10000 many random numbers we estimate pi to equal 3.1368\n",
      "With 10000 many random numbers we estimate pi to equal 3.1376\n",
      "With 100000 many random numbers we estimate pi to equal 3.1434\n",
      "With 100000 many random numbers we estimate pi to equal 3.13964\n",
      "With 100000 many random numbers we estimate pi to equal 3.1486\n",
      "With 100000 many random numbers we estimate pi to equal 3.14368\n",
      "With 100000 many random numbers we estimate pi to equal 3.14704\n",
      "With 1000000 many random numbers we estimate pi to equal 3.142272\n",
      "With 1000000 many random numbers we estimate pi to equal 3.143248\n",
      "With 1000000 many random numbers we estimate pi to equal 3.143592\n",
      "With 1000000 many random numbers we estimate pi to equal 3.14394\n",
      "With 1000000 many random numbers we estimate pi to equal 3.14042\n"
     ]
    }
   ],
   "source": [
    "def dist(x,y):\n",
    "        return np.sqrt(x**2+y**2)\n",
    "\n",
    "for n_samples in [100,10**4,10**5,10**6,10**7]:\n",
    "    for num in range(0,5):\n",
    "        y = np.matrix(np.zeros((n_samples,2)))\n",
    "        y[:,0] = npr.rand(n_samples,1)\n",
    "        y[:,1] = npr.rand(n_samples,1)\n",
    "        k=0\n",
    "        for i in range(0,n_samples):\n",
    "            if dist(y[i,0],y[i,1])<=1:\n",
    "                k+=1\n",
    "        pi = (k/n_samples)*4\n",
    "        print(\"With %s many random numbers we estimate pi to equal %s\"%(n_samples,pi))"
   ]
  },
  {
   "cell_type": "code",
   "execution_count": null,
   "metadata": {
    "collapsed": true
   },
   "outputs": [],
   "source": [
    "    "
   ]
  }
 ],
 "metadata": {
  "kernelspec": {
   "display_name": "Python 3",
   "language": "python",
   "name": "python3"
  },
  "language_info": {
   "codemirror_mode": {
    "name": "ipython",
    "version": 3
   },
   "file_extension": ".py",
   "mimetype": "text/x-python",
   "name": "python",
   "nbconvert_exporter": "python",
   "pygments_lexer": "ipython3",
   "version": "3.6.1"
  }
 },
 "nbformat": 4,
 "nbformat_minor": 1
}
