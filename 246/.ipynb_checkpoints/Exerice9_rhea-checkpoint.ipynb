{
 "cells": [
  {
   "cell_type": "markdown",
   "metadata": {},
   "source": [
    "# EXERCISE 9\n",
    "\n",
    "CARTER RHEA\n",
    "\n",
    "This is just the basic exercies\n",
    "\n",
    "NOVEMBER 19, 2015"
   ]
  },
  {
   "cell_type": "code",
   "execution_count": 1,
   "metadata": {
    "collapsed": true
   },
   "outputs": [],
   "source": [
    "import numpy as np\n",
    "import numpy.random as npr"
   ]
  },
  {
   "cell_type": "code",
   "execution_count": 2,
   "metadata": {
    "collapsed": false
   },
   "outputs": [
    {
     "name": "stdout",
     "output_type": "stream",
     "text": [
      "With 100 many random numbers we estimate pi to equal 3.12\n",
      "With 100 many random numbers we estimate pi to equal 3.04\n",
      "With 100 many random numbers we estimate pi to equal 3.28\n",
      "With 100 many random numbers we estimate pi to equal 3.32\n",
      "With 100 many random numbers we estimate pi to equal 3.04\n",
      "With 10000 many random numbers we estimate pi to equal 3.1664\n",
      "With 10000 many random numbers we estimate pi to equal 3.1152\n",
      "With 10000 many random numbers we estimate pi to equal 3.1336\n",
      "With 10000 many random numbers we estimate pi to equal 3.1372\n",
      "With 10000 many random numbers we estimate pi to equal 3.1364\n",
      "With 100000 many random numbers we estimate pi to equal 3.13744\n",
      "With 100000 many random numbers we estimate pi to equal 3.13868\n",
      "With 100000 many random numbers we estimate pi to equal 3.14392\n",
      "With 100000 many random numbers we estimate pi to equal 3.1424\n",
      "With 100000 many random numbers we estimate pi to equal 3.13956\n",
      "With 1000000 many random numbers we estimate pi to equal 3.144528\n",
      "With 1000000 many random numbers we estimate pi to equal 3.141364\n",
      "With 1000000 many random numbers we estimate pi to equal 3.141132\n",
      "With 1000000 many random numbers we estimate pi to equal 3.141164\n",
      "With 1000000 many random numbers we estimate pi to equal 3.143216\n",
      "With 10000000 many random numbers we estimate pi to equal 3.1417328\n",
      "With 10000000 many random numbers we estimate pi to equal 3.1415956\n",
      "With 10000000 many random numbers we estimate pi to equal 3.1418176\n",
      "With 10000000 many random numbers we estimate pi to equal 3.1413764\n",
      "With 10000000 many random numbers we estimate pi to equal 3.1411744\n"
     ]
    }
   ],
   "source": [
    "def dist(x,y):\n",
    "        return x**2+y**2\n",
    "\n",
    "for n_samples in [100,10**4,10**5,10**6,10**7]:\n",
    "    for num in range(0,5):\n",
    "        y = np.matrix(np.zeros((n_samples,2)))\n",
    "        y[:,0] = npr.rand(n_samples,1)\n",
    "        y[:,1] = npr.rand(n_samples,1)\n",
    "        k=0\n",
    "        for i in range(0,n_samples):\n",
    "            if dist(y[i,0],y[i,1])<=1:\n",
    "                k+=1\n",
    "        pi = (k/n_samples)*4\n",
    "        print(\"With %s many random numbers we estimate pi to equal %s\"%(n_samples,pi))"
   ]
  },
  {
   "cell_type": "code",
   "execution_count": null,
   "metadata": {
    "collapsed": true
   },
   "outputs": [],
   "source": [
    "    "
   ]
  }
 ],
 "metadata": {
  "kernelspec": {
   "display_name": "Python 3",
   "language": "python",
   "name": "python3"
  },
  "language_info": {
   "codemirror_mode": {
    "name": "ipython",
    "version": 3
   },
   "file_extension": ".py",
   "mimetype": "text/x-python",
   "name": "python",
   "nbconvert_exporter": "python",
   "pygments_lexer": "ipython3",
   "version": "3.4.3"
  }
 },
 "nbformat": 4,
 "nbformat_minor": 0
}
