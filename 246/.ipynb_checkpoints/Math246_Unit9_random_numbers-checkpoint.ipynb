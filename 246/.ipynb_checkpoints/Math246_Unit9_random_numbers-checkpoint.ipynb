{
 "cells": [
  {
   "cell_type": "markdown",
   "metadata": {},
   "source": [
    "# Math 246 Unit 9: Random numbers, and a simple example of simulation\n",
    "\n",
    "### Brenton LeMesurier,  Thursday November 19, 2015\n",
    "\n",
    "Random numbers are often useful both for simulation of physical processes and for generating a coleciot of test cases.\n",
    "Here we will do a mathematical simulation: approximating $pi$ on the basis that the unit circle occupies a fraction $pi/4$ of the $2 \\times 2$ square enclosing it.\n",
    "\n",
    "Actualy, the best we can do is *pseudo-random* numbers generatd by algorithms that actual produce a very long but eventual repaeig sequence of numbers."
   ]
  },
  {
   "cell_type": "markdown",
   "metadata": {},
   "source": [
    "## Module random within package numpy\n",
    "\n",
    "The pseudo-random nyber generator we use are provided by package numpy in its module random – full name `numpy.random`.\n",
    "We introduce the abbreviation \"npr\" for this, along with the standard abbreviation \"np\" for numpy:"
   ]
  },
  {
   "cell_type": "code",
   "execution_count": 1,
   "metadata": {
    "collapsed": false
   },
   "outputs": [],
   "source": [
    "import numpy as np\n",
    "import numpy.random as npr"
   ]
  },
  {
   "cell_type": "markdown",
   "metadata": {},
   "source": [
    "This module contains numerous random number generators; here we look at just a few."
   ]
  },
  {
   "cell_type": "markdown",
   "metadata": {},
   "source": [
    "## Uniformly distributed real numbers: `numpy.random.rand`\n",
    "\n",
    "First, the function `rand` (full name `numpy.random.rand`) generates uniformly diatributed real numbers in the interval $[0,1)$.\n",
    "To generate a single value, use it with no argument:"
   ]
  },
  {
   "cell_type": "code",
   "execution_count": 2,
   "metadata": {
    "collapsed": false
   },
   "outputs": [
    {
     "name": "stdout",
     "output_type": "stream",
     "text": [
      "0.07693358247452853\n",
      "0.8965039724056965\n",
      "0.00865624549067523\n",
      "0.9113307936697252\n"
     ]
    }
   ],
   "source": [
    "n_samples = 4\n",
    "for sample in range(n_samples):\n",
    "    print(npr.rand())"
   ]
  },
  {
   "cell_type": "markdown",
   "metadata": {},
   "source": [
    "To generate an array of values all at once, one can specify how many as the first and only:"
   ]
  },
  {
   "cell_type": "code",
   "execution_count": 3,
   "metadata": {
    "collapsed": false
   },
   "outputs": [
    {
     "name": "stdout",
     "output_type": "stream",
     "text": [
      "[ 0.1853518   0.96428195  0.48360944  0.15345749]\n"
     ]
    }
   ],
   "source": [
    "numbers = npr.rand(n_samples)\n",
    "print(numbers)"
   ]
  },
  {
   "cell_type": "markdown",
   "metadata": {},
   "source": [
    "We can also generate multi-dimensional arrays, by giving the lengths of each dimension as arguments:"
   ]
  },
  {
   "cell_type": "code",
   "execution_count": 4,
   "metadata": {
    "collapsed": false
   },
   "outputs": [
    {
     "name": "stdout",
     "output_type": "stream",
     "text": [
      "A two-dimensional array of random numbers:\n",
      " [[ 0.56962245  0.55168564  0.13121312]\n",
      " [ 0.010284    0.60910396  0.67669378]]\n",
      "A three-dimensional array of random numbers:\n",
      " [[[ 0.16034327  0.95721325  0.90587143  0.46910548]\n",
      "  [ 0.47684461  0.06555528  0.19610832  0.00852018]\n",
      "  [ 0.2229061   0.93394101  0.45882432  0.30956808]]\n",
      "\n",
      " [[ 0.38665409  0.79859052  0.46091126  0.30716143]\n",
      "  [ 0.90172899  0.39340456  0.1054219   0.71100008]\n",
      "  [ 0.76392107  0.75012598  0.60410462  0.17047648]]]\n"
     ]
    }
   ],
   "source": [
    "numbers2d = npr.rand(2,3)\n",
    "print('A two-dimensional array of random numbers:\\n', numbers2d)\n",
    "numbers3d = npr.rand(2,3,4)\n",
    "print('A three-dimensional array of random numbers:\\n', numbers3d)"
   ]
  },
  {
   "cell_type": "markdown",
   "metadata": {},
   "source": [
    "## Normally distributed real numbers: `numpy.random.randn`\n",
    "\n",
    "The function `randn` has the same interface, but generates numbers with the standard normal distribution of mean zero, standard deviation one:"
   ]
  },
  {
   "cell_type": "code",
   "execution_count": 5,
   "metadata": {
    "collapsed": false
   },
   "outputs": [
    {
     "name": "stdout",
     "output_type": "stream",
     "text": [
      "Ten normally distributed values:\n",
      " [-1.67563021  1.25375405 -1.41934487 -1.9178128  -0.41072886 -0.38295214\n",
      " -0.10042958  1.67723289 -0.21957942  0.31487489  2.11174485 -0.58515235\n",
      " -0.21902244  0.34551144 -0.66961411 -1.23893584  0.7494758  -1.11388467\n",
      "  1.80557623 -0.39285983]\n"
     ]
    }
   ],
   "source": [
    "print('Ten normally distributed values:\\n', npr.randn(20))"
   ]
  },
  {
   "cell_type": "code",
   "execution_count": 6,
   "metadata": {
    "collapsed": false
   },
   "outputs": [
    {
     "name": "stdout",
     "output_type": "stream",
     "text": [
      "The mean of these 10000000 samples is 0.000394846457813\n",
      "and their standard deviation is 1.00011498995\n"
     ]
    }
   ],
   "source": [
    "n_samples = 10**7\n",
    "normf_samples = npr.randn(n_samples)\n",
    "mean = sum(normf_samples)/n_samples\n",
    "print('The mean of these', n_samples, 'samples is', mean)\n",
    "standard_deviation = np.sqrt((sum(normf_samples**2) - mean**2)/n_samples)\n",
    "print('and their standard deviation is', standard_deviation)"
   ]
  },
  {
   "cell_type": "markdown",
   "metadata": {},
   "source": [
    "## Random integers: `numpy.random.random_integers`\n",
    "\n",
    "One can generate integers, uniformly distributed betwen specified lower and upper values:"
   ]
  },
  {
   "cell_type": "code",
   "execution_count": 7,
   "metadata": {
    "collapsed": false
   },
   "outputs": [
    {
     "name": "stdout",
     "output_type": "stream",
     "text": [
      "60 random dice rolls:\n",
      " [2 6 6 1 1 5 1 1 5 2 5 5 5 4 3 4 3 3 4 3 2 3 4 6 5 4 1 1 3 2 1 2 3 6 1 6 2\n",
      " 1 6 1 1 3 4 2 4 4 2 1 1 2 2 2 3 6 4 6 6 1 6 1]\n",
      "1 occured 15 times\n",
      "2 occured 11 times\n",
      "3 occured 9 times\n",
      "4 occured 9 times\n",
      "5 occured 6 times\n",
      "6 occured 10 times\n"
     ]
    }
   ],
   "source": [
    "n_dice = 60\n",
    "dice_rolls = npr.random_integers(1, 6, n_dice)\n",
    "print(n_dice, 'random dice rolls:\\n', dice_rolls)\n",
    "# Count each outcome: this needs a list instead of an array:\n",
    "dice_rolls_list = list(dice_rolls)\n",
    "for value in (1, 2, 3, 4, 5, 6):\n",
    "    count = dice_rolls_list.count(value)\n",
    "    print(value, 'occured', count, 'times')"
   ]
  },
  {
   "cell_type": "markdown",
   "metadata": {},
   "source": [
    "Things average out with more rolls:"
   ]
  },
  {
   "cell_type": "code",
   "execution_count": 8,
   "metadata": {
    "collapsed": false
   },
   "outputs": [
    {
     "name": "stdout",
     "output_type": "stream",
     "text": [
      "1 occured a frsction 0.166607 of the time\n",
      "2 occured a frsction 0.166128 of the time\n",
      "3 occured a frsction 0.166707 of the time\n",
      "4 occured a frsction 0.166544 of the time\n",
      "5 occured a frsction 0.166814 of the time\n",
      "6 occured a frsction 0.1672 of the time\n"
     ]
    }
   ],
   "source": [
    "n_dice = 10**6\n",
    "dice_rolls = npr.random_integers(1, 6, n_dice)\n",
    "# Count each outcome: this needs a list instead of an array:\n",
    "dice_rolls_list = list(dice_rolls)\n",
    "for value in (1, 2, 3, 4, 5, 6):\n",
    "    count = dice_rolls_list.count(value)\n",
    "    print(value, 'occured a frsction', count/n_dice, 'of the time')"
   ]
  },
  {
   "cell_type": "markdown",
   "metadata": {},
   "source": [
    "# Exercise\n",
    "\n",
    "Approximate $\\pi$ as follows:\n",
    "- generate a long list of random points in the square $[-1,1] \\times [-1,1]$ that circumscribes the unit circle,\n",
    "by genrating succwssive random values for both the $x$ and $y$ coordinates.\n",
    "- compute the fraction of these that are inside the unit circle, which should be approximately $\\pi/4$.\n",
    "- Multiply by four and ther you are!\n",
    "\n",
    "Hint: it takes a lot of samples to get decent accuracy, so experiment with successively more of them.\n",
    "\n",
    "Also, repeat the trial several times with each choice of number of samples, to see the variation in accuracy."
   ]
  }
 ],
 "metadata": {
  "kernelspec": {
   "display_name": "Python 3",
   "language": "python",
   "name": "python3"
  },
  "language_info": {
   "codemirror_mode": {
    "name": "ipython",
    "version": 3
   },
   "file_extension": ".py",
   "mimetype": "text/x-python",
   "name": "python",
   "nbconvert_exporter": "python",
   "pygments_lexer": "ipython3",
   "version": "3.5.2"
  }
 },
 "nbformat": 4,
 "nbformat_minor": 0
}
