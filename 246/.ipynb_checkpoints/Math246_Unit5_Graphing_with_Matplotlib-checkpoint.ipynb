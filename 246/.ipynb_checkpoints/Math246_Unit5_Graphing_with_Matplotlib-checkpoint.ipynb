{
 "cells": [
  {
   "cell_type": "markdown",
   "metadata": {},
   "source": [
    "# Math 246 Unit 5: Plotting graphs, with matplotlib \n",
    "\n",
    "### Brenton LeMesurier\n",
    "\n",
    "### September 24, 2015\n",
    "\n",
    "Numerical data is often presented with graphs, and the tools we use for this come from the module `matplotlib.pyplot` which is part of the  *package* `matplotlib`. (A Python package is essentially a collection of modules.)"
   ]
  },
  {
   "cell_type": "markdown",
   "metadata": {},
   "source": [
    "## Sources on Matplotlib\n",
    "\n",
    "Matplotlib is a huge collection of graphics tools, of which we see just a few.  For more information, the home site for Matplotlib is\n",
    "\n",
    "http://matplotlib.org\n",
    "\n",
    "and the section on pyplot is at\n",
    "\n",
    "http://matplotlib.org/1.3.1/api/pyplot_api.html\n",
    "\n",
    "\n",
    "However, another site that I find easier as an introduction is\n",
    "\n",
    "http://scipy-lectures.github.io/intro/matplotlib/matplotlib.html\n",
    "\n",
    "In fact, that whole site\n",
    "\n",
    "http://scipy-lectures.github.io\n",
    "\n",
    "is quite useful."
   ]
  },
  {
   "cell_type": "markdown",
   "metadata": {},
   "source": [
    "## Choosing where the graphs appear\n",
    "\n",
    "First, we request that the graphs produced by `matplotlib.pyplot` appear \"inline\"; that is, within this notebook window:"
   ]
  },
  {
   "cell_type": "code",
   "execution_count": null,
   "metadata": {
    "collapsed": false
   },
   "outputs": [],
   "source": [
    "%matplotlib inline"
   ]
  },
  {
   "cell_type": "markdown",
   "metadata": {},
   "source": [
    "This is an IPython *magic command* - you can read more about them at\n",
    "\n",
    "https://ipython.org/ipython-doc/dev/interactive/magics.html\n",
    "\n",
    "Alternatively, one could have graphs appear in separate windows, which is useful when you want to save them to files, or zoom and pan around the image.  That is requested with\n",
    "\n",
    "    %matplotlib osx\n",
    "\n",
    "(when using Mac OS), or\n",
    "\n",
    "    %matplotlib qt\n",
    "\n",
    "(when using Windows, and it might work with Mac OS X)."
   ]
  },
  {
   "cell_type": "markdown",
   "metadata": {},
   "source": [
    "We need some `numpy` stuff to create arrays of numbers to plot:"
   ]
  },
  {
   "cell_type": "code",
   "execution_count": null,
   "metadata": {
    "collapsed": false
   },
   "outputs": [],
   "source": [
    "from numpy import linspace, sin, cos, pi"
   ]
  },
  {
   "cell_type": "markdown",
   "metadata": {},
   "source": [
    "and for now, just the one main `matplotlib` graphics function, `plot`"
   ]
  },
  {
   "cell_type": "code",
   "execution_count": null,
   "metadata": {
    "collapsed": true
   },
   "outputs": [],
   "source": [
    "from matplotlib.pyplot import plot"
   ]
  },
  {
   "cell_type": "markdown",
   "metadata": {},
   "source": [
    "### Producing arrays of \"x\" values with `numpy` function  `linspace`\n",
    "\n",
    "To plot the graph of a function, we first need a collection of values for the abscissa (horizontal axis).\n",
    "The function <code>linspace</code> gives an array containing a specified number of equally spaced values over a specified interval, so that"
   ]
  },
  {
   "cell_type": "code",
   "execution_count": null,
   "metadata": {
    "collapsed": false
   },
   "outputs": [],
   "source": [
    "tenvalues = linspace(0., 2., 10)"
   ]
  },
  {
   "cell_type": "raw",
   "metadata": {},
   "source": [
    "gives ten equally spaced values ranging from 0 to 2:"
   ]
  },
  {
   "cell_type": "code",
   "execution_count": null,
   "metadata": {
    "collapsed": false
   },
   "outputs": [],
   "source": [
    "print(\"array tenvalues is\", tenvalues)"
   ]
  },
  {
   "cell_type": "markdown",
   "metadata": {},
   "source": [
    "Not quite what you expected?  To get values with ten *intervals* in between them, you need 11 values:"
   ]
  },
  {
   "cell_type": "code",
   "execution_count": null,
   "metadata": {
    "collapsed": false
   },
   "outputs": [],
   "source": [
    "tenintervals = linspace(0., 2., 11)\n",
    "print(\"array tenintervals is\", tenintervals)"
   ]
  },
  {
   "cell_type": "markdown",
   "metadata": {},
   "source": [
    "We could use these 11 values to graph a function, but the result is a bit rough, because the given points are joined with straight line segments:"
   ]
  },
  {
   "cell_type": "code",
   "execution_count": null,
   "metadata": {
    "collapsed": false
   },
   "outputs": [],
   "source": [
    "plot(tenintervals, sin(tenintervals))"
   ]
  },
  {
   "cell_type": "markdown",
   "metadata": {},
   "source": [
    "It turns out that 50 points is often a good choice for a smooth-looking curve, so the function <code>linspace</code> has this as a *default input parameter*: you can omit that third input value, and get 50 points.\n",
    "\n",
    "Let's use this to plot some trig. functions."
   ]
  },
  {
   "cell_type": "code",
   "execution_count": null,
   "metadata": {
    "collapsed": false
   },
   "outputs": [],
   "source": [
    "x = linspace(-pi, pi)\n",
    "print(x)"
   ]
  },
  {
   "cell_type": "code",
   "execution_count": null,
   "metadata": {
    "collapsed": false
   },
   "outputs": [],
   "source": [
    "plot(x, sin(x))"
   ]
  },
  {
   "cell_type": "code",
   "execution_count": null,
   "metadata": {
    "collapsed": false
   },
   "outputs": [],
   "source": [
    "plot(x, cos(x))"
   ]
  },
  {
   "cell_type": "markdown",
   "metadata": {},
   "source": [
    "With inline graphs in an IPython notebook, each separate cell produces a new graph. To combine curves on a single graph, several commands can be put in a single cell:"
   ]
  },
  {
   "cell_type": "code",
   "execution_count": null,
   "metadata": {
    "collapsed": false
   },
   "outputs": [],
   "source": [
    "plot(x, sin(x))\n",
    "plot(x, cos(x))"
   ]
  },
  {
   "cell_type": "markdown",
   "metadata": {},
   "source": [
    "or several curves can be specified in a single `plot` command:"
   ]
  },
  {
   "cell_type": "code",
   "execution_count": null,
   "metadata": {
    "collapsed": false
   },
   "outputs": [],
   "source": [
    "plot(x, sin(x), x, cos(x))"
   ]
  },
  {
   "cell_type": "markdown",
   "metadata": {},
   "source": [
    "There can be any number of curves in a single `plot` command:"
   ]
  },
  {
   "cell_type": "code",
   "execution_count": null,
   "metadata": {
    "collapsed": false
   },
   "outputs": [],
   "source": [
    "plot(x, sin(x), x, cos(x), x, sin(2*x), x, cos(2*x), x, sin(3*x), x, cos(3*x), x, x/pi)"
   ]
  },
  {
   "cell_type": "markdown",
   "metadata": {},
   "source": [
    "Note the color sequence: it is blue, green, red, cyan, magenta, yellow, black.\n",
    "After that, it repeats, but you probably don't want more than seven curves on one graph."
   ]
  },
  {
   "cell_type": "markdown",
   "metadata": {},
   "source": [
    "When working with Python files or in the IPython command window (as ised witin Spyder), one can control whether each new `plot` command produces a new figure or adds to the previous one, with command `hold`."
   ]
  },
  {
   "cell_type": "code",
   "execution_count": null,
   "metadata": {
    "collapsed": true
   },
   "outputs": [],
   "source": [
    "from matplotlib.pyplot import hold"
   ]
  },
  {
   "cell_type": "markdown",
   "metadata": {},
   "source": [
    "Try the following in the IPython command window, not here!\n",
    "\n",
    "First, get `hold` as above with\n",
    "\n",
    "    from matplotlib.pyplot import hold\n",
    "\n",
    "Next, ensure that holding is off:\n",
    "\n",
    "    hold(False)\n",
    "\n",
    "and try plotting several curves, like\n",
    "\n",
    "    plot(x, sin(x))\n",
    "    plot(x, cos(x))\n",
    "\n",
    "Finally, turn holding on, and repeat:\n",
    "\n",
    "    hold(True)\n",
    "    plot(x, sin(2*x))\n",
    "    plot(x, cos(2*x))"
   ]
  },
  {
   "cell_type": "markdown",
   "metadata": {},
   "source": [
    "## Decorating the Curves\n",
    "\n",
    "Curves can be decorated in different ways, such as putting markers at the given points instead of joining them with a solid curve and controlling the color.\n",
    "The appearance of each curve is controlled by an optional third input parameter to `plot`:"
   ]
  },
  {
   "cell_type": "code",
   "execution_count": 1,
   "metadata": {
    "collapsed": false
   },
   "outputs": [
    {
     "ename": "NameError",
     "evalue": "name 'plot' is not defined",
     "output_type": "error",
     "traceback": [
      "\u001b[0;31m---------------------------------------------------------------------------\u001b[0m",
      "\u001b[0;31mNameError\u001b[0m                                 Traceback (most recent call last)",
      "\u001b[0;32m<ipython-input-1-5cdfbf67d6ca>\u001b[0m in \u001b[0;36m<module>\u001b[0;34m()\u001b[0m\n\u001b[0;32m----> 1\u001b[0;31m \u001b[0mplot\u001b[0m\u001b[0;34m(\u001b[0m\u001b[0mx\u001b[0m\u001b[0;34m,\u001b[0m \u001b[0msin\u001b[0m\u001b[0;34m(\u001b[0m\u001b[0mx\u001b[0m\u001b[0;34m)\u001b[0m\u001b[0;34m,\u001b[0m \u001b[0;34m'.'\u001b[0m\u001b[0;34m)\u001b[0m\u001b[0;34m\u001b[0m\u001b[0m\n\u001b[0m\u001b[1;32m      2\u001b[0m \u001b[0mplot\u001b[0m\u001b[0;34m(\u001b[0m\u001b[0mx\u001b[0m\u001b[0;34m,\u001b[0m \u001b[0mcos\u001b[0m\u001b[0;34m(\u001b[0m\u001b[0mx\u001b[0m\u001b[0;34m)\u001b[0m\u001b[0;34m,\u001b[0m \u001b[0;34m'r*-'\u001b[0m\u001b[0;34m)\u001b[0m\u001b[0;34m\u001b[0m\u001b[0m\n",
      "\u001b[0;31mNameError\u001b[0m: name 'plot' is not defined"
     ]
    }
   ],
   "source": [
    "plot(x, sin(x), '.')\n",
    "plot(x, cos(x), 'r*-')"
   ]
  },
  {
   "cell_type": "markdown",
   "metadata": {},
   "source": [
    "The three part curve specificarion can be combined: in the following, `plot` knwoa th there are two curves ech specified by three arguments, not three curves each specified by just an \"x-y\" pair:"
   ]
  },
  {
   "cell_type": "code",
   "execution_count": null,
   "metadata": {
    "collapsed": false
   },
   "outputs": [],
   "source": [
    "plot(x, sin(x), 'g+', x, cos(x), 'r.-')"
   ]
  },
  {
   "cell_type": "markdown",
   "metadata": {},
   "source": [
    "### Exploring ways to refine your figures\n",
    "\n",
    "There are many commands for refining the appearance of a figure after its initial creation with `plot`.\n",
    "Experiment yourself with the commands `title`, `xlabel`e>, `ylabel`, `grid`, and `legend`.\n",
    "\n",
    "\n",
    "### Getting help from the documentation\n",
    "\n",
    "For some of these, you will probably need to read up. For simple things, there is a function `help`, which is best used in the IPython interactive input window (within Spyder for example), but I will illustrate it here."
   ]
  },
  {
   "cell_type": "code",
   "execution_count": null,
   "metadata": {
    "collapsed": false
   },
   "outputs": [],
   "source": [
    "help(hold)"
   ]
  },
  {
   "cell_type": "markdown",
   "metadata": {},
   "source": [
    "The jargon used in `help` can be confusing at first, but there are other online sources that are more readable and better illustrated, like http://scipy-lectures.github.io/intro/matplotlib/matplotlib.html mentioned above."
   ]
  },
  {
   "cell_type": "markdown",
   "metadata": {},
   "source": [
    "### Exercise\n",
    "\n",
    "Produce a refined version of the above sine and cosine graph, with:\n",
    "\n",
    "- a title at the top\n",
    "- labels on both axes\n",
    "- a legend identifying the two curves\n",
    "- a \"graph paper\" background, to make it easier to judge details like where the functions have zero values.\n",
    "\n",
    "Then work out how to save this to a file (probably in format PNG), and turn that in through the Dropbox in OAKS.\n",
    "\n",
    "Explore other features, like zooming and panning: remember that this must be done with the graphs appearing in a separste window, not inline."
   ]
  }
 ],
 "metadata": {
  "kernelspec": {
   "display_name": "Python 3",
   "language": "python",
   "name": "python3"
  },
  "language_info": {
   "codemirror_mode": {
    "name": "ipython",
    "version": 3
   },
   "file_extension": ".py",
   "mimetype": "text/x-python",
   "name": "python",
   "nbconvert_exporter": "python",
   "pygments_lexer": "ipython3",
   "version": "3.4.3"
  }
 },
 "nbformat": 4,
 "nbformat_minor": 0
}
