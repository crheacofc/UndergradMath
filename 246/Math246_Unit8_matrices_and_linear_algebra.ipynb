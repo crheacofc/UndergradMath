{
 "cells": [
  {
   "cell_type": "markdown",
   "metadata": {},
   "source": [
    "# Math 246 Unit 8: Numpy matrices and linear algebra\n",
    "\n",
    "### Brenton LeMesurier,  October 29, 2015"
   ]
  },
  {
   "cell_type": "markdown",
   "metadata": {},
   "source": [
    "## Introduction\n",
    "\n",
    "The module `numpy` (and this also module `pylab`) has a variable type `matrix`\n",
    "which is a specialization of the type `array` that makes some linear algebra operation easier.\n",
    "Matrices are always two dimensional, so to use type `matrix` for a vector `v` and be able to do matrix-vector multiplication with `A * v`, the vector needs to be created as a matrix with a single column.\n",
    "\n",
    "This module shows how to create and use numpy matrices, with an exercise on row reduction."
   ]
  },
  {
   "cell_type": "markdown",
   "metadata": {},
   "source": [
    "### Floating pont numbers vs integers\n",
    "\n",
    "Thoug Python is generally good at understanding that an integer lke `7` is to be used as a floating point (real) number, it is sometimes best ot make this distinction explicitly when working with module `numpy`; otherwise sometimes division doen within numpy functions return an integer answer, like `7/2 = 3`.\n",
    "\n",
    "This fomr now on, when I men an nteger to be used as a floating point number, I give it a decimal point\" `7./2.` wil realiably be `3.5`"
   ]
  },
  {
   "cell_type": "markdown",
   "metadata": {},
   "source": [
    "First the usual boilerplate, including import of all the numpy functions to be used below."
   ]
  },
  {
   "cell_type": "code",
   "execution_count": 2,
   "metadata": {
    "collapsed": false
   },
   "outputs": [],
   "source": [
    "'''\n",
    "Unit 8: Numpy matrices\n",
    "Author: Brenton LeMesurier, <lemesurierb@cofc.edu>\n",
    "Date: October 29, 2015\n",
    "'''\n",
    "from numpy import array, matrix, zeros"
   ]
  },
  {
   "cell_type": "markdown",
   "metadata": {},
   "source": [
    "## Creating numpy matrices\n",
    "\n",
    "The methods that work for creating array also work, with an obvious change:"
   ]
  },
  {
   "cell_type": "code",
   "execution_count": 3,
   "metadata": {
    "collapsed": false
   },
   "outputs": [
    {
     "name": "stdout",
     "output_type": "stream",
     "text": [
      "[[ 1.  2.]\n",
      " [ 3.  4.]]\n"
     ]
    }
   ],
   "source": [
    "# Create an array from a list:\n",
    "Aarray = array([[1., 2.], [3., 4.]])\n",
    "print(Aarray)"
   ]
  },
  {
   "cell_type": "code",
   "execution_count": 4,
   "metadata": {
    "collapsed": false
   },
   "outputs": [
    {
     "name": "stdout",
     "output_type": "stream",
     "text": [
      "[[ 1.  2.]\n",
      " [ 3.  4.]]\n"
     ]
    }
   ],
   "source": [
    "# Create a matrix from a 2D list:\n",
    "A = matrix([[1., 2.], [3., 4.]])\n",
    "print(A)"
   ]
  },
  {
   "cell_type": "markdown",
   "metadata": {},
   "source": [
    "One can convert back and forth"
   ]
  },
  {
   "cell_type": "code",
   "execution_count": 5,
   "metadata": {
    "collapsed": false
   },
   "outputs": [
    {
     "name": "stdout",
     "output_type": "stream",
     "text": [
      "[[ 0.  1.]\n",
      " [ 1.  0.]]\n"
     ]
    }
   ],
   "source": [
    "Barray = array([[0., 1.], [1., 0.]])\n",
    "# Create a matrix from a 2D array:\n",
    "B = matrix(Barray)\n",
    "print(B)"
   ]
  },
  {
   "cell_type": "markdown",
   "metadata": {},
   "source": [
    "What's the difference? For one thing, multiplication works differently:\n",
    "\n",
    "Array multiplication multiplies the corresponding elements:"
   ]
  },
  {
   "cell_type": "code",
   "execution_count": 6,
   "metadata": {
    "collapsed": false
   },
   "outputs": [
    {
     "name": "stdout",
     "output_type": "stream",
     "text": [
      "[[ 0.  2.]\n",
      " [ 3.  0.]]\n"
     ]
    }
   ],
   "source": [
    "print(Aarray * Barray)"
   ]
  },
  {
   "cell_type": "markdown",
   "metadata": {},
   "source": [
    "Matrix multiplication instead does the expected mathematical thing:"
   ]
  },
  {
   "cell_type": "code",
   "execution_count": 7,
   "metadata": {
    "collapsed": false
   },
   "outputs": [
    {
     "name": "stdout",
     "output_type": "stream",
     "text": [
      "[[ 2.  1.]\n",
      " [ 4.  3.]]\n"
     ]
    }
   ],
   "source": [
    "print(A * B)"
   ]
  },
  {
   "cell_type": "markdown",
   "metadata": {},
   "source": [
    "Arrays can be multiplied \"mathematically\" by using the `.dot()` method, which extnds the idea of the dot produnt of two vectors: it computes the array of all the dot products of each combination of a row of the first array with a column of the second:"
   ]
  },
  {
   "cell_type": "code",
   "execution_count": 8,
   "metadata": {
    "collapsed": false
   },
   "outputs": [
    {
     "name": "stdout",
     "output_type": "stream",
     "text": [
      "[[ 2.  1.]\n",
      " [ 4.  3.]]\n"
     ]
    }
   ],
   "source": [
    "print(Aarray.dot(Barray))"
   ]
  },
  {
   "cell_type": "markdown",
   "metadata": {},
   "source": [
    "## More options for matrix creation\n",
    "Matrices can also be created directly without using lists or arrays,\n",
    "using a string with semicolons separating the rows.\n",
    "(Matlab users should recognize this notation!)"
   ]
  },
  {
   "cell_type": "code",
   "execution_count": 9,
   "metadata": {
    "collapsed": false
   },
   "outputs": [
    {
     "name": "stdout",
     "output_type": "stream",
     "text": [
      "[[ 3.  4.  5.]\n",
      " [ 6.  7.  8.]]\n"
     ]
    }
   ],
   "source": [
    "C = matrix(\"3., 4. 5.; 6., 7., 8.\")\n",
    "print(C)"
   ]
  },
  {
   "cell_type": "markdown",
   "metadata": {},
   "source": [
    "The commas within a row are optional – but I recommend that you be consistent, not like in this example:"
   ]
  },
  {
   "cell_type": "code",
   "execution_count": 10,
   "metadata": {
    "collapsed": false
   },
   "outputs": [
    {
     "name": "stdout",
     "output_type": "stream",
     "text": [
      "[[ 6.  5.  4.]\n",
      " [ 1.  5. -2.]]\n"
     ]
    }
   ],
   "source": [
    "D = matrix(\"6. 5. 4.; 1., 5. -2.\")\n",
    "print(D)"
   ]
  },
  {
   "cell_type": "markdown",
   "metadata": {},
   "source": [
    "Row and column matrices are different, and best created with this new notation:"
   ]
  },
  {
   "cell_type": "code",
   "execution_count": 11,
   "metadata": {
    "collapsed": false
   },
   "outputs": [
    {
     "name": "stdout",
     "output_type": "stream",
     "text": [
      "[[  2.   4.  10.]]\n"
     ]
    }
   ],
   "source": [
    "brow = matrix('2. 4. 10.')\n",
    "print(brow)"
   ]
  },
  {
   "cell_type": "code",
   "execution_count": 12,
   "metadata": {
    "collapsed": false
   },
   "outputs": [
    {
     "name": "stdout",
     "output_type": "stream",
     "text": [
      "[[  2.]\n",
      " [  4.]\n",
      " [ 10.]]\n"
     ]
    }
   ],
   "source": [
    "bcol = matrix('2. ; 4. ; 10.')\n",
    "print(bcol)"
   ]
  },
  {
   "cell_type": "markdown",
   "metadata": {},
   "source": [
    "The difference is important for matrix-vector multiplication:"
   ]
  },
  {
   "cell_type": "code",
   "execution_count": 13,
   "metadata": {
    "collapsed": false
   },
   "outputs": [
    {
     "name": "stdout",
     "output_type": "stream",
     "text": [
      "[[  72.]\n",
      " [ 120.]]\n"
     ]
    }
   ],
   "source": [
    "# 2x3 matrix times 3x1 (column) matrix gives a 2x1 column matrix:\n",
    "print(C * bcol)"
   ]
  },
  {
   "cell_type": "code",
   "execution_count": 14,
   "metadata": {
    "collapsed": false
   },
   "outputs": [
    {
     "ename": "ValueError",
     "evalue": "shapes (2,3) and (1,3) not aligned: 3 (dim 1) != 1 (dim 0)",
     "output_type": "error",
     "traceback": [
      "\u001b[0;31m---------------------------------------------------------------------------\u001b[0m",
      "\u001b[0;31mValueError\u001b[0m                                Traceback (most recent call last)",
      "\u001b[0;32m<ipython-input-14-98a605c79586>\u001b[0m in \u001b[0;36m<module>\u001b[0;34m()\u001b[0m\n\u001b[1;32m      1\u001b[0m \u001b[0;31m# 2x3 matrix time 1x3 (row) matrix gives an error!:\u001b[0m\u001b[0;34m\u001b[0m\u001b[0;34m\u001b[0m\u001b[0m\n\u001b[0;32m----> 2\u001b[0;31m \u001b[0mprint\u001b[0m\u001b[0;34m(\u001b[0m\u001b[0mC\u001b[0m \u001b[0;34m*\u001b[0m \u001b[0mbrow\u001b[0m\u001b[0;34m)\u001b[0m\u001b[0;34m\u001b[0m\u001b[0m\n\u001b[0m",
      "\u001b[0;32m/Users/crhea/anaconda/lib/python3.4/site-packages/numpy/matrixlib/defmatrix.py\u001b[0m in \u001b[0;36m__mul__\u001b[0;34m(self, other)\u001b[0m\n\u001b[1;32m    339\u001b[0m         \u001b[0;32mif\u001b[0m \u001b[0misinstance\u001b[0m\u001b[0;34m(\u001b[0m\u001b[0mother\u001b[0m\u001b[0;34m,\u001b[0m \u001b[0;34m(\u001b[0m\u001b[0mN\u001b[0m\u001b[0;34m.\u001b[0m\u001b[0mndarray\u001b[0m\u001b[0;34m,\u001b[0m \u001b[0mlist\u001b[0m\u001b[0;34m,\u001b[0m \u001b[0mtuple\u001b[0m\u001b[0;34m)\u001b[0m\u001b[0;34m)\u001b[0m \u001b[0;34m:\u001b[0m\u001b[0;34m\u001b[0m\u001b[0m\n\u001b[1;32m    340\u001b[0m             \u001b[0;31m# This promotes 1-D vectors to row vectors\u001b[0m\u001b[0;34m\u001b[0m\u001b[0;34m\u001b[0m\u001b[0m\n\u001b[0;32m--> 341\u001b[0;31m             \u001b[0;32mreturn\u001b[0m \u001b[0mN\u001b[0m\u001b[0;34m.\u001b[0m\u001b[0mdot\u001b[0m\u001b[0;34m(\u001b[0m\u001b[0mself\u001b[0m\u001b[0;34m,\u001b[0m \u001b[0masmatrix\u001b[0m\u001b[0;34m(\u001b[0m\u001b[0mother\u001b[0m\u001b[0;34m)\u001b[0m\u001b[0;34m)\u001b[0m\u001b[0;34m\u001b[0m\u001b[0m\n\u001b[0m\u001b[1;32m    342\u001b[0m         \u001b[0;32mif\u001b[0m \u001b[0misscalar\u001b[0m\u001b[0;34m(\u001b[0m\u001b[0mother\u001b[0m\u001b[0;34m)\u001b[0m \u001b[0;32mor\u001b[0m \u001b[0;32mnot\u001b[0m \u001b[0mhasattr\u001b[0m\u001b[0;34m(\u001b[0m\u001b[0mother\u001b[0m\u001b[0;34m,\u001b[0m \u001b[0;34m'__rmul__'\u001b[0m\u001b[0;34m)\u001b[0m \u001b[0;34m:\u001b[0m\u001b[0;34m\u001b[0m\u001b[0m\n\u001b[1;32m    343\u001b[0m             \u001b[0;32mreturn\u001b[0m \u001b[0mN\u001b[0m\u001b[0;34m.\u001b[0m\u001b[0mdot\u001b[0m\u001b[0;34m(\u001b[0m\u001b[0mself\u001b[0m\u001b[0;34m,\u001b[0m \u001b[0mother\u001b[0m\u001b[0;34m)\u001b[0m\u001b[0;34m\u001b[0m\u001b[0m\n",
      "\u001b[0;31mValueError\u001b[0m: shapes (2,3) and (1,3) not aligned: 3 (dim 1) != 1 (dim 0)"
     ]
    }
   ],
   "source": [
    "# 2x3 matrix time 1x3 (row) matrix gives an error!:\n",
    "print(C * brow)"
   ]
  },
  {
   "cell_type": "markdown",
   "metadata": {},
   "source": [
    "## Other matrix operations: transposes, inverses, etc."
   ]
  },
  {
   "cell_type": "code",
   "execution_count": 15,
   "metadata": {
    "collapsed": false
   },
   "outputs": [
    {
     "name": "stdout",
     "output_type": "stream",
     "text": [
      "C is:\n",
      "[[ 3.  4.  5.]\n",
      " [ 6.  7.  8.]]\n",
      "Its transpose C.T is:\n",
      "[[ 3.  6.]\n",
      " [ 4.  7.]\n",
      " [ 5.  8.]]\n"
     ]
    }
   ],
   "source": [
    "print(\"C is:\")\n",
    "print(C)\n",
    "print(\"Its transpose C.T is:\")\n",
    "print(C.T)"
   ]
  },
  {
   "cell_type": "code",
   "execution_count": 16,
   "metadata": {
    "collapsed": false
   },
   "outputs": [
    {
     "name": "stdout",
     "output_type": "stream",
     "text": [
      "A is:\n",
      "[[ 1.  2.]\n",
      " [ 3.  4.]]\n",
      "Its inverse is:\n",
      "[[-2.   1. ]\n",
      " [ 1.5 -0.5]]\n",
      "Check by multiplying, both ways:\n",
      "[[  1.00000000e+00   0.00000000e+00]\n",
      " [  8.88178420e-16   1.00000000e+00]]\n",
      "[[  1.00000000e+00   0.00000000e+00]\n",
      " [  1.11022302e-16   1.00000000e+00]]\n"
     ]
    }
   ],
   "source": [
    "print(\"A is:\")\n",
    "print(A)\n",
    "Ainverse = A.I\n",
    "print(\"Its inverse is:\")\n",
    "print(Ainverse)\n",
    "print(\"Check by multiplying, both ways:\")\n",
    "print(A * Ainverse)\n",
    "print(Ainverse * A)"
   ]
  },
  {
   "cell_type": "markdown",
   "metadata": {},
   "source": [
    "## *Slicing*: Extracting rows, columns, and other rectangular chunks from matrices\n",
    "\n",
    "This works with lists, arrays and matrices, and we have seen some of it before;\n",
    "I review it here because it will help with doing row operations on matrices.\n",
    "\n",
    "### Index notation for slicing\n",
    "\n",
    "For an index with n possible values, from 0 to n-1:\n",
    "\n",
    "- `a:b` means indices i, $a \\leq i < b$\n",
    "\n",
    "- `a:` is short for `a:n`, so indices $a \\leq i$, all the way to the maximum index value \n",
    "- `:b` is short for `0:b`, so all indices $i < b$\n",
    "- `:` combines both of the above, so is short for `0:n`, all possible indices\n",
    "- index value `-1` refers the last entry; the same as index n-1\n",
    "- index value `-m` refers the \"m-th last\" entry; the same as index n-m"
   ]
  },
  {
   "cell_type": "markdown",
   "metadata": {},
   "source": [
    "## Exercise 1\n",
    "\n",
    "What range of indices do your get with `:-1` ?\n",
    "Be careful!"
   ]
  },
  {
   "cell_type": "code",
   "execution_count": 17,
   "metadata": {
    "collapsed": false
   },
   "outputs": [
    {
     "name": "stdout",
     "output_type": "stream",
     "text": [
      "The 'augmented matrix' Ab is:\n",
      "[[ 3.  4.  5.]\n",
      " [ 6.  7.  8.]]\n"
     ]
    }
   ],
   "source": [
    "Ab = C.copy()  # Make a copy of C under a new name.\n",
    "print(\"The 'augmented matrix' Ab is:\")\n",
    "print(Ab)"
   ]
  },
  {
   "cell_type": "code",
   "execution_count": 18,
   "metadata": {
    "collapsed": false
   },
   "outputs": [
    {
     "name": "stdout",
     "output_type": "stream",
     "text": [
      "Its first row (index 0!) is:\n",
      "[[ 3.  4.  5.]]\n"
     ]
    }
   ],
   "source": [
    "row1 = Ab[0,:]\n",
    "print(\"Its first row (index 0!) is:\")\n",
    "print(row1)"
   ]
  },
  {
   "cell_type": "code",
   "execution_count": 19,
   "metadata": {
    "collapsed": false
   },
   "outputs": [
    {
     "name": "stdout",
     "output_type": "stream",
     "text": [
      "Its second column (index 1!) is:\n",
      "[[ 4.]\n",
      " [ 7.]]\n"
     ]
    }
   ],
   "source": [
    "column2 = Ab[:,1]\n",
    "print(\"Its second column (index 1!) is:\")\n",
    "print(column2)"
   ]
  },
  {
   "cell_type": "code",
   "execution_count": null,
   "metadata": {
    "collapsed": false
   },
   "outputs": [],
   "source": [
    "A = Ab[:,:2]\n",
    "print(\"Its left-hand 2x2 chunk is the square matrix:\")\n",
    "print(A)"
   ]
  },
  {
   "cell_type": "code",
   "execution_count": 1,
   "metadata": {
    "collapsed": false
   },
   "outputs": [
    {
     "ename": "NameError",
     "evalue": "name 'Ab' is not defined",
     "output_type": "error",
     "traceback": [
      "\u001b[0;31m---------------------------------------------------------------------------\u001b[0m",
      "\u001b[0;31mNameError\u001b[0m                                 Traceback (most recent call last)",
      "\u001b[0;32m<ipython-input-1-845298b99f6a>\u001b[0m in \u001b[0;36m<module>\u001b[0;34m()\u001b[0m\n\u001b[0;32m----> 1\u001b[0;31m \u001b[0mb\u001b[0m \u001b[0;34m=\u001b[0m \u001b[0mAb\u001b[0m\u001b[0;34m[\u001b[0m\u001b[0;34m:\u001b[0m\u001b[0;34m,\u001b[0m\u001b[0;34m-\u001b[0m\u001b[0;36m1\u001b[0m\u001b[0;34m]\u001b[0m  \u001b[0;31m# Index -1 means last value of the index\u001b[0m\u001b[0;34m\u001b[0m\u001b[0m\n\u001b[0m\u001b[1;32m      2\u001b[0m \u001b[0mprint\u001b[0m\u001b[0;34m(\u001b[0m\u001b[0;34m\"Its right-hand column is the column matrix:\"\u001b[0m\u001b[0;34m)\u001b[0m\u001b[0;34m\u001b[0m\u001b[0m\n\u001b[1;32m      3\u001b[0m \u001b[0mprint\u001b[0m\u001b[0;34m(\u001b[0m\u001b[0mb\u001b[0m\u001b[0;34m)\u001b[0m\u001b[0;34m\u001b[0m\u001b[0m\n",
      "\u001b[0;31mNameError\u001b[0m: name 'Ab' is not defined"
     ]
    }
   ],
   "source": [
    "b = Ab[:,-1]  # Index -1 means last value of the index\n",
    "print(\"Its right-hand column is the column matrix:\")\n",
    "print(b)"
   ]
  },
  {
   "cell_type": "code",
   "execution_count": null,
   "metadata": {
    "collapsed": false
   },
   "outputs": [],
   "source": [
    "print(\"We can also combine matrices (and arrays) into a larger one:\")\n",
    "A_and_b = zeros((2,3))  # First, create an empty shell of a matrix\n",
    "'''Note well: we always have to specify ranges of index values in the matrix where\n",
    "we are inserting stuff, even when a range contains just a single index value:\n",
    "'''\n",
    "print(A_and_b)\n",
    "A_and_b[0:2,0:2] = A\n",
    "print(A_and_b)\n",
    "A_and_b[0:2,2:] = b  \n",
    "print(A_and_b)"
   ]
  },
  {
   "cell_type": "markdown",
   "metadata": {},
   "source": [
    "## Row operations and row reduction\n",
    "\n",
    "We can extract a row of a matrix, and so we can use this to do row operations.\n",
    "The above augmented matrix Ab can be row reduced to \"row echelon form\".\n",
    "Only one operation is needed:"
   ]
  },
  {
   "cell_type": "code",
   "execution_count": null,
   "metadata": {
    "collapsed": false
   },
   "outputs": [],
   "source": [
    "Ab = C.copy()  # Reset Ab in case it has been changed!\n",
    "print(\"Ab is initially\")\n",
    "print(Ab)\n",
    "m = Ab[1,0]/Ab[0,0]\n",
    "print(\"The row multiplier is m = \", m)\n",
    "Ab[1,:] = Ab[1,:] - m * Ab[0,:]\n",
    "print(\"Ab is now\")\n",
    "print(Ab)"
   ]
  },
  {
   "cell_type": "markdown",
   "metadata": {},
   "source": [
    "## Exercise 2\n",
    "\n",
    "This can be done either by modifying this notebook, or copying the relevant code from here into a Python file `Unit7.py` and adding stuff there.\n",
    "I describe the \"notebook\" option.\n",
    "\n",
    "Add a code cell below this one, and then in that cell:\n",
    "\n",
    "1. Create a 3x3 matrix A (You could explore the function `rand` from module `numpy.random` or function `hilbert` from module `scipy.linalg`)\n",
    "2. Create a 3 element column matrix b\n",
    "3. Combine these into the augmented matrix Ab\n",
    "4. Do the row operations (three in all) needed to put the augmented matrix into row-echelon form.\n",
    "As above, print each multiplier, and print each updated version of the matrix.\n",
    "5. Compute (and display) the inverse of A, and use this to solve $Ax = b$ for x.\n",
    "6. Read about the numpy function `solve`, and use this to solve for x the easy way."
   ]
  }
 ],
 "metadata": {
  "kernelspec": {
   "display_name": "Python 3",
   "language": "python",
   "name": "python3"
  },
  "language_info": {
   "codemirror_mode": {
    "name": "ipython",
    "version": 3
   },
   "file_extension": ".py",
   "mimetype": "text/x-python",
   "name": "python",
   "nbconvert_exporter": "python",
   "pygments_lexer": "ipython3",
   "version": "3.4.3"
  }
 },
 "nbformat": 4,
 "nbformat_minor": 0
}
