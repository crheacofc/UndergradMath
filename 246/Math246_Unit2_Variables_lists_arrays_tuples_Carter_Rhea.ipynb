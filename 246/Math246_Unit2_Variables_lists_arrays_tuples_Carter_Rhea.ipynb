{
 "cells": [
  {
   "cell_type": "markdown",
   "metadata": {},
   "source": [
    "# Math 246 Unit 2: Python variables, including lists, arrays and tuples\n",
    "\n",
    "## Professor Brenton LeMesurier, August 27 2015\n",
    "\n",
    "The first step beyond using Python merely as a calculator is storing value in variables, for reuse later in more elaborate calculations.\n",
    "For example, to find both roots of a quadratic equation\n",
    "$$ax^2 + bx + c = 0$$\n",
    "we want the values of each coefficient and are going to use each of them twice, which we might want to do without typing in each coefficient twice over.\n",
    "We can solve the specific equation\n",
    "$$2x^2 - 8x + 6 = 0$$\n",
    "using the quadratic formula.\n",
    "\n",
    "But first we need to get the square root function:"
   ]
  },
  {
   "cell_type": "code",
   "execution_count": null,
   "metadata": {
    "collapsed": true
   },
   "outputs": [],
   "source": [
    "from math import sqrt"
   ]
  },
  {
   "cell_type": "markdown",
   "metadata": {},
   "source": [
    "Then the rest looks almost like normal mathematical notation:"
   ]
  },
  {
   "cell_type": "code",
   "execution_count": null,
   "metadata": {
    "collapsed": false
   },
   "outputs": [],
   "source": [
    "a = 2\n",
    "b = -10\n",
    "c = 8\n",
    "root0 = (-b - sqrt(b**2 - 4 * a * c))/(2 * a)\n",
    "root1 = (-b + sqrt(b**2 - 4 * a * c))/(2 * a)"
   ]
  },
  {
   "cell_type": "markdown",
   "metadata": {},
   "source": [
    "(Aside: why did I number the roots 0 and 1 instead of 1 and 2?  The answer is coming up soon.)\n",
    "\n",
    "Where are the results?  They have been stored in variables rather than printed out, so to see them, use the <code>print</code> function:"
   ]
  },
  {
   "cell_type": "code",
   "execution_count": null,
   "metadata": {
    "collapsed": false
   },
   "outputs": [],
   "source": [
    "print('The smaller root is', root0, 'and the larger root is', root1)"
   ]
  },
  {
   "cell_type": "markdown",
   "metadata": {},
   "source": [
    "**Lists and arrays**\n",
    "\n",
    "Python has several ways of grouping together information into one variable.\n",
    "We first look at *lists*, which can collect all kinds of information together:"
   ]
  },
  {
   "cell_type": "code",
   "execution_count": null,
   "metadata": {
    "collapsed": false
   },
   "outputs": [],
   "source": [
    "coefficients = [2, -10, 8]\n",
    "name = [\"LeMesurier\", \"Brenton\"]\n",
    "phone = [9535917]"
   ]
  },
  {
   "cell_type": "markdown",
   "metadata": {},
   "source": [
    "Lists can be combined by \"addition\":"
   ]
  },
  {
   "cell_type": "code",
   "execution_count": null,
   "metadata": {
    "collapsed": false
   },
   "outputs": [],
   "source": [
    "name + phone"
   ]
  },
  {
   "cell_type": "markdown",
   "metadata": {},
   "source": [
    "Individual entries (\"elements\") can be extracted from lists; note that **Python always counts from 0**:"
   ]
  },
  {
   "cell_type": "code",
   "execution_count": null,
   "metadata": {
    "collapsed": false
   },
   "outputs": [],
   "source": [
    "coefficients[0], coefficients[1], coefficients[2]"
   ]
  },
  {
   "cell_type": "code",
   "execution_count": null,
   "metadata": {
    "collapsed": false
   },
   "outputs": [],
   "source": [
    "firstname = name[1]\n",
    "print(firstname)"
   ]
  },
  {
   "cell_type": "markdown",
   "metadata": {},
   "source": [
    "and we can modify list elements this way too:"
   ]
  },
  {
   "cell_type": "code",
   "execution_count": null,
   "metadata": {
    "collapsed": false
   },
   "outputs": [],
   "source": [
    "coefficients[2] = 12\n",
    "print('Now the coefficients are', coefficients)"
   ]
  },
  {
   "cell_type": "markdown",
   "metadata": {},
   "source": [
    "We can use the list of coefficients to specify the quadratic, and store both roots in a new list.\n",
    "\n",
    "But let's shorten the name first, by making \"q\" a synonym for \"coefficients\":"
   ]
  },
  {
   "cell_type": "code",
   "execution_count": null,
   "metadata": {
    "collapsed": false
   },
   "outputs": [],
   "source": [
    "q = coefficients\n",
    "print('The list of coefficients is', q)\n",
    "roots = [(-q[1] - sqrt(q[1]**2 - 4 * q[0] * q[2]))/(2 * q[0]),\n",
    "         (-q[1] + sqrt(q[1]**2 - 4 * q[0] * q[2]))/(2 * q[0])]\n",
    "print('The list of roots is', roots)\n",
    "print('The individual roots are', roots[0], 'and', roots[1])"
   ]
  },
  {
   "cell_type": "markdown",
   "metadata": {},
   "source": [
    "See now why I enumerated the roots from 0 previously?\n",
    "\n",
    "For readability, you might want to \"unpack\" the coefficients and then use the more familiar formulas above:"
   ]
  },
  {
   "cell_type": "code",
   "execution_count": null,
   "metadata": {
    "collapsed": false
   },
   "outputs": [],
   "source": [
    "a = q[0]\n",
    "b = q[1]\n",
    "c = q[2]\n",
    "roots = [(-b - sqrt(b**2 - 4 * a * c))/(2 * a),\n",
    "         (-b + sqrt(b**2 - 4 * a * c))/(2 * a)]\n",
    "print('The list of roots is again', roots)"
   ]
  },
  {
   "cell_type": "markdown",
   "metadata": {},
   "source": [
    "##pylab, numpy and arrays: for vector, matrices, and beyond##\n",
    "Many mathematical calculations involve vectors, matrices and other arays of numbers.  At first glance, Python lists look like vectors, but as seen above, \"addition\" of lists does not do what you want with vectors.\n",
    "\n",
    "Thus we need numerical **arrays**.  These are not a part of the core Python language, but there is a method to add features to Python from **modules** and we can get arrays along with many other useful mathematical tools from the module <code>pylab</code>, by using the command"
   ]
  },
  {
   "cell_type": "code",
   "execution_count": null,
   "metadata": {
    "collapsed": false
   },
   "outputs": [],
   "source": [
    "from pylab import *"
   ]
  },
  {
   "cell_type": "markdown",
   "metadata": {},
   "source": [
    "(Full disclosure: module <code>pylab</code> is a shortcut that gives access to parts of other larger packages, and the stuff we use in this module really comes originally from the package <code>numpy</code>, so you could also get arrays with\n",
    "    from numpy import *\n",
    "So when you search online for documentation, you should look for it under the name <code>numpy</code>.\n",
    "\n",
    "But for now, the way we do it above with <code>pylab</code> is the most convenient, partly because it also gives us tools for producing graphs, as we will see soon."
   ]
  },
  {
   "cell_type": "markdown",
   "metadata": {},
   "source": [
    "***Creating arrays (from lists and otherwise)***\n",
    "\n",
    "Arrays are so similar to lists that one way to create an array is to convert a list:"
   ]
  },
  {
   "cell_type": "code",
   "execution_count": null,
   "metadata": {
    "collapsed": false
   },
   "outputs": [],
   "source": [
    "list0 = [1, 2, 3]\n",
    "list1 = [2, 4, 8]\n",
    "array0 = array(list0)\n",
    "array1 = array(list1)"
   ]
  },
  {
   "cell_type": "markdown",
   "metadata": {},
   "source": [
    "We can skip the intermediate step of creating lists and instead create arrays directly:"
   ]
  },
  {
   "cell_type": "code",
   "execution_count": null,
   "metadata": {
    "collapsed": false
   },
   "outputs": [],
   "source": [
    "array0 = array([1, 2, 3])\n",
    "array1 = array([2, 4, 8])"
   ]
  },
  {
   "cell_type": "markdown",
   "metadata": {},
   "source": [
    "Printing makes these seem very similar ..."
   ]
  },
  {
   "cell_type": "code",
   "execution_count": null,
   "metadata": {
    "collapsed": false
   },
   "outputs": [],
   "source": [
    "print('list0 =', list0)\n",
    "print('array0 =', array0)"
   ]
  },
  {
   "cell_type": "markdown",
   "metadata": {},
   "source": [
    "... and we can extract elements in the same way."
   ]
  },
  {
   "cell_type": "code",
   "execution_count": null,
   "metadata": {
    "collapsed": false
   },
   "outputs": [],
   "source": [
    "print('The first element of list0 is', list0[0])\n",
    "print('The last element of array1 is', array1[2])"
   ]
  },
  {
   "cell_type": "markdown",
   "metadata": {},
   "source": [
    "However, displaying by simply typing the names describes them more carefully, with a description that could needed to create them ..."
   ]
  },
  {
   "cell_type": "code",
   "execution_count": null,
   "metadata": {
    "collapsed": false
   },
   "outputs": [],
   "source": [
    "list0"
   ]
  },
  {
   "cell_type": "code",
   "execution_count": null,
   "metadata": {
    "collapsed": false
   },
   "outputs": [],
   "source": [
    "array0"
   ]
  },
  {
   "cell_type": "markdown",
   "metadata": {},
   "source": [
    "... and addition and other arithmetic reveal some important differences:"
   ]
  },
  {
   "cell_type": "code",
   "execution_count": null,
   "metadata": {
    "collapsed": false
   },
   "outputs": [],
   "source": [
    "print(list0 + list1)\n",
    "print(array0 + array1)\n",
    "print(2 * list0)\n",
    "print(2 * array0)"
   ]
  },
  {
   "cell_type": "markdown",
   "metadata": {},
   "source": [
    "(Note what multiplication does to lists!)"
   ]
  },
  {
   "cell_type": "markdown",
   "metadata": {},
   "source": [
    "***Matrices; sometimes considered as arrays of arrays of numbers***\n",
    "\n",
    "A list can have other lists as it elements, and likewise an array can be described as having other arrays as its elements, so that a matrix can be described as a succession of rows.\n",
    "First, a list of lists can be created:"
   ]
  },
  {
   "cell_type": "code",
   "execution_count": null,
   "metadata": {
    "collapsed": false
   },
   "outputs": [],
   "source": [
    "listoflists = [list0, list1]\n",
    "print(listoflists)"
   ]
  },
  {
   "cell_type": "markdown",
   "metadata": {},
   "source": [
    "Then this can be converted to a two dimensional array:"
   ]
  },
  {
   "cell_type": "code",
   "execution_count": null,
   "metadata": {
    "collapsed": false
   },
   "outputs": [],
   "source": [
    "matrix = array(listoflists)\n",
    "print(matrix)"
   ]
  },
  {
   "cell_type": "markdown",
   "metadata": {},
   "source": [
    "We can also combine arrays into new arrays directly:"
   ]
  },
  {
   "cell_type": "code",
   "execution_count": null,
   "metadata": {
    "collapsed": false
   },
   "outputs": [],
   "source": [
    "anothermatrix = array([array1, array0])\n",
    "anothermatrix"
   ]
  },
  {
   "cell_type": "markdown",
   "metadata": {},
   "source": [
    "Nte that we must use the notation <code>array([...])</code> to do this;\n",
    "without the function <code>array()</code> we would get a *list of arrays*, which is a different animal, and much less fun for doing mathematics with:"
   ]
  },
  {
   "cell_type": "code",
   "execution_count": null,
   "metadata": {
    "collapsed": false
   },
   "outputs": [],
   "source": [
    "listofarrays = [array1, array0]\n",
    "listofarrays"
   ]
  },
  {
   "cell_type": "markdown",
   "metadata": {},
   "source": [
    "***Referring to array elements with double indices, or with successive single indices***\n",
    "\n",
    "The elements of a multimensional array can be referred to with double indices:"
   ]
  },
  {
   "cell_type": "code",
   "execution_count": null,
   "metadata": {
    "collapsed": false
   },
   "outputs": [],
   "source": [
    "matrix[1,2]"
   ]
  },
  {
   "cell_type": "markdown",
   "metadata": {},
   "source": [
    "but you can also use a single index to extract an \"element\" that is a row:"
   ]
  },
  {
   "cell_type": "code",
   "execution_count": null,
   "metadata": {
    "collapsed": false
   },
   "outputs": [],
   "source": [
    "matrix[1]"
   ]
  },
  {
   "cell_type": "markdown",
   "metadata": {},
   "source": [
    "and you can use indices successively, to specify first a row and then an element of that row:"
   ]
  },
  {
   "cell_type": "code",
   "execution_count": null,
   "metadata": {
    "collapsed": false
   },
   "outputs": [],
   "source": [
    "matrix[1][2]"
   ]
  },
  {
   "cell_type": "markdown",
   "metadata": {},
   "source": [
    "This ability to manipulate rows of a matrix can be useful for linear algebra.\n",
    "For example, in a row reduction we might want to subtract twice the first row from the second row, and this is done with:"
   ]
  },
  {
   "cell_type": "code",
   "execution_count": null,
   "metadata": {
    "collapsed": false
   },
   "outputs": [],
   "source": [
    "print('Before the row operation, the matrix is:')\n",
    "print(matrix)\n",
    "matrix[1] = matrix[1] - 2. * matrix[0]\n",
    "print('After the row operation, it is:')\n",
    "print(matrix)"
   ]
  },
  {
   "cell_type": "markdown",
   "metadata": {},
   "source": [
    "**Note well** the effect of Python indexing starting at zero: the indices used with a vector or matrix are all one less than you might expect."
   ]
  },
  {
   "cell_type": "markdown",
   "metadata": {},
   "source": [
    "***Higher dimensional arrays***\n",
    "\n",
    "Arrays with three or more indices are possible, though we will not see much of them in this course:"
   ]
  },
  {
   "cell_type": "code",
   "execution_count": null,
   "metadata": {
    "collapsed": false
   },
   "outputs": [],
   "source": [
    "arrays_now_in_3D = array([matrix, anothermatrix])\n",
    "arrays_now_in_3D"
   ]
  },
  {
   "cell_type": "markdown",
   "metadata": {},
   "source": [
    "###Python tuples\n",
    "\n",
    "One other useful kind of Python collection is a **tuple**, which is a lot like a list except that it is **immutable**: you cannot change individual elements. Tuples are denoted by surrounding the elements with parentheses \"(...)\" in place of the brackets \"[...]\" used with lists:"
   ]
  },
  {
   "cell_type": "code",
   "execution_count": null,
   "metadata": {
    "collapsed": false
   },
   "outputs": [],
   "source": [
    "qtuple = (2, -10, 8)"
   ]
  },
  {
   "cell_type": "code",
   "execution_count": null,
   "metadata": {
    "collapsed": false
   },
   "outputs": [],
   "source": [
    "qtuple"
   ]
  },
  {
   "cell_type": "code",
   "execution_count": null,
   "metadata": {
    "collapsed": false
   },
   "outputs": [],
   "source": [
    "qtuple[2]"
   ]
  },
  {
   "cell_type": "raw",
   "metadata": {},
   "source": [
    "So far, so good, and as with lists above, but this fails:"
   ]
  },
  {
   "cell_type": "code",
   "execution_count": null,
   "metadata": {
    "collapsed": false
   },
   "outputs": [],
   "source": [
    "qtuple[2] = 12"
   ]
  },
  {
   "cell_type": "markdown",
   "metadata": {},
   "source": [
    "Actually, we have seen tuples before without the name being mentioned: when a list of expressions is put on one line separated by commas, the result is a tuple.\n",
    "This is because when creating a tuple, the surrounding parentheses can usually be omitted:"
   ]
  },
  {
   "cell_type": "code",
   "execution_count": null,
   "metadata": {
    "collapsed": false
   },
   "outputs": [],
   "source": [
    "nameandphoneandoffice = \"LeMesurier\", \"Brenton\", \"953-5917\", 200\n",
    "nameandphoneandoffice"
   ]
  },
  {
   "cell_type": "markdown",
   "metadata": {},
   "source": [
    "For now, we have far more use for arrays than for either lists or tuples, but tuples will come up when we start programming with functions (a.k.a. \"procedures\")."
   ]
  }
 ],
 "metadata": {
  "kernelspec": {
   "display_name": "Python 3",
   "language": "python",
   "name": "python3"
  },
  "language_info": {
   "codemirror_mode": {
    "name": "ipython",
    "version": 3
   },
   "file_extension": ".py",
   "mimetype": "text/x-python",
   "name": "python",
   "nbconvert_exporter": "python",
   "pygments_lexer": "ipython3",
   "version": "3.4.3"
  }
 },
 "nbformat": 4,
 "nbformat_minor": 0
}
