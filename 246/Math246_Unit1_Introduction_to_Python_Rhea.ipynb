{
 "cells": [
  {
   "cell_type": "markdown",
   "metadata": {},
   "source": [
    "# Math 246 Unit 1: Introduction to Python\n",
    "\n",
    "## Professor Brenton LeMesurier, August 27, 2015\n",
    "\n",
    "This is an introduction to some basic features of the Python software that we will be using in MATH 245 and 246.  We will mostly use this through the interactive system Spyder, but with some iPython notebooks too.\n",
    "\n",
    "iPython notebooks can show the output given by various Python commands, but I encourage you to also attempt each exercise at your computer.\n",
    "\n",
    "Note that we use the newer version, Python 3.4; that is important if you are downloading software to use on your own computer."
   ]
  },
  {
   "cell_type": "markdown",
   "metadata": {},
   "source": [
    "## Getting Python software for scientific computing\n",
    "\n",
    "In the computer classroom MYBK 200, Python is already available in several forms.  I recommend using Spyder or the bundle Anaconda, which includes Spyder along with iPython and the notebook system *Jupyter*.\n",
    "\n",
    "Spyder includes a collection of useful resources beyond basic Python: extra tools for numerical and scientific computing (Numpy and Scipy), for producing graphs (Matplotlib), and for editing files and debugging programs.\n",
    "\n",
    "If you want to work with Python on your own computer (such as a laptop, which I encourage you bring to class if oyu have one) you can download Ananconda from http://continuum.io/downloads#py34\n",
    "\n",
    "Make sure that you get the version with Python 3.4, not Python 2.7; if necessary, click on \"I want Python 3.4\".\n",
    "\n",
    "Within the Anaconda bundle, we mostly use Spyder, and you might prefer to have the stand-alone version Spyder too: it is bit quicker to start, and double-clicking on a Python file will open it in the stand-alone Spyder.  You can get Spyder installers from these links:\n",
    "- For Windows: https://bitbucket.org/spyder-ide/spyderlib/downloads/spyder-2.3.5.2.win-amd64-py3.4.exe\n",
    "- For Mac OS X: https://bitbucket.org/spyder-ide/spyderlib/downloads/spyder-2.3.5.2-py3.4.dmg\n",
    "- For Linux: https://bitbucket.org/spyder-ide/spyderlib/downloads/spyder-2.3.5.2.zip\n",
    "\n",
    "(I have only tested the Mac OS version; if you have problems with any of these, please let me know!)\n",
    "\n",
    "For more information about downloading and installing, see https://pythonhosted.org/spyder/installation.html\n"
   ]
  },
  {
   "cell_type": "markdown",
   "metadata": {},
   "source": [
    "## Online resources\n",
    "There is a vast array of free online tutorials and documentation for Python and the other tools that we are using, such as\n",
    "\n",
    "- http://www.learnpython.org\n",
    "- https://docs.python.org/2/tutorial/\n",
    "\n",
    "and even complete free online courses like\n",
    "\n",
    "- http://www.codecademy.com/tracks/python\n",
    "- http://ocw.mit.edu/courses/electrical-engineering-and-computer-science/6-189-a-gentle-introduction-to-programming-using-python-january-iap-2011/index.htm\n",
    "\n",
    "These might be useful sometimes, but our direction is a bit different: aiming at what is most important to a mathematics student, rather than a computer science or engineering student."
   ]
  },
  {
   "cell_type": "markdown",
   "metadata": {},
   "source": [
    "##Using Python as a calculator##\n",
    "\n",
    "###Arithmetic###\n",
    "\n",
    "This is mostly easy stuff, but with a few quirks of notation and such to note.\n",
    "\n",
    "First, let's see how to run Python code with the following famous formula. To run the code in a \"code\" box, select the box with the mouse (single click) and then click on the \"play\" button above."
   ]
  },
  {
   "cell_type": "code",
   "execution_count": null,
   "metadata": {
    "collapsed": false
   },
   "outputs": [],
   "source": [
    "2 + 2"
   ]
  },
  {
   "cell_type": "markdown",
   "metadata": {},
   "source": [
    "You should also start Spyder and enter the same expression into its command window.\n",
    "\n",
    "No prize for predicting the above result, but division of two integers requires care:"
   ]
  },
  {
   "cell_type": "code",
   "execution_count": null,
   "metadata": {
    "collapsed": false
   },
   "outputs": [],
   "source": [
    "11 / 4"
   ]
  },
  {
   "cell_type": "markdown",
   "metadata": {},
   "source": [
    "Here Python3 gives a real number answer, whereas some programing languages always given an integer answer for the division of integers, by rounding down (\"truncating\") if necessary.\n",
    "\n",
    "When you want the truncated, integer answer, use a double slash:"
   ]
  },
  {
   "cell_type": "code",
   "execution_count": null,
   "metadata": {
    "collapsed": false
   },
   "outputs": [],
   "source": [
    "11 // 4"
   ]
  },
  {
   "cell_type": "markdown",
   "metadata": {},
   "source": [
    "and to get the remainder, use the percent sign:"
   ]
  },
  {
   "cell_type": "code",
   "execution_count": null,
   "metadata": {
    "collapsed": false
   },
   "outputs": [],
   "source": [
    "11 % 4"
   ]
  },
  {
   "cell_type": "markdown",
   "metadata": {},
   "source": [
    "With multiplication, the only catch is that *there is no multplication sign on the keyboard*, so the asterisk is used instead:"
   ]
  },
  {
   "cell_type": "code",
   "execution_count": null,
   "metadata": {
    "collapsed": false
   },
   "outputs": [],
   "source": [
    "7 * 4"
   ]
  },
  {
   "cell_type": "markdown",
   "metadata": {},
   "source": [
    "There is no way to type superscripts either, so exponentiation uses a double-asterisk (not the \"caret\" or up-arrow as in some languages):"
   ]
  },
  {
   "cell_type": "code",
   "execution_count": null,
   "metadata": {
    "collapsed": false
   },
   "outputs": [],
   "source": [
    "2**5"
   ]
  },
  {
   "cell_type": "markdown",
   "metadata": {},
   "source": [
    "Numbers with exponents can be expressed using this exponential notation, but note how Python outputs them:"
   ]
  },
  {
   "cell_type": "code",
   "execution_count": null,
   "metadata": {
    "collapsed": false
   },
   "outputs": [],
   "source": [
    "5.3*10**21, 7*10**-8"
   ]
  },
  {
   "cell_type": "markdown",
   "metadata": {},
   "source": [
    "This \"E\" notation is the standard way to describe numbers with exponents, and oyu can input them that way too.\n",
    "\n",
    "When printing numbers, Python decides if the number is big enough or small enough to be worth printing with an exponent:"
   ]
  },
  {
   "cell_type": "code",
   "execution_count": null,
   "metadata": {
    "collapsed": false
   },
   "outputs": [],
   "source": [
    "2e-10, 3e-5, 3e-4, 5e+4, 6e15, 6e16"
   ]
  },
  {
   "cell_type": "markdown",
   "metadata": {},
   "source": [
    "###Mathematical functions and constants: module math\n",
    "\n",
    "Python includes many **modules** and **packages** that add useful defintions of functions, constants and such, and for us the most important is <code>math</code> which is a standard part of Python.\n",
    "\n",
    "(Later will see some other modules that are not part of standaerd Pythom, but which Spyder adds to the basic collection:\n",
    "<code>numpy</code>, <code>matplotlib</code>, <code>pylab</code>, and <code>scipy</code>)\n",
    "\n",
    "The quickest way to get all the basic mathematical stuff is with"
   ]
  },
  {
   "cell_type": "code",
   "execution_count": 2,
   "metadata": {
    "collapsed": false
   },
   "outputs": [],
   "source": [
    "from math import *"
   ]
  },
  {
   "cell_type": "markdown",
   "metadata": {},
   "source": [
    "which makes everything in module <code>math</code> available.\n",
    "For example, it gives our two favorite irrational numbers"
   ]
  },
  {
   "cell_type": "code",
   "execution_count": null,
   "metadata": {
    "collapsed": false
   },
   "outputs": [],
   "source": [
    "pi, e"
   ]
  },
  {
   "cell_type": "markdown",
   "metadata": {},
   "source": [
    "and a lot of familiar functions, like"
   ]
  },
  {
   "cell_type": "code",
   "execution_count": null,
   "metadata": {
    "collapsed": false
   },
   "outputs": [],
   "source": [
    "sin(pi/4), cos(pi), cosh(0)"
   ]
  },
  {
   "cell_type": "markdown",
   "metadata": {},
   "source": [
    "Note that **all** functions need parentheses around their arguments; no lazy shortcuts with trig. functions and such."
   ]
  },
  {
   "cell_type": "markdown",
   "metadata": {},
   "source": [
    "The asterisk in the above command _from math import *_ means \"use everything in this module\".\n",
    "Sometimes it is better to specify just the items that you will use: we could have got the five items used above with"
   ]
  },
  {
   "cell_type": "code",
   "execution_count": null,
   "metadata": {
    "collapsed": true
   },
   "outputs": [],
   "source": [
    "from math import pi, e, sin, cos, cosh"
   ]
  },
  {
   "cell_type": "markdown",
   "metadata": {},
   "source": [
    "### Logarithmic functions\n",
    "\n",
    "There is also a function log(), but which base does it use?"
   ]
  },
  {
   "cell_type": "code",
   "execution_count": null,
   "metadata": {
    "collapsed": false
   },
   "outputs": [],
   "source": [
    "log(10), log(e)"
   ]
  },
  {
   "cell_type": "markdown",
   "metadata": {},
   "source": [
    "Running the above cell reveals that \"log()\" is the *natural logarithm*, base e; what mathematicians usually call \"$\\ln$\"."
   ]
  },
  {
   "cell_type": "markdown",
   "metadata": {},
   "source": [
    "It is time to explore: try to find the base 10 logarithm. (Use Spyder to test your ideas.)\n",
    "A big hint: look at the following, which is yet another logarithm; one of particular interest in computer science."
   ]
  },
  {
   "cell_type": "code",
   "execution_count": 3,
   "metadata": {
    "collapsed": false
   },
   "outputs": [
    {
     "data": {
      "text/plain": [
       "6.0"
      ]
     },
     "execution_count": 3,
     "metadata": {},
     "output_type": "execute_result"
    }
   ],
   "source": [
    "log(64,2)"
   ]
  },
  {
   "cell_type": "markdown",
   "metadata": {},
   "source": [
    "### Powers and roots\n",
    "A square root can of course be computed using the 1/2 power, as with"
   ]
  },
  {
   "cell_type": "code",
   "execution_count": null,
   "metadata": {
    "collapsed": false
   },
   "outputs": [],
   "source": [
    "16**0.5"
   ]
  },
  {
   "cell_type": "raw",
   "metadata": {},
   "source": [
    "but this function is important enough to have a named form:"
   ]
  },
  {
   "cell_type": "code",
   "execution_count": null,
   "metadata": {
    "collapsed": false
   },
   "outputs": [],
   "source": [
    "sqrt(2)"
   ]
  },
  {
   "cell_type": "markdown",
   "metadata": {},
   "source": [
    "**Exercise:** here is a *wrong* way to use the exponential notation in an attempt to compute a square root: explain what goes wrong!"
   ]
  },
  {
   "cell_type": "code",
   "execution_count": null,
   "metadata": {
    "collapsed": false
   },
   "outputs": [],
   "source": [
    "16**1/2"
   ]
  },
  {
   "cell_type": "markdown",
   "metadata": {},
   "source": [
    "### Explain What went wrong.\n",
    "\n",
    "Type your explanation into the following empty \"markdown\" text cell, and save your modified version of this file to submit.  This gives you something to practice with submitting work through OAKS, which is how most work will be done in this course."
   ]
  },
  {
   "cell_type": "markdown",
   "metadata": {},
   "source": []
  },
  {
   "cell_type": "markdown",
   "metadata": {},
   "source": [
    "### More about input to Python notebooks: devising and evaluating your own formula\n",
    "\n",
    "It is time to practice with basic Python commands, and using them in notebooks.\n",
    "\n",
    "- Start by reproducing some of the above calculations in Spyder.\n",
    "\n",
    "- Next, with the above warnings and examples in mind, evaluate\n",
    "$\\displaystyle \\frac{1 + \\sqrt{2}}{2 \\pi}.$\n",
    "(The correct answer is 0.384...)\n",
    "\n",
    "- Then explore the command history and editing features, and use these to evaluate\n",
    "$\\displaystyle \\frac{1 - \\sqrt{2}}{2 \\pi}$\n",
    "by modifying the previous formula, *without* typing the entire new expression from scratch.\n",
    "\n",
    "\n",
    "Do this first in Spyder, typing the Python commands into the input window (\"iPython console\").\n",
    "\n",
    "Then to conclude, put your work into a copy of this notebook: add cells below here, put your commands into them, run the cells, and save the resulting work -- and submit the file through OAKS."
   ]
  },
  {
   "cell_type": "code",
   "execution_count": 5,
   "metadata": {
    "collapsed": false
   },
   "outputs": [
    {
     "data": {
      "text/plain": [
       "0.38423402213117186"
      ]
     },
     "execution_count": 5,
     "metadata": {},
     "output_type": "execute_result"
    }
   ],
   "source": [
    "(1 + sqrt(2))/(2 * pi)"
   ]
  },
  {
   "cell_type": "code",
   "execution_count": 7,
   "metadata": {
    "collapsed": false
   },
   "outputs": [
    {
     "data": {
      "text/plain": [
       "-0.0659241359473812"
      ]
     },
     "execution_count": 7,
     "metadata": {},
     "output_type": "execute_result"
    }
   ],
   "source": [
    "(1 - sqrt(2))/(2 * pi)"
   ]
  },
  {
   "cell_type": "code",
   "execution_count": null,
   "metadata": {
    "collapsed": true
   },
   "outputs": [],
   "source": []
  }
 ],
 "metadata": {
  "kernelspec": {
   "display_name": "Python 2",
   "language": "python",
   "name": "python2"
  },
  "language_info": {
   "codemirror_mode": {
    "name": "ipython",
    "version": 2
   },
   "file_extension": ".py",
   "mimetype": "text/x-python",
   "name": "python",
   "nbconvert_exporter": "python",
   "pygments_lexer": "ipython2",
   "version": "2.7.10"
  }
 },
 "nbformat": 4,
 "nbformat_minor": 0
}
