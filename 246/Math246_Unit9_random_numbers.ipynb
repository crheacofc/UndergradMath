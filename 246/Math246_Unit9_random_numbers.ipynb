{
 "cells": [
  {
   "cell_type": "markdown",
   "metadata": {},
   "source": [
    "# Math 246 Unit 9: Random numbers, and a simple example of simulation\n",
    "\n",
    "### Brenton LeMesurier,  Thursday November 19, 2015\n",
    "\n",
    "Random numbers are often useful both for simulation of physical processes and for generating a coleciot of test cases.\n",
    "Here we will do a mathematical simulation: approximating $pi$ on the basis that the unit circle occupies a fraction $pi/4$ of the $2 \\times 2$ square enclosing it.\n",
    "\n",
    "Actualy, the best we can do is *pseudo-random* numbers generatd by algorithms that actual produce a very long but eventual repaeig sequence of numbers."
   ]
  },
  {
   "cell_type": "markdown",
   "metadata": {},
   "source": [
    "## Module random within package numpy\n",
    "\n",
    "The pseudo-random nyber generator we use are provided by package numpy in its module random – full name `numpy.random`.\n",
    "We introduce the abbreviation \"npr\" for this, along with the standard abbreviation \"np\" for numpy:"
   ]
  },
  {
   "cell_type": "code",
   "execution_count": 1,
   "metadata": {},
   "outputs": [],
   "source": [
    "import numpy as np\n",
    "import numpy.random as npr"
   ]
  },
  {
   "cell_type": "markdown",
   "metadata": {},
   "source": [
    "This module contains numerous random number generators; here we look at just a few."
   ]
  },
  {
   "cell_type": "markdown",
   "metadata": {},
   "source": [
    "## Uniformly distributed real numbers: `numpy.random.rand`\n",
    "\n",
    "First, the function `rand` (full name `numpy.random.rand`) generates uniformly diatributed real numbers in the interval $[0,1)$.\n",
    "To generate a single value, use it with no argument:"
   ]
  },
  {
   "cell_type": "code",
   "execution_count": 2,
   "metadata": {},
   "outputs": [
    {
     "name": "stdout",
     "output_type": "stream",
     "text": [
      "0.5831761011474371\n",
      "0.3778295131961672\n",
      "0.44280821200807174\n",
      "0.9003075432407449\n"
     ]
    }
   ],
   "source": [
    "n_samples = 4\n",
    "for sample in range(n_samples):\n",
    "    print(npr.rand())"
   ]
  },
  {
   "cell_type": "markdown",
   "metadata": {},
   "source": [
    "To generate an array of values all at once, one can specify how many as the first and only:"
   ]
  },
  {
   "cell_type": "code",
   "execution_count": 3,
   "metadata": {},
   "outputs": [
    {
     "name": "stdout",
     "output_type": "stream",
     "text": [
      "[ 0.74267463  0.54546167  0.08777314  0.53571539]\n"
     ]
    }
   ],
   "source": [
    "numbers = npr.rand(n_samples)\n",
    "print(numbers)"
   ]
  },
  {
   "cell_type": "markdown",
   "metadata": {},
   "source": [
    "We can also generate multi-dimensional arrays, by giving the lengths of each dimension as arguments:"
   ]
  },
  {
   "cell_type": "code",
   "execution_count": 4,
   "metadata": {},
   "outputs": [
    {
     "name": "stdout",
     "output_type": "stream",
     "text": [
      "A two-dimensional array of random numbers:\n",
      " [[ 0.23777286  0.71211757  0.19658881]\n",
      " [ 0.28332012  0.49456663  0.47288411]]\n",
      "A three-dimensional array of random numbers:\n",
      " [[[ 0.02047323  0.2334306   0.62500741  0.69325521]\n",
      "  [ 0.14212129  0.22734591  0.19409425  0.08587863]\n",
      "  [ 0.32504998  0.18291458  0.69300375  0.67766151]]\n",
      "\n",
      " [[ 0.52398229  0.83594288  0.44910537  0.05114869]\n",
      "  [ 0.87640731  0.45032081  0.91731495  0.51147435]\n",
      "  [ 0.0593191   0.01292466  0.04085691  0.9711921 ]]]\n"
     ]
    }
   ],
   "source": [
    "numbers2d = npr.rand(2,3)\n",
    "print('A two-dimensional array of random numbers:\\n', numbers2d)\n",
    "numbers3d = npr.rand(2,3,4)\n",
    "print('A three-dimensional array of random numbers:\\n', numbers3d)"
   ]
  },
  {
   "cell_type": "markdown",
   "metadata": {},
   "source": [
    "## Normally distributed real numbers: `numpy.random.randn`\n",
    "\n",
    "The function `randn` has the same interface, but generates numbers with the standard normal distribution of mean zero, standard deviation one:"
   ]
  },
  {
   "cell_type": "code",
   "execution_count": 5,
   "metadata": {},
   "outputs": [
    {
     "name": "stdout",
     "output_type": "stream",
     "text": [
      "Ten normally distributed values:\n",
      " [ 0.92128705 -0.286562   -0.12959645  0.57011152  0.01806076  2.42976356\n",
      "  0.73431243  1.63968914 -0.02817224  0.03978772  0.48766957 -1.46185991\n",
      "  0.62866372 -0.7982065  -0.47764834 -0.81671435 -0.98416506 -1.30884743\n",
      "  0.8151803   0.90770292]\n"
     ]
    }
   ],
   "source": [
    "print('Ten normally distributed values:\\n', npr.randn(20))"
   ]
  },
  {
   "cell_type": "code",
   "execution_count": 6,
   "metadata": {},
   "outputs": [
    {
     "name": "stdout",
     "output_type": "stream",
     "text": [
      "The mean of these 10000000 samples is -0.000509452243552\n",
      "and their standard deviation is 1.00011049891\n"
     ]
    }
   ],
   "source": [
    "n_samples = 10**7\n",
    "normf_samples = npr.randn(n_samples)\n",
    "mean = sum(normf_samples)/n_samples\n",
    "print('The mean of these', n_samples, 'samples is', mean)\n",
    "standard_deviation = np.sqrt((sum(normf_samples**2) - mean**2)/n_samples)\n",
    "print('and their standard deviation is', standard_deviation)"
   ]
  },
  {
   "cell_type": "markdown",
   "metadata": {},
   "source": [
    "## Random integers: `numpy.random.random_integers`\n",
    "\n",
    "One can generate integers, uniformly distributed betwen specified lower and upper values:"
   ]
  },
  {
   "cell_type": "code",
   "execution_count": 7,
   "metadata": {},
   "outputs": [
    {
     "name": "stdout",
     "output_type": "stream",
     "text": [
      "60 random dice rolls:\n",
      " [4 1 6 2 3 3 1 2 2 2 3 3 2 5 2 2 2 1 4 2 3 2 3 2 1 3 4 4 3 3 5 5 6 2 4 5 2\n",
      " 5 1 2 1 4 4 6 2 5 3 1 4 5 4 2 4 5 2 3 4 6 4 6]\n",
      "1 occured 7 times\n",
      "2 occured 17 times\n",
      "3 occured 11 times\n",
      "4 occured 12 times\n",
      "5 occured 8 times\n",
      "6 occured 5 times\n"
     ]
    },
    {
     "name": "stderr",
     "output_type": "stream",
     "text": [
      "/Users/crhea/anaconda/lib/python3.6/site-packages/ipykernel/__main__.py:2: DeprecationWarning: This function is deprecated. Please call randint(1, 6 + 1) instead\n",
      "  from ipykernel import kernelapp as app\n"
     ]
    }
   ],
   "source": [
    "n_dice = 60\n",
    "dice_rolls = npr.random_integers(1, 6, n_dice)\n",
    "print(n_dice, 'random dice rolls:\\n', dice_rolls)\n",
    "# Count each outcome: this needs a list instead of an array:\n",
    "dice_rolls_list = list(dice_rolls)\n",
    "for value in (1, 2, 3, 4, 5, 6):\n",
    "    count = dice_rolls_list.count(value)\n",
    "    print(value, 'occured', count, 'times')"
   ]
  },
  {
   "cell_type": "markdown",
   "metadata": {},
   "source": [
    "Things average out with more rolls:"
   ]
  },
  {
   "cell_type": "code",
   "execution_count": 8,
   "metadata": {},
   "outputs": [
    {
     "name": "stderr",
     "output_type": "stream",
     "text": [
      "/Users/crhea/anaconda/lib/python3.6/site-packages/ipykernel/__main__.py:2: DeprecationWarning: This function is deprecated. Please call randint(1, 6 + 1) instead\n",
      "  from ipykernel import kernelapp as app\n"
     ]
    },
    {
     "name": "stdout",
     "output_type": "stream",
     "text": [
      "1 occured a fraction 0.167377 of the time\n",
      "2 occured a fraction 0.166986 of the time\n",
      "3 occured a fraction 0.166364 of the time\n",
      "4 occured a fraction 0.166966 of the time\n",
      "5 occured a fraction 0.165416 of the time\n",
      "6 occured a fraction 0.166891 of the time\n"
     ]
    }
   ],
   "source": [
    "n_dice = 10**6\n",
    "dice_rolls = npr.random_integers(1, 6, n_dice)\n",
    "# Count each outcome: this needs a list instead of an array:\n",
    "dice_rolls_list = list(dice_rolls)\n",
    "for value in (1, 2, 3, 4, 5, 6):\n",
    "    count = dice_rolls_list.count(value)\n",
    "    print(value, 'occured a fraction', count/n_dice, 'of the time')"
   ]
  },
  {
   "cell_type": "markdown",
   "metadata": {},
   "source": [
    "# Exercise\n",
    "\n",
    "Approximate $\\pi$ as follows:\n",
    "- generate a long list of random points in the square $[-1,1] \\times [-1,1]$ that circumscribes the unit circle,\n",
    "by genrating succwssive random values for both the $x$ and $y$ coordinates.\n",
    "- compute the fraction of these that are inside the unit circle, which should be approximately $\\pi/4$.\n",
    "- Multiply by four and ther you are!\n",
    "\n",
    "Hint: it takes a lot of samples to get decent accuracy, so experiment with successively more of them.\n",
    "\n",
    "Also, repeat the trial several times with each choice of number of samples, to see the variation in accuracy."
   ]
  }
 ],
 "metadata": {
  "kernelspec": {
   "display_name": "Python 3",
   "language": "python",
   "name": "python3"
  },
  "language_info": {
   "codemirror_mode": {
    "name": "ipython",
    "version": 3
   },
   "file_extension": ".py",
   "mimetype": "text/x-python",
   "name": "python",
   "nbconvert_exporter": "python",
   "pygments_lexer": "ipython3",
   "version": "3.6.1"
  }
 },
 "nbformat": 4,
 "nbformat_minor": 1
}
