{
 "cells": [
  {
   "cell_type": "markdown",
   "metadata": {},
   "source": [
    "## Exercise 1:\n",
    "What range of indices do your get with :-1 ? Be careful!\n",
    "\n",
    "You get the last column!! "
   ]
  },
  {
   "cell_type": "markdown",
   "metadata": {},
   "source": [
    "## Exercise 2:\n"
   ]
  },
  {
   "cell_type": "code",
   "execution_count": 1,
   "metadata": {
    "collapsed": false
   },
   "outputs": [
    {
     "data": {
      "text/plain": [
       "matrix([[ 0.52152103,  0.99144951,  0.04075274],\n",
       "        [ 0.9756034 ,  0.08359366,  0.86994669],\n",
       "        [ 0.10994968,  0.48752431,  0.85044137]])"
      ]
     },
     "execution_count": 1,
     "metadata": {},
     "output_type": "execute_result"
    }
   ],
   "source": [
    "from numpy import array, matrix, zeros, random, linalg\n",
    "\n",
    "A = matrix(random.rand(3,3))\n",
    "A"
   ]
  },
  {
   "cell_type": "code",
   "execution_count": 5,
   "metadata": {
    "collapsed": false
   },
   "outputs": [
    {
     "name": "stdout",
     "output_type": "stream",
     "text": [
      "x is \n",
      " [[ 0.30157691]\n",
      " [ 0.75480264]\n",
      " [ 0.23255927]]\n",
      "\n",
      "b is \n",
      " [[ 0.91510483]\n",
      " [ 0.55963034]\n",
      " [ 0.59892095]]\n"
     ]
    }
   ],
   "source": [
    "## We are going to choose x to make sure we solve properly later. \n",
    "x_given = matrix(random.rand(3,1))\n",
    "print(\"x is \\n\",x_given)\n",
    "b = A.dot(x_given)\n",
    "print()\n",
    "print(\"b is \\n\",b)"
   ]
  },
  {
   "cell_type": "code",
   "execution_count": 9,
   "metadata": {
    "collapsed": false
   },
   "outputs": [
    {
     "name": "stdout",
     "output_type": "stream",
     "text": [
      "Ab is \n",
      " [[ 0.52152103  0.99144951  0.04075274  0.91510483]\n",
      " [ 0.9756034   0.08359366  0.86994669  0.55963034]\n",
      " [ 0.10994968  0.48752431  0.85044137  0.59892095]]\n"
     ]
    }
   ],
   "source": [
    "Ab = matrix(zeros((3,4)))\n",
    "Ab[:,:3]= A\n",
    "Ab[:,3]= b\n",
    "print(\"Ab is \\n\",Ab)"
   ]
  },
  {
   "cell_type": "code",
   "execution_count": 10,
   "metadata": {
    "collapsed": false
   },
   "outputs": [
    {
     "name": "stdout",
     "output_type": "stream",
     "text": [
      "Ab is initially\n",
      "[[ 0.52152103  0.99144951  0.04075274  0.91510483]\n",
      " [ 0.9756034   0.08359366  0.86994669  0.55963034]\n",
      " [ 0.10994968  0.48752431  0.85044137  0.59892095]]\n",
      "The row multiplier is m =  1.87068851455\n",
      "Ab is now\n",
      "[[ 0.52152103  0.99144951  0.04075274  0.91510483]\n",
      " [ 0.         -1.77109955  0.79371101 -1.15224576]\n",
      " [ 0.10994968  0.48752431  0.85044137  0.59892095]]\n",
      "The row multiplier is m =  0.21082502125\n",
      "Ab is now\n",
      "[[ 0.52152103  0.99144951  0.04075274  0.91510483]\n",
      " [ 0.         -1.77109955  0.79371101 -1.15224576]\n",
      " [ 0.          0.27850195  0.84184968  0.40599395]]\n",
      "The row multiplier is m =  -0.157248048307\n",
      "Ab is now\n",
      "[[ 0.52152103  0.99144951  0.04075274  0.91510483]\n",
      " [ 0.         -1.77109955  0.79371101 -1.15224576]\n",
      " [ 0.          0.          0.96665918  0.22480556]]\n"
     ]
    }
   ],
   "source": [
    "print(\"Ab is initially\")\n",
    "print(Ab)\n",
    "m = Ab[1,0]/Ab[0,0]\n",
    "print(\"The row multiplier is m = \", m)\n",
    "Ab[1,:] = Ab[1,:] - m * Ab[0,:]\n",
    "print(\"Ab is now\")\n",
    "print(Ab)\n",
    "\n",
    "m = Ab[2,0]/Ab[0,0]\n",
    "print(\"The row multiplier is m = \", m)\n",
    "Ab[2,:] = Ab[2,:] - m * Ab[0,:]\n",
    "print(\"Ab is now\")\n",
    "print(Ab)\n",
    "\n",
    "m = Ab[2,1]/Ab[1,1]\n",
    "print(\"The row multiplier is m = \", m)\n",
    "Ab[2,1:] = Ab[2,1:] - m * Ab[1,1:]\n",
    "print(\"Ab is now\")\n",
    "print(Ab)\n",
    "\n"
   ]
  },
  {
   "cell_type": "code",
   "execution_count": 11,
   "metadata": {
    "collapsed": false
   },
   "outputs": [
    {
     "name": "stdout",
     "output_type": "stream",
     "text": [
      "The inverse of A is \n",
      "[[ 0.39538645  0.92208477 -0.96217999]\n",
      " [ 0.82211657 -0.49172036  0.4636028 ]\n",
      " [-0.52240453  0.16267165  1.03449077]]\n",
      "The solution is\n",
      "[[ 0.30157691]\n",
      " [ 0.75480264]\n",
      " [ 0.23255927]]\n"
     ]
    }
   ],
   "source": [
    "A_mat = matrix(A)\n",
    "b_mat = matrix(b)\n",
    "A_inverse = A_mat.I\n",
    "print(\"The inverse of A is \")\n",
    "print(A_inverse)\n",
    "x = A_inverse.dot(b)\n",
    "print(\"The solution is\")\n",
    "print(x)"
   ]
  },
  {
   "cell_type": "code",
   "execution_count": 12,
   "metadata": {
    "collapsed": false
   },
   "outputs": [
    {
     "name": "stdout",
     "output_type": "stream",
     "text": [
      "Using the numpy solve function we get\n",
      "[[ 0.30157691]\n",
      " [ 0.75480264]\n",
      " [ 0.23255927]]\n"
     ]
    }
   ],
   "source": [
    "x = linalg.solve(A_mat,b_mat)\n",
    "print(\"Using the numpy solve function we get\")\n",
    "print(x)"
   ]
  },
  {
   "cell_type": "code",
   "execution_count": null,
   "metadata": {
    "collapsed": true
   },
   "outputs": [],
   "source": []
  }
 ],
 "metadata": {
  "kernelspec": {
   "display_name": "Python 3",
   "language": "python",
   "name": "python3"
  },
  "language_info": {
   "codemirror_mode": {
    "name": "ipython",
    "version": 3
   },
   "file_extension": ".py",
   "mimetype": "text/x-python",
   "name": "python",
   "nbconvert_exporter": "python",
   "pygments_lexer": "ipython3",
   "version": "3.5.2"
  }
 },
 "nbformat": 4,
 "nbformat_minor": 0
}
